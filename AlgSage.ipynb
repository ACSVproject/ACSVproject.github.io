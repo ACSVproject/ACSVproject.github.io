{
 "cells": [
  {
   "cell_type": "markdown",
   "metadata": {},
   "source": [
    "## Sage companion to *Asymptotics of coefficients of algebraic series via embedding into rational series* by Torin Greenwood, Stephen Melczer, Tiadora Ruza, and Mark C. Wilson. \n",
    "\n",
    "The examples listed below are detailed in [the supplement to that paper](http://acsvproject.com/AlgTest.pdf)."
   ]
  },
  {
   "cell_type": "markdown",
   "metadata": {},
   "source": [
    "### Sage Code for Embedding from Proposition 3 of our Paper"
   ]
  },
  {
   "cell_type": "code",
   "execution_count": 1,
   "metadata": {
    "jupyter": {
     "source_hidden": false
    }
   },
   "outputs": [],
   "source": [
    "var('Y,x,y,z,u,v,w,p,q,r,s,t,a,b,c,p1,p2,p3,q1,q2,q3,s1,s2')\n",
    "# Y will always be the additional variable.\n",
    "# P will be the minimal polynomial\n",
    "# var will be the variable to which Y is attached.\n",
    "def Furstenberg(P, f, varToAttach, verbose=false, numTerms = 20):\n",
    "    vars = [var for var in f.variables()]\n",
    "    varIndex = -1\n",
    "    for i in range(len(f.variables())):\n",
    "        if varToAttach == f.variables()[i]:\n",
    "            varIndex = i\n",
    "    if varIndex == -1:\n",
    "        print(\"The variable to attach isn't a variable of f.\")\n",
    "        return -1\n",
    "    KK = PolynomialRing(QQ, vars + [Y])\n",
    "    if not diff(P,Y).subs({a:0 for a in P.variables()}) == 0:\n",
    "        if P.subs({Y:f}).canonicalize_radical() == 0:\n",
    "            print(\"The minimal polynomial is correct.\")\n",
    "            PartialSeries = f.taylor([v for v in f.variables()], 0, 20)\n",
    "            if PartialSeries.subs({varToAttach:0}) == 0:\n",
    "                if verbose == true:\n",
    "                    print(\"f appears to have no constant terms with respect to \", varToAttach)\n",
    "                F = SR((diff(P,Y)/P).subs({varToAttach:varToAttach*Y})*Y^2)\n",
    "                F = simplify(F).factor()\n",
    "                print(\"The Furstenberg embedding is:\")\n",
    "                show(F)\n",
    "#                 for v in vars:\n",
    "#                     assume(v>0)\n",
    "                TaylorSeriesFList = list(KK(F.taylor([v for v in F.variables()], 0, 2*numTerms + 2)))\n",
    "                TaylorSeriesGoalList = list(KK(f.taylor([v for v in f.variables()], 0, numTerms)))\n",
    "                if verbose==true:\n",
    "                    print(\"The Taylor series for f has terms:\")\n",
    "                    print(TaylorSeriesGoalList)\n",
    "                    print(\"The Taylor series for F has terms:\")\n",
    "                    print(TaylorSeriesFList)\n",
    "                count = 0\n",
    "                for term in TaylorSeriesGoalList:\n",
    "                    GoalList = list(term[1].exponents()[0])\n",
    "                    GoalList[-1] = term[1].exponents()[0][varIndex]\n",
    "                    GoalCount = 0\n",
    "                    for searchterm in TaylorSeriesFList:\n",
    "                        if list(searchterm[1].exponents()[0]) == GoalList:\n",
    "                            if searchterm[0] == term[0]:\n",
    "                                GoalCount = 1\n",
    "                            else:\n",
    "                                GoalCount = -1\n",
    "                    if GoalCount < 1:\n",
    "                        count = count + 1\n",
    "                if count == 0:\n",
    "                    print(\"Out of terms that were checked, all terms agree.\")\n",
    "#                     print(latex(F))\n",
    "                    return F\n",
    "                else:\n",
    "                    printf(\"Some terms disagreed: this embedding is not accurate.\")\n",
    "            else:\n",
    "                print(\"subbing in \", varToAttach, \"= 0 yields:\")\n",
    "                print(PartialSeries.subs({varToAttach:0}))\n",
    "                print(\"f has a non-zero constant term with respect to \", varToAttach, \", so Furstenberg cannot be applied without additional manipulations.\")\n",
    "        else:\n",
    "            print(\"The minimal polynomial was incorrect.\")\n",
    "    else:\n",
    "        print(\"The derivative of the minimal polynomial is zero.  Check for extraneous factors in the minimal polynomial, try  a substitution, or use Safonov's algorithm.\")"
   ]
  },
  {
   "cell_type": "markdown",
   "metadata": {},
   "source": [
    "### Imported Code for Multivariate Asymptotics"
   ]
  },
  {
   "cell_type": "code",
   "execution_count": 2,
   "metadata": {
    "jupyter": {
     "source_hidden": false
    }
   },
   "outputs": [],
   "source": [
    "# This cell imports the code for smooth asymptotics from Chapter 5\n",
    "# of An Invitation to Analytic Combinatorics: From One to Several Variables\n",
    "# by Stephen Melczer (available at melczer.ca/textbook/)\n",
    "\n",
    "# Set a parameter to help simplify some algebraic numbers\n",
    "maxima_calculus('algebraic: true;')\n",
    "\n",
    "# Procedure to get Hessian appearing in asymptotics\n",
    "# Input: H, member of the symbolic ring\n",
    "#        r, direction vector (which can contain symbolic entries)\n",
    "#        vars, vector of variables\n",
    "#        CP, a dictionary mapping elements of vars\n",
    "# Output: The Hessian H defined in Lemma 5.5 of the textbook at the point w defined by CP\n",
    "def getHes(H,r,vars,CP):\n",
    "    dd = len(vars)\n",
    "    V = zero_vector(SR,dd)\n",
    "    U = matrix(SR,dd)\n",
    "    M = matrix(SR,dd-1)\n",
    "\n",
    "    for j in range(dd):\n",
    "        V[j] = r[j]/r[-1]\n",
    "        for i in range(dd):\n",
    "            U[i,j] = vars[i]*vars[j]*diff(H,vars[i],vars[j])/vars[-1]/diff(H,vars[-1])\n",
    "    for i in range(dd-1):\n",
    "        for j in range(dd-1):\n",
    "            M[i,j] = V[i]*V[j] + U[i,j] - V[j]*U[i,-1] - V[i]*U[j,-1] + V[i]*V[j]*U[-1,-1]\n",
    "            if i == j: M[i,j] = M[i,j] + V[i]\n",
    "    return M(CP)\n",
    "\n",
    "# Procedure to apply differential operator to f and set all variables to zero\n",
    "# Input: dop, element of a DifferentialWeylAlgebra over a polynomial ring\n",
    "#        f, an element of the base polynomial ring of dop\n",
    "# Output: dop(f) evaluated when all variables are zero\n",
    "def eval_op(dop, f):\n",
    "    if len(f.parent().gens()) == 1:\n",
    "        return add([prod([factorial(k) for k in E[0][1]])*E[1]*f[E[0][1][0]] for E in dop])\n",
    "    else:\n",
    "        return add([prod([factorial(k) for k in E[0][1]])*E[1]*f[(v for v in E[0][1])] for E in dop])\n",
    "\n",
    "# Procedure to get critical points of rational function with denominator H, in direction r\n",
    "# Input: H, member of the symbolic ring\n",
    "#        r, direction vector (which can contain symbolic entries)\n",
    "#        vars, vector of variables\n",
    "# Output: Solutions (if found by solve) of the smooth critical point equations of H in the direction r\n",
    "def critpt(H,r,vars):\n",
    "    d = len(vars)\n",
    "    criteqs = [r[j]*vars[0]*diff(H,vars[0]) - r[0]*vars[j]*diff(H,vars[j]) for j in range(1,d)]+[H]\n",
    "    CritSols = solve(criteqs,vars)\n",
    "#     The following code factors the solutions before displaying them.\n",
    "    CPList = []\n",
    "    for solution in CritSols:\n",
    "        CPDict = [(vars[0], factor(solution[0].rhs()))]\n",
    "        for i in range(1,len(vars)):\n",
    "            CPDict = CPDict + [(vars[i], factor(solution[i].rhs()))]\n",
    "        CPList = CPList + [dict(CPDict)]\n",
    "    return CPList\n",
    "\n",
    "# This searches for critical points that are not smooth.\n",
    "# The final argument params should include all parameters in the generating function and the direction vector.\n",
    "# For most of the applications below, the only relevant parameter is p from the direction r = [p, (1-p), p].\n",
    "def nonsmoothpt(H,r,vars,params=[p]):\n",
    "    d = len(vars)\n",
    "    criteqs = [r[j]*vars[0]*diff(H,vars[0]) - r[0]*vars[j]*diff(H,vars[j]) for j in range(1,d)]+[H]+[diff(H,vars[0])]\n",
    "    return solve(criteqs,vars+params,solution_dict=true)\n",
    "\n",
    "# Procedure to compute asymptotic contribution of a strictly minimal contributing point\n",
    "# Input: G, member of the symbolic ring\n",
    "#        H, member of the symbolic ring\n",
    "#        r, direction vector (which can contain symbolic entries)\n",
    "#        vars, vector of variables\n",
    "#        CP, a dictionary mapping elements of vars to coordinates of a strictly minimal contributing point\n",
    "#        M, positive integer describing the number of terms in the asymptotic expansion to compute\n",
    "#        g, parametrization of variable vars[-1] near CP, in terms of the remaining variables\n",
    "# Output: ex, pw, se such that ex*pw*(se+O(n^(M-1)) gives an asymptotic expansion of the r-diagonal of \n",
    "#         G/H in the variables vars, to order M.\n",
    "# NOTE: Unlike the textbook, M here refers to the number of terms in the expansion\n",
    "#       (not the order of the expansion, so M should be at least 1)\n",
    "def smoothContrib(G,H,r,vars,CP,M,g):\n",
    "    # Preliminary definitions\n",
    "    dd = len(vars)\n",
    "    field = SR\n",
    "    tvars = list(var('t%d'%i) for i in range(dd-1))\n",
    "    dvars = list(var('dt%d'%i) for i in range(dd-1))\n",
    "\n",
    "    # Define differential Weyl algebra and set variable names\n",
    "    W = DifferentialWeylAlgebra(PolynomialRing(field,tvars))\n",
    "    WR = W.base_ring()\n",
    "    T = PolynomialRing(field,tvars).gens()\n",
    "    D = list(W.differentials())\n",
    "\n",
    "    # Compute Hessian matrix and differential operator Epsilon\n",
    "    HES = getHes(H,r,vars,CP)\n",
    "    HESinv = HES.inverse()\n",
    "    v = matrix(W,[D[k] for k in range(dd-1)])\n",
    "    Epsilon = -(v * HESinv.change_ring(W) * v.transpose())[0,0]\n",
    "\n",
    "    # Define quantities for calculating asymptotics\n",
    "    tsubs = [v == v.subs(CP)*exp(I*t) for [v,t] in zip(vars,tvars)]\n",
    "    tsubs += [vars[-1]==g.subs(tsubs)]\n",
    "    P = (-G/g/diff(H,vars[-1])).subs(tsubs)\n",
    "    psi = log(g.subs(tsubs)/g.subs(CP)) + I * add([r[k]*tvars[k] for k in range(dd-1)])/r[-1]\n",
    "    v = matrix(SR,[tvars[k] for k in range(dd-1)])\n",
    "    psiTilde = psi - (v * HES * v.transpose())[0,0]/2\n",
    "\n",
    "    # Recursive function to convert symbolic expression to polynomial in t variables\n",
    "    def to_poly(p,k):\n",
    "        if k == 0:\n",
    "            return add([a*T[k]^int(b) for [a,b] in p.coefficients(tvars[k])])\n",
    "        return add([to_poly(a,k-1)*T[k]^int(b) for [a,b] in p.coefficients(tvars[k])])\n",
    "\n",
    "    # Compute Taylor expansions to sufficient orders\n",
    "    N = 2*M\n",
    "    PsiSeries = to_poly(taylor(psiTilde,*((v,0) for v in tvars), N),dd-2)\n",
    "    PSeries = to_poly(taylor(P,*((v,0) for v in tvars), N),dd-2)\n",
    "\n",
    "    # Precompute products used for asymptotics\n",
    "    EE = [Epsilon^k for k in range(3*M-2)]\n",
    "    PP = [PSeries] + [0 for k in range(2*M-2)]\n",
    "    for k in range(1,2*M-1):\n",
    "        PP[k] = PP[k-1]*PsiSeries\n",
    "    \n",
    "    # Function to compute constants appearing in asymptotic expansion\n",
    "    def Clj(l,j):\n",
    "        return (-1)^j*SR(eval_op(EE[l+j],PP[l]))/(2^(l+j)*factorial(l)*factorial(l+j))\n",
    "    \n",
    "    # Compute different parts of asymptotic expansion\n",
    "    var('n')\n",
    "    ex = (prod([1/v^k for (v,k) in zip(vars,r)]).subs(CP).canonicalize_radical())^n\n",
    "    pw = (r[-1]*n)^((1-dd)/2)\n",
    "    se = sqrt((2*pi)^(1-dd)/HES.det()) * add([add([Clj(l,j) for l in range(2*j+1)])/(r[-1]*n)^j for j in range(M)])\n",
    "    \n",
    "    return ex, pw, se.canonicalize_radical()\n",
    "\n",
    "# Procedure to aid in printing an asymptotic expansion\n",
    "# Procedure to get critical points of rational function with denominator H, in direction r\n",
    "# Input: ex,pw,se as returned by smoothContrib(G,H,r,vars,CP,M,g)\n",
    "# Output: None (function pretty prints the asymptotic expression defined by ex,pw,se, and M)\n",
    "def disp_asm(ex,pw,se,M):\n",
    "    show(ex*pw,LatexExpr(\"\\\\Bigg(\"), se, LatexExpr(\"+ O\\\\Bigg(\"), n^(-M), LatexExpr(\"\\\\Bigg)\\\\Bigg)\"))\n",
    "\n",
    "# Test if all coordinates in a list of numbers are real and positive\n",
    "def pos_coords(L):\n",
    "    return all(map(lambda c: (c>0) and c.is_real(), L))\n",
    "\n",
    "# Find critical points with real positive coordinates\n",
    "def walk_pos_critpt(L,vars):\n",
    "    return filter(lambda l: pos_coords([v.subs(l) for v in vars]), L)"
   ]
  },
  {
   "cell_type": "markdown",
   "metadata": {},
   "source": [
    "### Example 1: Saunders; analysis of a random tree algorithm"
   ]
  },
  {
   "cell_type": "code",
   "execution_count": 3,
   "metadata": {},
   "outputs": [
    {
     "name": "stdout",
     "output_type": "stream",
     "text": [
      "The minimal polynomial is correct.\n",
      "The Furstenberg embedding is:\n"
     ]
    },
    {
     "data": {
      "text/html": [
       "<html><script type=\"math/tex; mode=display\">\\newcommand{\\Bold}[1]{\\mathbf{#1}}\\frac{{\\left(2 \\, Y^{3} p^{2} u^{2} z^{2} + 2 \\, Y^{3} p q u^{2} z^{2} + 2 \\, Y^{2} p^{2} u^{2} z^{2} + 2 \\, Y^{2} p q u^{2} z^{2} + 2 \\, Y^{3} p q z^{2} + 2 \\, Y^{3} q^{2} z^{2} - 2 \\, Y^{2} p u^{2} z + 2 \\, Y^{2} p q z^{2} + 2 \\, Y^{2} q^{2} z^{2} - 2 \\, Y^{2} p u z - 2 \\, Y^{2} q u z - 2 \\, Y p u^{2} z - 2 \\, Y^{2} q z - 2 \\, Y q u z + 2 \\, Y u + u - 1\\right)} Y}{Y^{3} p^{2} u^{2} z^{2} + Y^{3} p q u^{2} z^{2} + 2 \\, Y^{2} p^{2} u^{2} z^{2} + 2 \\, Y^{2} p q u^{2} z^{2} + Y^{3} p q z^{2} + Y^{3} q^{2} z^{2} + Y p^{2} u^{2} z^{2} + Y p q u^{2} z^{2} - Y^{2} p u^{2} z + 2 \\, Y^{2} p q z^{2} + 2 \\, Y^{2} q^{2} z^{2} - Y^{2} p u z - Y^{2} q u z - 2 \\, Y p u^{2} z + Y p q z^{2} + Y q^{2} z^{2} - Y^{2} q z - 2 \\, Y q u z - p u^{2} z + p u z - q u z + Y u + q z + u - 1}</script></html>"
      ],
      "text/latex": [
       "$$\\newcommand{\\Bold}[1]{\\mathbf{#1}}\\frac{{\\left(2 \\, Y^{3} p^{2} u^{2} z^{2} + 2 \\, Y^{3} p q u^{2} z^{2} + 2 \\, Y^{2} p^{2} u^{2} z^{2} + 2 \\, Y^{2} p q u^{2} z^{2} + 2 \\, Y^{3} p q z^{2} + 2 \\, Y^{3} q^{2} z^{2} - 2 \\, Y^{2} p u^{2} z + 2 \\, Y^{2} p q z^{2} + 2 \\, Y^{2} q^{2} z^{2} - 2 \\, Y^{2} p u z - 2 \\, Y^{2} q u z - 2 \\, Y p u^{2} z - 2 \\, Y^{2} q z - 2 \\, Y q u z + 2 \\, Y u + u - 1\\right)} Y}{Y^{3} p^{2} u^{2} z^{2} + Y^{3} p q u^{2} z^{2} + 2 \\, Y^{2} p^{2} u^{2} z^{2} + 2 \\, Y^{2} p q u^{2} z^{2} + Y^{3} p q z^{2} + Y^{3} q^{2} z^{2} + Y p^{2} u^{2} z^{2} + Y p q u^{2} z^{2} - Y^{2} p u^{2} z + 2 \\, Y^{2} p q z^{2} + 2 \\, Y^{2} q^{2} z^{2} - Y^{2} p u z - Y^{2} q u z - 2 \\, Y p u^{2} z + Y p q z^{2} + Y q^{2} z^{2} - Y^{2} q z - 2 \\, Y q u z - p u^{2} z + p u z - q u z + Y u + q z + u - 1}$$"
      ],
      "text/plain": [
       "(2*Y^3*p^2*u^2*z^2 + 2*Y^3*p*q*u^2*z^2 + 2*Y^2*p^2*u^2*z^2 + 2*Y^2*p*q*u^2*z^2 + 2*Y^3*p*q*z^2 + 2*Y^3*q^2*z^2 - 2*Y^2*p*u^2*z + 2*Y^2*p*q*z^2 + 2*Y^2*q^2*z^2 - 2*Y^2*p*u*z - 2*Y^2*q*u*z - 2*Y*p*u^2*z - 2*Y^2*q*z - 2*Y*q*u*z + 2*Y*u + u - 1)*Y/(Y^3*p^2*u^2*z^2 + Y^3*p*q*u^2*z^2 + 2*Y^2*p^2*u^2*z^2 + 2*Y^2*p*q*u^2*z^2 + Y^3*p*q*z^2 + Y^3*q^2*z^2 + Y*p^2*u^2*z^2 + Y*p*q*u^2*z^2 - Y^2*p*u^2*z + 2*Y^2*p*q*z^2 + 2*Y^2*q^2*z^2 - Y^2*p*u*z - Y^2*q*u*z - 2*Y*p*u^2*z + Y*p*q*z^2 + Y*q^2*z^2 - Y^2*q*z - 2*Y*q*u*z - p*u^2*z + p*u*z - q*u*z + Y*u + q*z + u - 1)"
      ]
     },
     "metadata": {},
     "output_type": "display_data"
    },
    {
     "name": "stdout",
     "output_type": "stream",
     "text": [
      "Out of terms that were checked, all terms agree.\n"
     ]
    },
    {
     "data": {
      "text/plain": [
       "(2*Y^3*p^2*u^2*z^2 + 2*Y^3*p*q*u^2*z^2 + 2*Y^2*p^2*u^2*z^2 + 2*Y^2*p*q*u^2*z^2 + 2*Y^3*p*q*z^2 + 2*Y^3*q^2*z^2 - 2*Y^2*p*u^2*z + 2*Y^2*p*q*z^2 + 2*Y^2*q^2*z^2 - 2*Y^2*p*u*z - 2*Y^2*q*u*z - 2*Y*p*u^2*z - 2*Y^2*q*z - 2*Y*q*u*z + 2*Y*u + u - 1)*Y/(Y^3*p^2*u^2*z^2 + Y^3*p*q*u^2*z^2 + 2*Y^2*p^2*u^2*z^2 + 2*Y^2*p*q*u^2*z^2 + Y^3*p*q*z^2 + Y^3*q^2*z^2 + Y*p^2*u^2*z^2 + Y*p*q*u^2*z^2 - Y^2*p*u^2*z + 2*Y^2*p*q*z^2 + 2*Y^2*q^2*z^2 - Y^2*p*u*z - Y^2*q*u*z - 2*Y*p*u^2*z + Y*p*q*z^2 + Y*q^2*z^2 - Y^2*q*z - 2*Y*q*u*z - p*u^2*z + p*u*z - q*u*z + Y*u + q*z + u - 1)"
      ]
     },
     "execution_count": 3,
     "metadata": {},
     "output_type": "execute_result"
    }
   ],
   "source": [
    "f = -(2*z^2*u^2*p^2+2*z^2*u^2*p*q+2*z^2*p*q-2*z*u^2*p+2*z^2*q^2-2*z*u*q+sqrt(-4*p*q*u^2*z^2+8*p*q*u*z^2-4*p*q*z^2+u^2-2*u+1)+u-1)/(2*(p^2*u^2*z^2+p*q*u^2*z^2+p*q*z^2-p*u^2*z+q^2*z^2-p*u*z-q*u*z-q*z+u))\n",
    "P = Y^2*z^2*u^2*p^2 + Y^2*z^2*u^2*p*q + 2*Y*z^2*u^2*p^2 + 2*Y*z^2*u^2*p*q - Y^2*z*u^2*p + z^2*u^2*p^2 + Y^2*z^2*p*q + z^2*u^2*p*q + Y^2*z^2*q^2 - Y^2*z*u*p - 2*Y*z*u^2*p - Y^2*z*u*q + 2*Y*z^2*p*q + 2*Y*z^2*q^2 - z*u^2*p - Y^2*z*q - 2*Y*z*u*q + z^2*p*q + z^2*q^2 + Y^2*u + z*u*p - z*u*q + Y*u + z*q - Y\n",
    "Furstenberg(P, f, z)"
   ]
  },
  {
   "cell_type": "code",
   "execution_count": 4,
   "metadata": {},
   "outputs": [
    {
     "name": "stdout",
     "output_type": "stream",
     "text": [
      "-1/2*(2*(p*q + q^2)*z^2 + sqrt(-4*p*q*z^2 + 1) - 1)/((p*q + q^2)*z^2 - q*z)\n",
      "-1/2*(u + sqrt(u^2 - 2*u + 1) - 1)/u\n"
     ]
    }
   ],
   "source": [
    "# No obvious additive substitutions\n",
    "assume(u > 0, z > 0)\n",
    "print(limit(f,u=0))\n",
    "print(limit(f,z=0))"
   ]
  },
  {
   "cell_type": "markdown",
   "metadata": {},
   "source": [
    "### Example 2: Bilateral Schroeder paths"
   ]
  },
  {
   "cell_type": "code",
   "execution_count": 5,
   "metadata": {},
   "outputs": [
    {
     "name": "stdout",
     "output_type": "stream",
     "text": [
      "The minimal polynomial is correct.\n",
      "The Furstenberg embedding is:\n"
     ]
    },
    {
     "data": {
      "text/html": [
       "<html><script type=\"math/tex; mode=display\">\\newcommand{\\Bold}[1]{\\mathbf{#1}}\\frac{2 \\, {\\left(Y^{2} z^{2} - 4 \\, Y t z - 2 \\, Y z + 1\\right)} {\\left(Y + 1\\right)} Y}{Y^{3} z^{2} - 4 \\, Y^{2} t z + 2 \\, Y^{2} z^{2} - 2 \\, Y^{2} z - 8 \\, Y t z + Y z^{2} - 4 \\, Y z - 4 \\, t z + Y - 2 \\, z + 2}</script></html>"
      ],
      "text/latex": [
       "$$\\newcommand{\\Bold}[1]{\\mathbf{#1}}\\frac{2 \\, {\\left(Y^{2} z^{2} - 4 \\, Y t z - 2 \\, Y z + 1\\right)} {\\left(Y + 1\\right)} Y}{Y^{3} z^{2} - 4 \\, Y^{2} t z + 2 \\, Y^{2} z^{2} - 2 \\, Y^{2} z - 8 \\, Y t z + Y z^{2} - 4 \\, Y z - 4 \\, t z + Y - 2 \\, z + 2}$$"
      ],
      "text/plain": [
       "2*(Y^2*z^2 - 4*Y*t*z - 2*Y*z + 1)*(Y + 1)*Y/(Y^3*z^2 - 4*Y^2*t*z + 2*Y^2*z^2 - 2*Y^2*z - 8*Y*t*z + Y*z^2 - 4*Y*z - 4*t*z + Y - 2*z + 2)"
      ]
     },
     "metadata": {},
     "output_type": "display_data"
    },
    {
     "name": "stdout",
     "output_type": "stream",
     "text": [
      "Out of terms that were checked, all terms agree.\n"
     ]
    },
    {
     "data": {
      "text/plain": [
       "2*(Y^2*z^2 - 4*Y*t*z - 2*Y*z + 1)*(Y + 1)*Y/(Y^3*z^2 - 4*Y^2*t*z + 2*Y^2*z^2 - 2*Y^2*z - 8*Y*t*z + Y*z^2 - 4*Y*z - 4*t*z + Y - 2*z + 2)"
      ]
     },
     "execution_count": 5,
     "metadata": {},
     "output_type": "execute_result"
    }
   ],
   "source": [
    "var('x, y, z, u, v, t, Y')\n",
    "g = 1/(sqrt(1-2*z-4*t*z+z^2)) \n",
    "f = (g-1)\n",
    "P = ((Y+1)^2)*(1-2*z-4*t*z+z^2) - 1\n",
    "Furstenberg(P, f, z)"
   ]
  },
  {
   "cell_type": "code",
   "execution_count": 6,
   "metadata": {},
   "outputs": [
    {
     "name": "stdout",
     "output_type": "stream",
     "text": [
      "-(z^2 - 2*z - sqrt(z^2 - 2*z + 1) + 1)/(z^2 - 2*z + 1)\n",
      "0\n"
     ]
    }
   ],
   "source": [
    "# No obvious additive substitution\n",
    "print(limit(f, t=0)) # A polynomial additive substitution in t is ruled out by Proposition 5 because this limit is not a polynomial\n",
    "print(limit(f, z=0))"
   ]
  },
  {
   "cell_type": "markdown",
   "metadata": {},
   "source": [
    "### Example 3: Orthogonal polynomials"
   ]
  },
  {
   "cell_type": "code",
   "execution_count": 7,
   "metadata": {},
   "outputs": [
    {
     "name": "stdout",
     "output_type": "stream",
     "text": [
      "The minimal polynomial is correct.\n",
      "The Furstenberg embedding is:\n"
     ]
    },
    {
     "data": {
      "text/html": [
       "<html><script type=\"math/tex; mode=display\">\\newcommand{\\Bold}[1]{\\mathbf{#1}}\\frac{2 \\, {\\left(Y^{2} z^{2} - 2 \\, Y x z + 1\\right)} {\\left(Y + 1\\right)} Y}{Y^{3} z^{2} - 2 \\, Y^{2} x z + 2 \\, Y^{2} z^{2} - 4 \\, Y x z + Y z^{2} - 2 \\, x z + Y + 2}</script></html>"
      ],
      "text/latex": [
       "$$\\newcommand{\\Bold}[1]{\\mathbf{#1}}\\frac{2 \\, {\\left(Y^{2} z^{2} - 2 \\, Y x z + 1\\right)} {\\left(Y + 1\\right)} Y}{Y^{3} z^{2} - 2 \\, Y^{2} x z + 2 \\, Y^{2} z^{2} - 4 \\, Y x z + Y z^{2} - 2 \\, x z + Y + 2}$$"
      ],
      "text/plain": [
       "2*(Y^2*z^2 - 2*Y*x*z + 1)*(Y + 1)*Y/(Y^3*z^2 - 2*Y^2*x*z + 2*Y^2*z^2 - 4*Y*x*z + Y*z^2 - 2*x*z + Y + 2)"
      ]
     },
     "metadata": {},
     "output_type": "display_data"
    },
    {
     "name": "stdout",
     "output_type": "stream",
     "text": [
      "Out of terms that were checked, all terms agree.\n"
     ]
    },
    {
     "data": {
      "text/plain": [
       "2*(Y^2*z^2 - 2*Y*x*z + 1)*(Y + 1)*Y/(Y^3*z^2 - 2*Y^2*x*z + 2*Y^2*z^2 - 4*Y*x*z + Y*z^2 - 2*x*z + Y + 2)"
      ]
     },
     "execution_count": 7,
     "metadata": {},
     "output_type": "execute_result"
    }
   ],
   "source": [
    "g = 1/(sqrt(1-2*x*z+z^2))\n",
    "f = (g-1)\n",
    "var('y')\n",
    "P = ((Y+1)^2)*(1-2*x*z+z^2) - 1\n",
    "Furstenberg(P, f, z)"
   ]
  },
  {
   "cell_type": "code",
   "execution_count": 8,
   "metadata": {},
   "outputs": [
    {
     "name": "stdout",
     "output_type": "stream",
     "text": [
      "-(z^2 - sqrt(z^2 + 1) + 1)/(z^2 + 1)\n",
      "0\n"
     ]
    }
   ],
   "source": [
    "# No obvious additive substitution\n",
    "print(limit(f, x=0))\n",
    "print(limit(f, z=0))"
   ]
  },
  {
   "cell_type": "markdown",
   "metadata": {},
   "source": [
    "### Example 4: Callan; parametrized univariate family"
   ]
  },
  {
   "cell_type": "code",
   "execution_count": 9,
   "metadata": {},
   "outputs": [
    {
     "name": "stdout",
     "output_type": "stream",
     "text": [
      "The minimal polynomial is correct.\n",
      "The Furstenberg embedding is:\n"
     ]
    },
    {
     "data": {
      "text/html": [
       "<html><script type=\"math/tex; mode=display\">\\newcommand{\\Bold}[1]{\\mathbf{#1}}\\frac{{\\left(2 \\, Y^{3} b x^{2} + 2 \\, Y^{2} b x^{2} + Y a x - 1\\right)} Y}{Y^{3} b x^{2} + 2 \\, Y^{2} b x^{2} + Y b x^{2} + Y a x + a x - 1}</script></html>"
      ],
      "text/latex": [
       "$$\\newcommand{\\Bold}[1]{\\mathbf{#1}}\\frac{{\\left(2 \\, Y^{3} b x^{2} + 2 \\, Y^{2} b x^{2} + Y a x - 1\\right)} Y}{Y^{3} b x^{2} + 2 \\, Y^{2} b x^{2} + Y b x^{2} + Y a x + a x - 1}$$"
      ],
      "text/plain": [
       "(2*Y^3*b*x^2 + 2*Y^2*b*x^2 + Y*a*x - 1)*Y/(Y^3*b*x^2 + 2*Y^2*b*x^2 + Y*b*x^2 + Y*a*x + a*x - 1)"
      ]
     },
     "metadata": {},
     "output_type": "display_data"
    },
    {
     "name": "stdout",
     "output_type": "stream",
     "text": [
      "Out of terms that were checked, all terms agree.\n"
     ]
    }
   ],
   "source": [
    "g = (1-a*x - sqrt(1 - 2*a*x + (a^2 - 4*b)*x^2))/(2*b*x^2)\n",
    "f = (g-1)\n",
    "P = b*x^2*Y^2+2*b*x^2*Y+a*x*Y+b*x^2+a*x-Y\n",
    "F = Furstenberg(P, f, x)"
   ]
  },
  {
   "cell_type": "code",
   "execution_count": 10,
   "metadata": {},
   "outputs": [
    {
     "name": "stdout",
     "output_type": "stream",
     "text": [
      "The minimal polynomial is correct.\n",
      "The Furstenberg embedding is:\n"
     ]
    },
    {
     "data": {
      "text/html": [
       "<html><script type=\"math/tex; mode=display\">\\newcommand{\\Bold}[1]{\\mathbf{#1}}\\frac{{\\left(2 \\, B^{2} Y^{3} x^{2} + 2 \\, B^{2} Y^{2} x^{2} + A^{2} Y x - 1\\right)} Y}{B^{2} Y^{3} x^{2} + 2 \\, B^{2} Y^{2} x^{2} + B^{2} Y x^{2} + A^{2} Y x + A^{2} x - 1}</script></html>"
      ],
      "text/latex": [
       "$$\\newcommand{\\Bold}[1]{\\mathbf{#1}}\\frac{{\\left(2 \\, B^{2} Y^{3} x^{2} + 2 \\, B^{2} Y^{2} x^{2} + A^{2} Y x - 1\\right)} Y}{B^{2} Y^{3} x^{2} + 2 \\, B^{2} Y^{2} x^{2} + B^{2} Y x^{2} + A^{2} Y x + A^{2} x - 1}$$"
      ],
      "text/plain": [
       "(2*B^2*Y^3*x^2 + 2*B^2*Y^2*x^2 + A^2*Y*x - 1)*Y/(B^2*Y^3*x^2 + 2*B^2*Y^2*x^2 + B^2*Y*x^2 + A^2*Y*x + A^2*x - 1)"
      ]
     },
     "metadata": {},
     "output_type": "display_data"
    },
    {
     "name": "stdout",
     "output_type": "stream",
     "text": [
      "Out of terms that were checked, all terms agree.\n"
     ]
    },
    {
     "data": {
      "text/html": [
       "<html><script type=\"math/tex; mode=display\">\\newcommand{\\Bold}[1]{\\mathbf{#1}}\\left[\\left\\{x : \\frac{B}{{\\left(A^{2} + 2 \\, B\\right)} {\\left(A^{2} + B\\right)}}, Y : \\frac{A^{2} + B}{B}\\right\\}, \\left\\{x : -\\frac{B}{{\\left(A^{2} - B\\right)} {\\left(A^{2} - 2 \\, B\\right)}}, Y : -\\frac{A^{2} - B}{B}\\right\\}\\right]</script></html>"
      ],
      "text/latex": [
       "$$\\newcommand{\\Bold}[1]{\\mathbf{#1}}\\left[\\left\\{x : \\frac{B}{{\\left(A^{2} + 2 \\, B\\right)} {\\left(A^{2} + B\\right)}}, Y : \\frac{A^{2} + B}{B}\\right\\}, \\left\\{x : -\\frac{B}{{\\left(A^{2} - B\\right)} {\\left(A^{2} - 2 \\, B\\right)}}, Y : -\\frac{A^{2} - B}{B}\\right\\}\\right]$$"
      ],
      "text/plain": [
       "[{x: B/((A^2 + 2*B)*(A^2 + B)), Y: (A^2 + B)/B},\n",
       " {x: -B/((A^2 - B)*(A^2 - 2*B)), Y: -(A^2 - B)/B}]"
      ]
     },
     "metadata": {},
     "output_type": "display_data"
    }
   ],
   "source": [
    "# To improve runtime, replace parameters with squared versions to eliminate all square roots\n",
    "var('x,Y,A,B')\n",
    "a = A^2\n",
    "b = B^2\n",
    "\n",
    "g = (1-a*x - sqrt(1 - 2*a*x + (a^2 - 4*b)*x^2))/(2*b*x^2)\n",
    "f = (g-1)\n",
    "P = b*x^2*Y^2+2*b*x^2*Y+a*x*Y+b*x^2+a*x-Y\n",
    "F = Furstenberg(P, f, x)\n",
    "\n",
    "G = F.numerator()\n",
    "H = F.denominator()\n",
    "# Now, we compute critical points:\n",
    "CritSols = critpt(H, [1,1], [x, Y])\n",
    "show(CritSols)\n",
    "CP1 = CritSols[0]\n",
    "CP2 = CritSols[1]"
   ]
  },
  {
   "cell_type": "code",
   "execution_count": 11,
   "metadata": {},
   "outputs": [
    {
     "data": {
      "text/plain": [
       "[]"
      ]
     },
     "execution_count": 11,
     "metadata": {},
     "output_type": "execute_result"
    }
   ],
   "source": [
    "# Only CP1 has positive coordinates, and it is clearly minimal.\n",
    "# Next, we check for smoothness:\n",
    "nonsmoothpt(H, [1, 1], [x, Y], [p, A, B])"
   ]
  },
  {
   "cell_type": "code",
   "execution_count": 12,
   "metadata": {},
   "outputs": [
    {
     "name": "stdout",
     "output_type": "stream",
     "text": [
      "The asymptotics:\n"
     ]
    },
    {
     "data": {
      "text/html": [
       "<html><script type=\"math/tex; mode=display\">\\newcommand{\\Bold}[1]{\\mathbf{#1}}\\frac{{\\left(A^{2} + 2 \\, B\\right)}^{n}}{\\sqrt{n}} \\Bigg( \\frac{{\\left(A^{2} + 2 \\, B\\right)}^{\\frac{3}{2}}}{2 \\, \\sqrt{\\pi} B^{\\frac{3}{2}} n} + O\\Bigg( \\frac{1}{n^{2}} \\Bigg)\\Bigg)</script></html>"
      ],
      "text/latex": [
       "$$\\newcommand{\\Bold}[1]{\\mathbf{#1}}\\frac{{\\left(A^{2} + 2 \\, B\\right)}^{n}}{\\sqrt{n}} \\Bigg( \\frac{{\\left(A^{2} + 2 \\, B\\right)}^{\\frac{3}{2}}}{2 \\, \\sqrt{\\pi} B^{\\frac{3}{2}} n} + O\\Bigg( \\frac{1}{n^{2}} \\Bigg)\\Bigg)$$"
      ],
      "text/plain": [
       "(A^2 + 2*B)^n/sqrt(n) \\Bigg( 1/2*(A^2 + 2*B)^(3/2)/(sqrt(pi)*B^(3/2)*n) + O\\Bigg( n^(-2) \\Bigg)\\Bigg)"
      ]
     },
     "metadata": {},
     "output_type": "display_data"
    }
   ],
   "source": [
    "# Now, we compute asymptotics:\n",
    "r = [1,1]\n",
    "vars = [Y,x]\n",
    "\n",
    "gOptions = solve(H, x)\n",
    "g1 = gOptions[0].rhs()\n",
    "g2 = gOptions[1].rhs()\n",
    "# Check: which solution g1 or g2 actually gives the correct critical point?  The following should be zero for the correct solution (g2 in this case):\n",
    "# print((g1.subs(y=(sqrt(b)+a)/sqrt(b)) + (3*a*b - (a^2 + 2*b)*sqrt(b))/(a^4 - 5*a^2*b + 4*b^2)).subs(a=1, b=4))\n",
    "# print((g2.subs(y=(sqrt(b)+a)/sqrt(b)) + (3*a*b - (a^2 + 2*b)*sqrt(b))/(a^4 - 5*a^2*b + 4*b^2)).subs(a=1, b=4))\n",
    "\n",
    "M=2\n",
    "ex,pw,se = smoothContrib(G,H,r,vars,CP1,M,g2)\n",
    "print(\"The asymptotics:\")\n",
    "disp_asm(ex,pw,se.factor(),M)"
   ]
  },
  {
   "cell_type": "markdown",
   "metadata": {},
   "source": [
    "### Example 5: Butler et. al; edge flipping in the complete graph"
   ]
  },
  {
   "cell_type": "code",
   "execution_count": 13,
   "metadata": {},
   "outputs": [
    {
     "name": "stdout",
     "output_type": "stream",
     "text": [
      "The minimal polynomial is correct.\n",
      "The Furstenberg embedding is:\n"
     ]
    },
    {
     "data": {
      "text/html": [
       "<html><script type=\"math/tex; mode=display\">\\newcommand{\\Bold}[1]{\\mathbf{#1}}\\frac{2 \\, {\\left(Y^{2} x^{2} y^{2} - 2 \\, Y^{2} x^{2} y + Y^{2} x^{2} + 2 \\, Y x y + 2 \\, Y x - 1\\right)} {\\left(Y + 1\\right)} Y}{Y^{3} x^{2} y^{2} - 2 \\, Y^{3} x^{2} y + 2 \\, Y^{2} x^{2} y^{2} + Y^{3} x^{2} - 4 \\, Y^{2} x^{2} y + 2 \\, Y x^{2} y^{2} + 2 \\, Y^{2} x^{2} + 2 \\, Y^{2} x y + 2 \\, Y^{2} x + 2 \\, Y x^{2} + 4 \\, Y x y + 4 \\, Y x - Y - 2}</script></html>"
      ],
      "text/latex": [
       "$$\\newcommand{\\Bold}[1]{\\mathbf{#1}}\\frac{2 \\, {\\left(Y^{2} x^{2} y^{2} - 2 \\, Y^{2} x^{2} y + Y^{2} x^{2} + 2 \\, Y x y + 2 \\, Y x - 1\\right)} {\\left(Y + 1\\right)} Y}{Y^{3} x^{2} y^{2} - 2 \\, Y^{3} x^{2} y + 2 \\, Y^{2} x^{2} y^{2} + Y^{3} x^{2} - 4 \\, Y^{2} x^{2} y + 2 \\, Y x^{2} y^{2} + 2 \\, Y^{2} x^{2} + 2 \\, Y^{2} x y + 2 \\, Y^{2} x + 2 \\, Y x^{2} + 4 \\, Y x y + 4 \\, Y x - Y - 2}$$"
      ],
      "text/plain": [
       "2*(Y^2*x^2*y^2 - 2*Y^2*x^2*y + Y^2*x^2 + 2*Y*x*y + 2*Y*x - 1)*(Y + 1)*Y/(Y^3*x^2*y^2 - 2*Y^3*x^2*y + 2*Y^2*x^2*y^2 + Y^3*x^2 - 4*Y^2*x^2*y + 2*Y*x^2*y^2 + 2*Y^2*x^2 + 2*Y^2*x*y + 2*Y^2*x + 2*Y*x^2 + 4*Y*x*y + 4*Y*x - Y - 2)"
      ]
     },
     "metadata": {},
     "output_type": "display_data"
    },
    {
     "name": "stdout",
     "output_type": "stream",
     "text": [
      "Out of terms that were checked, all terms agree.\n"
     ]
    },
    {
     "data": {
      "text/plain": [
       "2*(Y^2*x^2*y^2 - 2*Y^2*x^2*y + Y^2*x^2 + 2*Y*x*y + 2*Y*x - 1)*(Y + 1)*Y/(Y^3*x^2*y^2 - 2*Y^3*x^2*y + 2*Y^2*x^2*y^2 + Y^3*x^2 - 4*Y^2*x^2*y + 2*Y*x^2*y^2 + 2*Y^2*x^2 + 2*Y^2*x*y + 2*Y^2*x + 2*Y*x^2 + 4*Y*x*y + 4*Y*x - Y - 2)"
      ]
     },
     "execution_count": 13,
     "metadata": {},
     "output_type": "execute_result"
    }
   ],
   "source": [
    "f = (1 - x*(1 + y))/sqrt(1 - 2*x*(1 + y) - x^2*(1 - y)^2) - 1\n",
    "P = (Y+1)^2*(1-2*x*(1+y) - x^2*(1-y)^2) - (1 - x*(1+y))^2\n",
    "Furstenberg(P, f, x)"
   ]
  },
  {
   "cell_type": "code",
   "execution_count": 14,
   "metadata": {},
   "outputs": [
    {
     "name": "stdout",
     "output_type": "stream",
     "text": [
      "0\n",
      "-(x^2 - sqrt(-x^2 - 2*x + 1)*(x - 1) + 2*x - 1)/(x^2 + 2*x - 1)\n"
     ]
    }
   ],
   "source": [
    "print(limit(f,x=0))\n",
    "print(limit(f,y=0))\n",
    "# No additive polynomial substitution in y can work, but x is not ruled out"
   ]
  },
  {
   "cell_type": "markdown",
   "metadata": {},
   "source": [
    "### Example 6: Bostan et al.; Ising model integrals"
   ]
  },
  {
   "cell_type": "code",
   "execution_count": 15,
   "metadata": {},
   "outputs": [
    {
     "name": "stdout",
     "output_type": "stream",
     "text": [
      "The minimal polynomial is correct.\n",
      "The Furstenberg embedding is:\n"
     ]
    },
    {
     "data": {
      "text/html": [
       "<html><script type=\"math/tex; mode=display\">\\newcommand{\\Bold}[1]{\\mathbf{#1}}\\frac{2 \\, {\\left(8 \\, Y^{6} t^{4} w^{2} + 16 \\, Y^{5} t^{4} w^{2} + 8 \\, Y^{4} t^{4} w^{2} - 16 \\, Y^{4} t^{2} w^{2} + 8 \\, Y^{4} t^{2} w - 32 \\, Y^{3} t^{2} w^{2} - 2 \\, Y^{4} t^{2} + 16 \\, Y^{3} t^{2} w - 14 \\, Y^{2} t^{2} w^{2} - 4 \\, Y^{3} t^{2} + 8 \\, Y^{2} t^{2} w - 2 \\, Y^{2} t^{2} + 8 \\, Y^{2} w^{2} - 8 \\, Y^{2} w + 16 \\, Y w^{2} + 2 \\, Y^{2} - 16 \\, Y w + 4 \\, w^{2} + 4 \\, Y - 4 \\, w + 1\\right)} {\\left(2 \\, Y t w + 2 \\, w - 1\\right)} {\\left(2 \\, Y t w - 2 \\, w + 1\\right)} {\\left(Y t + 1\\right)} {\\left(Y t - 1\\right)} {\\left(Y + 1\\right)} Y}{16 \\, Y^{11} t^{8} w^{4} + 64 \\, Y^{10} t^{8} w^{4} + 96 \\, Y^{9} t^{8} w^{4} + 64 \\, Y^{8} t^{8} w^{4} - 64 \\, Y^{9} t^{6} w^{4} + 16 \\, Y^{7} t^{8} w^{4} + 32 \\, Y^{9} t^{6} w^{3} - 256 \\, Y^{8} t^{6} w^{4} - 8 \\, Y^{9} t^{6} w^{2} + 128 \\, Y^{8} t^{6} w^{3} - 376 \\, Y^{7} t^{6} w^{4} - 32 \\, Y^{8} t^{6} w^{2} + 192 \\, Y^{7} t^{6} w^{3} - 240 \\, Y^{6} t^{6} w^{4} - 48 \\, Y^{7} t^{6} w^{2} + 128 \\, Y^{6} t^{6} w^{3} + 96 \\, Y^{7} t^{4} w^{4} - 56 \\, Y^{5} t^{6} w^{4} - 32 \\, Y^{6} t^{6} w^{2} - 96 \\, Y^{7} t^{4} w^{3} + 32 \\, Y^{5} t^{6} w^{3} + 384 \\, Y^{6} t^{4} w^{4} + 40 \\, Y^{7} t^{4} w^{2} - 8 \\, Y^{5} t^{6} w^{2} - 384 \\, Y^{6} t^{4} w^{3} + 544 \\, Y^{5} t^{4} w^{4} - 8 \\, Y^{7} t^{4} w + 160 \\, Y^{6} t^{4} w^{2} - 552 \\, Y^{5} t^{4} w^{3} + 320 \\, Y^{4} t^{4} w^{4} + Y^{7} t^{4} - 32 \\, Y^{6} t^{4} w + 234 \\, Y^{5} t^{4} w^{2} - 336 \\, Y^{4} t^{4} w^{3} - 64 \\, Y^{5} t^{2} w^{4} + 65 \\, Y^{3} t^{4} w^{4} + 4 \\, Y^{6} t^{4} - 48 \\, Y^{5} t^{4} w + 148 \\, Y^{4} t^{4} w^{2} + 96 \\, Y^{5} t^{2} w^{3} - 72 \\, Y^{3} t^{4} w^{3} - 256 \\, Y^{4} t^{2} w^{4} + 6 \\, Y^{5} t^{4} - 32 \\, Y^{4} t^{4} w - 56 \\, Y^{5} t^{2} w^{2} + 34 \\, Y^{3} t^{4} w^{2} + 384 \\, Y^{4} t^{2} w^{3} - 344 \\, Y^{3} t^{2} w^{4} + 4 \\, Y^{4} t^{4} + 16 \\, Y^{5} t^{2} w - 8 \\, Y^{3} t^{4} w - 224 \\, Y^{4} t^{2} w^{2} + 520 \\, Y^{3} t^{2} w^{3} - 176 \\, Y^{2} t^{2} w^{4} - 2 \\, Y^{5} t^{2} + Y^{3} t^{4} + 64 \\, Y^{4} t^{2} w - 306 \\, Y^{3} t^{2} w^{2} + 272 \\, Y^{2} t^{2} w^{3} + 16 \\, Y^{3} w^{4} - 24 \\, Y t^{2} w^{4} - 8 \\, Y^{4} t^{2} + 88 \\, Y^{3} t^{2} w - 164 \\, Y^{2} t^{2} w^{2} - 32 \\, Y^{3} w^{3} + 40 \\, Y t^{2} w^{3} + 64 \\, Y^{2} w^{4} - 11 \\, Y^{3} t^{2} + 48 \\, Y^{2} t^{2} w + 24 \\, Y^{3} w^{2} - 26 \\, Y t^{2} w^{2} - 128 \\, Y^{2} w^{3} + 80 \\, Y w^{4} - 6 \\, Y^{2} t^{2} - 8 \\, Y^{3} w + 8 \\, Y t^{2} w + 96 \\, Y^{2} w^{2} - 160 \\, Y w^{3} + 32 \\, w^{4} + Y^{3} - Y t^{2} - 32 \\, Y^{2} w + 120 \\, Y w^{2} - 64 \\, w^{3} + 4 \\, Y^{2} - 40 \\, Y w + 48 \\, w^{2} + 5 \\, Y - 16 \\, w + 2}</script></html>"
      ],
      "text/latex": [
       "$$\\newcommand{\\Bold}[1]{\\mathbf{#1}}\\frac{2 \\, {\\left(8 \\, Y^{6} t^{4} w^{2} + 16 \\, Y^{5} t^{4} w^{2} + 8 \\, Y^{4} t^{4} w^{2} - 16 \\, Y^{4} t^{2} w^{2} + 8 \\, Y^{4} t^{2} w - 32 \\, Y^{3} t^{2} w^{2} - 2 \\, Y^{4} t^{2} + 16 \\, Y^{3} t^{2} w - 14 \\, Y^{2} t^{2} w^{2} - 4 \\, Y^{3} t^{2} + 8 \\, Y^{2} t^{2} w - 2 \\, Y^{2} t^{2} + 8 \\, Y^{2} w^{2} - 8 \\, Y^{2} w + 16 \\, Y w^{2} + 2 \\, Y^{2} - 16 \\, Y w + 4 \\, w^{2} + 4 \\, Y - 4 \\, w + 1\\right)} {\\left(2 \\, Y t w + 2 \\, w - 1\\right)} {\\left(2 \\, Y t w - 2 \\, w + 1\\right)} {\\left(Y t + 1\\right)} {\\left(Y t - 1\\right)} {\\left(Y + 1\\right)} Y}{16 \\, Y^{11} t^{8} w^{4} + 64 \\, Y^{10} t^{8} w^{4} + 96 \\, Y^{9} t^{8} w^{4} + 64 \\, Y^{8} t^{8} w^{4} - 64 \\, Y^{9} t^{6} w^{4} + 16 \\, Y^{7} t^{8} w^{4} + 32 \\, Y^{9} t^{6} w^{3} - 256 \\, Y^{8} t^{6} w^{4} - 8 \\, Y^{9} t^{6} w^{2} + 128 \\, Y^{8} t^{6} w^{3} - 376 \\, Y^{7} t^{6} w^{4} - 32 \\, Y^{8} t^{6} w^{2} + 192 \\, Y^{7} t^{6} w^{3} - 240 \\, Y^{6} t^{6} w^{4} - 48 \\, Y^{7} t^{6} w^{2} + 128 \\, Y^{6} t^{6} w^{3} + 96 \\, Y^{7} t^{4} w^{4} - 56 \\, Y^{5} t^{6} w^{4} - 32 \\, Y^{6} t^{6} w^{2} - 96 \\, Y^{7} t^{4} w^{3} + 32 \\, Y^{5} t^{6} w^{3} + 384 \\, Y^{6} t^{4} w^{4} + 40 \\, Y^{7} t^{4} w^{2} - 8 \\, Y^{5} t^{6} w^{2} - 384 \\, Y^{6} t^{4} w^{3} + 544 \\, Y^{5} t^{4} w^{4} - 8 \\, Y^{7} t^{4} w + 160 \\, Y^{6} t^{4} w^{2} - 552 \\, Y^{5} t^{4} w^{3} + 320 \\, Y^{4} t^{4} w^{4} + Y^{7} t^{4} - 32 \\, Y^{6} t^{4} w + 234 \\, Y^{5} t^{4} w^{2} - 336 \\, Y^{4} t^{4} w^{3} - 64 \\, Y^{5} t^{2} w^{4} + 65 \\, Y^{3} t^{4} w^{4} + 4 \\, Y^{6} t^{4} - 48 \\, Y^{5} t^{4} w + 148 \\, Y^{4} t^{4} w^{2} + 96 \\, Y^{5} t^{2} w^{3} - 72 \\, Y^{3} t^{4} w^{3} - 256 \\, Y^{4} t^{2} w^{4} + 6 \\, Y^{5} t^{4} - 32 \\, Y^{4} t^{4} w - 56 \\, Y^{5} t^{2} w^{2} + 34 \\, Y^{3} t^{4} w^{2} + 384 \\, Y^{4} t^{2} w^{3} - 344 \\, Y^{3} t^{2} w^{4} + 4 \\, Y^{4} t^{4} + 16 \\, Y^{5} t^{2} w - 8 \\, Y^{3} t^{4} w - 224 \\, Y^{4} t^{2} w^{2} + 520 \\, Y^{3} t^{2} w^{3} - 176 \\, Y^{2} t^{2} w^{4} - 2 \\, Y^{5} t^{2} + Y^{3} t^{4} + 64 \\, Y^{4} t^{2} w - 306 \\, Y^{3} t^{2} w^{2} + 272 \\, Y^{2} t^{2} w^{3} + 16 \\, Y^{3} w^{4} - 24 \\, Y t^{2} w^{4} - 8 \\, Y^{4} t^{2} + 88 \\, Y^{3} t^{2} w - 164 \\, Y^{2} t^{2} w^{2} - 32 \\, Y^{3} w^{3} + 40 \\, Y t^{2} w^{3} + 64 \\, Y^{2} w^{4} - 11 \\, Y^{3} t^{2} + 48 \\, Y^{2} t^{2} w + 24 \\, Y^{3} w^{2} - 26 \\, Y t^{2} w^{2} - 128 \\, Y^{2} w^{3} + 80 \\, Y w^{4} - 6 \\, Y^{2} t^{2} - 8 \\, Y^{3} w + 8 \\, Y t^{2} w + 96 \\, Y^{2} w^{2} - 160 \\, Y w^{3} + 32 \\, w^{4} + Y^{3} - Y t^{2} - 32 \\, Y^{2} w + 120 \\, Y w^{2} - 64 \\, w^{3} + 4 \\, Y^{2} - 40 \\, Y w + 48 \\, w^{2} + 5 \\, Y - 16 \\, w + 2}$$"
      ],
      "text/plain": [
       "2*(8*Y^6*t^4*w^2 + 16*Y^5*t^4*w^2 + 8*Y^4*t^4*w^2 - 16*Y^4*t^2*w^2 + 8*Y^4*t^2*w - 32*Y^3*t^2*w^2 - 2*Y^4*t^2 + 16*Y^3*t^2*w - 14*Y^2*t^2*w^2 - 4*Y^3*t^2 + 8*Y^2*t^2*w - 2*Y^2*t^2 + 8*Y^2*w^2 - 8*Y^2*w + 16*Y*w^2 + 2*Y^2 - 16*Y*w + 4*w^2 + 4*Y - 4*w + 1)*(2*Y*t*w + 2*w - 1)*(2*Y*t*w - 2*w + 1)*(Y*t + 1)*(Y*t - 1)*(Y + 1)*Y/(16*Y^11*t^8*w^4 + 64*Y^10*t^8*w^4 + 96*Y^9*t^8*w^4 + 64*Y^8*t^8*w^4 - 64*Y^9*t^6*w^4 + 16*Y^7*t^8*w^4 + 32*Y^9*t^6*w^3 - 256*Y^8*t^6*w^4 - 8*Y^9*t^6*w^2 + 128*Y^8*t^6*w^3 - 376*Y^7*t^6*w^4 - 32*Y^8*t^6*w^2 + 192*Y^7*t^6*w^3 - 240*Y^6*t^6*w^4 - 48*Y^7*t^6*w^2 + 128*Y^6*t^6*w^3 + 96*Y^7*t^4*w^4 - 56*Y^5*t^6*w^4 - 32*Y^6*t^6*w^2 - 96*Y^7*t^4*w^3 + 32*Y^5*t^6*w^3 + 384*Y^6*t^4*w^4 + 40*Y^7*t^4*w^2 - 8*Y^5*t^6*w^2 - 384*Y^6*t^4*w^3 + 544*Y^5*t^4*w^4 - 8*Y^7*t^4*w + 160*Y^6*t^4*w^2 - 552*Y^5*t^4*w^3 + 320*Y^4*t^4*w^4 + Y^7*t^4 - 32*Y^6*t^4*w + 234*Y^5*t^4*w^2 - 336*Y^4*t^4*w^3 - 64*Y^5*t^2*w^4 + 65*Y^3*t^4*w^4 + 4*Y^6*t^4 - 48*Y^5*t^4*w + 148*Y^4*t^4*w^2 + 96*Y^5*t^2*w^3 - 72*Y^3*t^4*w^3 - 256*Y^4*t^2*w^4 + 6*Y^5*t^4 - 32*Y^4*t^4*w - 56*Y^5*t^2*w^2 + 34*Y^3*t^4*w^2 + 384*Y^4*t^2*w^3 - 344*Y^3*t^2*w^4 + 4*Y^4*t^4 + 16*Y^5*t^2*w - 8*Y^3*t^4*w - 224*Y^4*t^2*w^2 + 520*Y^3*t^2*w^3 - 176*Y^2*t^2*w^4 - 2*Y^5*t^2 + Y^3*t^4 + 64*Y^4*t^2*w - 306*Y^3*t^2*w^2 + 272*Y^2*t^2*w^3 + 16*Y^3*w^4 - 24*Y*t^2*w^4 - 8*Y^4*t^2 + 88*Y^3*t^2*w - 164*Y^2*t^2*w^2 - 32*Y^3*w^3 + 40*Y*t^2*w^3 + 64*Y^2*w^4 - 11*Y^3*t^2 + 48*Y^2*t^2*w + 24*Y^3*w^2 - 26*Y*t^2*w^2 - 128*Y^2*w^3 + 80*Y*w^4 - 6*Y^2*t^2 - 8*Y^3*w + 8*Y*t^2*w + 96*Y^2*w^2 - 160*Y*w^3 + 32*w^4 + Y^3 - Y*t^2 - 32*Y^2*w + 120*Y*w^2 - 64*w^3 + 4*Y^2 - 40*Y*w + 48*w^2 + 5*Y - 16*w + 2)"
      ]
     },
     "metadata": {},
     "output_type": "display_data"
    },
    {
     "name": "stdout",
     "output_type": "stream",
     "text": [
      "Out of terms that were checked, all terms agree.\n"
     ]
    },
    {
     "data": {
      "text/plain": [
       "2*(8*Y^6*t^4*w^2 + 16*Y^5*t^4*w^2 + 8*Y^4*t^4*w^2 - 16*Y^4*t^2*w^2 + 8*Y^4*t^2*w - 32*Y^3*t^2*w^2 - 2*Y^4*t^2 + 16*Y^3*t^2*w - 14*Y^2*t^2*w^2 - 4*Y^3*t^2 + 8*Y^2*t^2*w - 2*Y^2*t^2 + 8*Y^2*w^2 - 8*Y^2*w + 16*Y*w^2 + 2*Y^2 - 16*Y*w + 4*w^2 + 4*Y - 4*w + 1)*(2*Y*t*w + 2*w - 1)*(2*Y*t*w - 2*w + 1)*(Y*t + 1)*(Y*t - 1)*(Y + 1)*Y/(16*Y^11*t^8*w^4 + 64*Y^10*t^8*w^4 + 96*Y^9*t^8*w^4 + 64*Y^8*t^8*w^4 - 64*Y^9*t^6*w^4 + 16*Y^7*t^8*w^4 + 32*Y^9*t^6*w^3 - 256*Y^8*t^6*w^4 - 8*Y^9*t^6*w^2 + 128*Y^8*t^6*w^3 - 376*Y^7*t^6*w^4 - 32*Y^8*t^6*w^2 + 192*Y^7*t^6*w^3 - 240*Y^6*t^6*w^4 - 48*Y^7*t^6*w^2 + 128*Y^6*t^6*w^3 + 96*Y^7*t^4*w^4 - 56*Y^5*t^6*w^4 - 32*Y^6*t^6*w^2 - 96*Y^7*t^4*w^3 + 32*Y^5*t^6*w^3 + 384*Y^6*t^4*w^4 + 40*Y^7*t^4*w^2 - 8*Y^5*t^6*w^2 - 384*Y^6*t^4*w^3 + 544*Y^5*t^4*w^4 - 8*Y^7*t^4*w + 160*Y^6*t^4*w^2 - 552*Y^5*t^4*w^3 + 320*Y^4*t^4*w^4 + Y^7*t^4 - 32*Y^6*t^4*w + 234*Y^5*t^4*w^2 - 336*Y^4*t^4*w^3 - 64*Y^5*t^2*w^4 + 65*Y^3*t^4*w^4 + 4*Y^6*t^4 - 48*Y^5*t^4*w + 148*Y^4*t^4*w^2 + 96*Y^5*t^2*w^3 - 72*Y^3*t^4*w^3 - 256*Y^4*t^2*w^4 + 6*Y^5*t^4 - 32*Y^4*t^4*w - 56*Y^5*t^2*w^2 + 34*Y^3*t^4*w^2 + 384*Y^4*t^2*w^3 - 344*Y^3*t^2*w^4 + 4*Y^4*t^4 + 16*Y^5*t^2*w - 8*Y^3*t^4*w - 224*Y^4*t^2*w^2 + 520*Y^3*t^2*w^3 - 176*Y^2*t^2*w^4 - 2*Y^5*t^2 + Y^3*t^4 + 64*Y^4*t^2*w - 306*Y^3*t^2*w^2 + 272*Y^2*t^2*w^3 + 16*Y^3*w^4 - 24*Y*t^2*w^4 - 8*Y^4*t^2 + 88*Y^3*t^2*w - 164*Y^2*t^2*w^2 - 32*Y^3*w^3 + 40*Y*t^2*w^3 + 64*Y^2*w^4 - 11*Y^3*t^2 + 48*Y^2*t^2*w + 24*Y^3*w^2 - 26*Y*t^2*w^2 - 128*Y^2*w^3 + 80*Y*w^4 - 6*Y^2*t^2 - 8*Y^3*w + 8*Y*t^2*w + 96*Y^2*w^2 - 160*Y*w^3 + 32*w^4 + Y^3 - Y*t^2 - 32*Y^2*w + 120*Y*w^2 - 64*w^3 + 4*Y^2 - 40*Y*w + 48*w^2 + 5*Y - 16*w + 2)"
      ]
     },
     "execution_count": 15,
     "metadata": {},
     "output_type": "execute_result"
    }
   ],
   "source": [
    "f = (1 - 2*w + sqrt((1 - 2*w)^2 - 4*w^2*t^2))/(2*sqrt(1 - t^2)*sqrt((1 - 2*w)^2 - 4*w^2*t^2)) - 1\n",
    "P = 256*Y^4*t^8*w^4+1024*Y^3*t^8*w^4-1024*Y^4*t^6*w^4+1536*Y^2*t^8*w^4+512*Y^4*t^6*w^3-4096*Y^3*t^6*w^4+1024*Y*t^8*w^4-128*Y^4*t^6*w^2+1536*Y^4*t^4*w^4+2048*Y^3*t^6*w^3-6016*Y^2*t^6*w^4+256*t^8*w^4-1536*Y^4*t^4*w^3-512*Y^3*t^6*w^2+6144*Y^3*t^4*w^4+3072*Y^2*t^6*w^3-3840*Y*t^6*w^4+640*Y^4*t^4*w^2-1024*Y^4*t^2*w^4-6144*Y^3*t^4*w^3-768*Y^2*t^6*w^2+8704*Y^2*t^4*w^4+2048*Y*t^6*w^3-896*t^6*w^4-128*Y^4*t^4*w+1536*Y^4*t^2*w^3+2560*Y^3*t^4*w^2-4096*Y^3*t^2*w^4-8832*Y^2*t^4*w^3-512*Y*t^6*w^2+5120*Y*t^4*w^4+512*t^6*w^3+16*Y^4*t^4-896*Y^4*t^2*w^2+256*Y^4*w^4-512*Y^3*t^4*w+6144*Y^3*t^2*w^3+3744*Y^2*t^4*w^2-5504*Y^2*t^2*w^4-5376*Y*t^4*w^3-128*t^6*w^2+1040*t^4*w^4+256*Y^4*t^2*w-512*Y^4*w^3+64*Y^3*t^4-3584*Y^3*t^2*w^2+1024*Y^3*w^4-768*Y^2*t^4*w+8320*Y^2*t^2*w^3+2368*Y*t^4*w^2-2816*Y*t^2*w^4-1152*t^4*w^3-32*Y^4*t^2+384*Y^4*w^2+1024*Y^3*t^2*w-2048*Y^3*w^3+96*Y^2*t^4-4896*Y^2*t^2*w^2+1280*Y^2*w^4-512*Y*t^4*w+4352*Y*t^2*w^3+544*t^4*w^2-384*t^2*w^4-128*Y^4*w-128*Y^3*t^2+1536*Y^3*w^2+1408*Y^2*t^2*w-2560*Y^2*w^3+64*Y*t^4-2624*Y*t^2*w^2+512*Y*w^4-128*t^4*w+640*t^2*w^3+16*Y^4-512*Y^3*w-176*Y^2*t^2+1920*Y^2*w^2+768*Y*t^2*w-1024*Y*w^3+16*t^4-416*t^2*w^2+64*Y^3-640*Y^2*w-96*Y*t^2+768*Y*w^2+128*t^2*w+80*Y^2-256*Y*w-16*t^2+32*Y\n",
    "Furstenberg(P, f, t)"
   ]
  },
  {
   "cell_type": "code",
   "execution_count": 16,
   "metadata": {},
   "outputs": [
    {
     "name": "stdout",
     "output_type": "stream",
     "text": [
      "-(t^2 + sqrt(-t^2 + 1) - 1)/(t^2 - 1)\n",
      "-1/2*(2*w + sqrt(4*w^2 - 4*w + 1) - 1)/(2*w - 1)\n"
     ]
    }
   ],
   "source": [
    "print(limit(f,w=0))\n",
    "print(limit(f,t=0))\n",
    "# No additive polynomial substitution can work (Proposition 5 in paper)"
   ]
  },
  {
   "cell_type": "markdown",
   "metadata": {},
   "source": [
    "### Example 7: Cossali; generalization of the Catalan numbers"
   ]
  },
  {
   "cell_type": "code",
   "execution_count": 17,
   "metadata": {},
   "outputs": [
    {
     "name": "stdout",
     "output_type": "stream",
     "text": [
      "The minimal polynomial is correct.\n",
      "The Furstenberg embedding is:\n"
     ]
    },
    {
     "data": {
      "text/html": [
       "<html><script type=\"math/tex; mode=display\">\\newcommand{\\Bold}[1]{\\mathbf{#1}}\\frac{{\\left(2 \\, Y^{2} x + Y x z + 2 \\, Y x - 1\\right)} Y}{Y^{2} x + Y x z + 2 \\, Y x + x z + x - 1}</script></html>"
      ],
      "text/latex": [
       "$$\\newcommand{\\Bold}[1]{\\mathbf{#1}}\\frac{{\\left(2 \\, Y^{2} x + Y x z + 2 \\, Y x - 1\\right)} Y}{Y^{2} x + Y x z + 2 \\, Y x + x z + x - 1}$$"
      ],
      "text/plain": [
       "(2*Y^2*x + Y*x*z + 2*Y*x - 1)*Y/(Y^2*x + Y*x*z + 2*Y*x + x*z + x - 1)"
      ]
     },
     "metadata": {},
     "output_type": "display_data"
    },
    {
     "name": "stdout",
     "output_type": "stream",
     "text": [
      "Out of terms that were checked, all terms agree.\n"
     ]
    }
   ],
   "source": [
    "L = ((1 - z) - sqrt((1-z)^2 - 4*x))/(2*x)\n",
    "f = L - 1\n",
    "# multiplicative substitution\n",
    "fb = f.subs(z=x*z)\n",
    "P = x*Y^2 + x*Y*z + 2*x*Y + x*z + x - Y\n",
    "F = Furstenberg(P, fb, x)"
   ]
  },
  {
   "cell_type": "code",
   "execution_count": 18,
   "metadata": {},
   "outputs": [
    {
     "data": {
      "text/html": [
       "<html><script type=\"math/tex; mode=display\">\\newcommand{\\Bold}[1]{\\mathbf{#1}}\\left[\\left\\{x : \\frac{p^{3}}{{\\left(p + 1\\right)}^{2}}, z : -\\frac{{\\left(p + 1\\right)} {\\left(p - 1\\right)}}{p^{2}}, Y : \\frac{1}{p}\\right\\}\\right]</script></html>"
      ],
      "text/latex": [
       "$$\\newcommand{\\Bold}[1]{\\mathbf{#1}}\\left[\\left\\{x : \\frac{p^{3}}{{\\left(p + 1\\right)}^{2}}, z : -\\frac{{\\left(p + 1\\right)} {\\left(p - 1\\right)}}{p^{2}}, Y : \\frac{1}{p}\\right\\}\\right]$$"
      ],
      "text/plain": [
       "[{x: p^3/(p + 1)^2, z: -(p + 1)*(p - 1)/p^2, Y: 1/p}]"
      ]
     },
     "metadata": {},
     "output_type": "display_data"
    }
   ],
   "source": [
    "# Find critical points:\n",
    "G = F.numerator()\n",
    "H = F.denominator()\n",
    "CritSols = critpt(H, [1, (1-p), 1], [x, z, Y])\n",
    "show(CritSols)\n",
    "CP = CritSols[0]"
   ]
  },
  {
   "cell_type": "code",
   "execution_count": 19,
   "metadata": {},
   "outputs": [
    {
     "data": {
      "text/plain": [
       "[]"
      ]
     },
     "execution_count": 19,
     "metadata": {},
     "output_type": "execute_result"
    }
   ],
   "source": [
    "# Check for non-smooth points:\n",
    "nonsmoothpt(H, [1, (1-p), 1], [x, z, Y])"
   ]
  },
  {
   "cell_type": "code",
   "execution_count": 20,
   "metadata": {},
   "outputs": [
    {
     "name": "stdout",
     "output_type": "stream",
     "text": [
      "The asymptotics:\n"
     ]
    },
    {
     "data": {
      "text/html": [
       "<html><script type=\"math/tex; mode=display\">\\newcommand{\\Bold}[1]{\\mathbf{#1}}\\frac{\\left(-\\frac{{\\left(p {\\left(-p + 1\\right)}^{p} + {\\left(-p + 1\\right)}^{p}\\right)} {\\left(p + 1\\right)}^{p}}{{\\left(p - 1\\right)} p^{2 \\, p}}\\right)^{n}}{n} \\Bigg( -\\frac{\\sqrt{p + 1} \\sqrt{-p + 1}}{2 \\, \\pi n {\\left(p - 1\\right)} p^{2}} + O\\Bigg( \\frac{1}{n^{2}} \\Bigg)\\Bigg)</script></html>"
      ],
      "text/latex": [
       "$$\\newcommand{\\Bold}[1]{\\mathbf{#1}}\\frac{\\left(-\\frac{{\\left(p {\\left(-p + 1\\right)}^{p} + {\\left(-p + 1\\right)}^{p}\\right)} {\\left(p + 1\\right)}^{p}}{{\\left(p - 1\\right)} p^{2 \\, p}}\\right)^{n}}{n} \\Bigg( -\\frac{\\sqrt{p + 1} \\sqrt{-p + 1}}{2 \\, \\pi n {\\left(p - 1\\right)} p^{2}} + O\\Bigg( \\frac{1}{n^{2}} \\Bigg)\\Bigg)$$"
      ],
      "text/plain": [
       "(-(p*(-p + 1)^p + (-p + 1)^p)*(p + 1)^p/((p - 1)*p^(2*p)))^n/n \\Bigg( -1/2*sqrt(p + 1)*sqrt(-p + 1)/(pi*n*(p - 1)*p^2) + O\\Bigg( n^(-2) \\Bigg)\\Bigg)"
      ]
     },
     "metadata": {},
     "output_type": "display_data"
    }
   ],
   "source": [
    "# Compute asymptotics:\n",
    "r = [1-p,1,1]\n",
    "vars = [z, Y, x]\n",
    "gOptions = solve(H, x)\n",
    "g = gOptions[0].rhs()\n",
    "\n",
    "M=2\n",
    "ex,pw,se = smoothContrib(G,H,r,vars,CP,M,g)\n",
    "print(\"The asymptotics:\")\n",
    "disp_asm(ex,pw,se.factor(),M)"
   ]
  },
  {
   "cell_type": "markdown",
   "metadata": {},
   "source": [
    "### Example 8: Eu; refinement of noncrossing partitions"
   ]
  },
  {
   "cell_type": "code",
   "execution_count": 21,
   "metadata": {},
   "outputs": [
    {
     "name": "stdout",
     "output_type": "stream",
     "text": [
      "The minimal polynomial is correct.\n",
      "The Furstenberg embedding is:\n"
     ]
    },
    {
     "data": {
      "text/html": [
       "<html><script type=\"math/tex; mode=display\">\\newcommand{\\Bold}[1]{\\mathbf{#1}}\\frac{{\\left(2 \\, Y^{3} u x^{2} + 2 \\, Y^{2} u x^{2} + 2 \\, Y^{2} x + Y x - 1\\right)} Y}{Y^{3} u x^{2} + 2 \\, Y^{2} u x^{2} + Y u x^{2} + Y^{2} x + Y x - 1}</script></html>"
      ],
      "text/latex": [
       "$$\\newcommand{\\Bold}[1]{\\mathbf{#1}}\\frac{{\\left(2 \\, Y^{3} u x^{2} + 2 \\, Y^{2} u x^{2} + 2 \\, Y^{2} x + Y x - 1\\right)} Y}{Y^{3} u x^{2} + 2 \\, Y^{2} u x^{2} + Y u x^{2} + Y^{2} x + Y x - 1}$$"
      ],
      "text/plain": [
       "(2*Y^3*u*x^2 + 2*Y^2*u*x^2 + 2*Y^2*x + Y*x - 1)*Y/(Y^3*u*x^2 + 2*Y^2*u*x^2 + Y*u*x^2 + Y^2*x + Y*x - 1)"
      ]
     },
     "metadata": {},
     "output_type": "display_data"
    },
    {
     "name": "stdout",
     "output_type": "stream",
     "text": [
      "Out of terms that were checked, all terms agree.\n",
      "The minimal polynomial is correct.\n",
      "The Furstenberg embedding is:\n"
     ]
    },
    {
     "data": {
      "text/html": [
       "<html><script type=\"math/tex; mode=display\">\\newcommand{\\Bold}[1]{\\mathbf{#1}}\\frac{{\\left(2 \\, Y^{2} u x^{2} + 2 \\, Y u x^{2} + 2 \\, Y x + x - 1\\right)} Y}{Y^{2} u x^{2} + 2 \\, Y u x^{2} + u x^{2} + Y x + x - 1}</script></html>"
      ],
      "text/latex": [
       "$$\\newcommand{\\Bold}[1]{\\mathbf{#1}}\\frac{{\\left(2 \\, Y^{2} u x^{2} + 2 \\, Y u x^{2} + 2 \\, Y x + x - 1\\right)} Y}{Y^{2} u x^{2} + 2 \\, Y u x^{2} + u x^{2} + Y x + x - 1}$$"
      ],
      "text/plain": [
       "(2*Y^2*u*x^2 + 2*Y*u*x^2 + 2*Y*x + x - 1)*Y/(Y^2*u*x^2 + 2*Y*u*x^2 + u*x^2 + Y*x + x - 1)"
      ]
     },
     "metadata": {},
     "output_type": "display_data"
    },
    {
     "name": "stdout",
     "output_type": "stream",
     "text": [
      "Out of terms that were checked, all terms agree.\n"
     ]
    },
    {
     "data": {
      "text/plain": [
       "(2*Y^2*u*x^2 + 2*Y*u*x^2 + 2*Y*x + x - 1)*Y/(Y^2*u*x^2 + 2*Y*u*x^2 + u*x^2 + Y*x + x - 1)"
      ]
     },
     "execution_count": 21,
     "metadata": {},
     "output_type": "execute_result"
    }
   ],
   "source": [
    "P = u*x^2*(Y)^2 + 2*u*x^2*(Y) + u*x^2 + x*(Y)^2 + x*(Y) - (Y)\n",
    "f = (1 + x - sqrt(1 - 2*x + x^2 - 4*x^2*u))/(2*x*(1 + x*u)) - 1\n",
    "# Two options for lifting here.  Both are combinatorial!\n",
    "F = Furstenberg(P, f, x)\n",
    "Furstenberg(P, f, u)"
   ]
  },
  {
   "cell_type": "code",
   "execution_count": 22,
   "metadata": {},
   "outputs": [
    {
     "data": {
      "text/html": [
       "<html><script type=\"math/tex; mode=display\">\\newcommand{\\Bold}[1]{\\mathbf{#1}}\\left[\\left\\{x : -\\frac{{\\left(3 \\, p - 2\\right)} {\\left(2 \\, p - 1\\right)}}{{\\left(p - 1\\right)} p}, u : \\frac{{\\left(p - 1\\right)}^{2}}{{\\left(3 \\, p - 2\\right)}^{2}}, Y : -\\frac{p - 1}{2 \\, p - 1}\\right\\}\\right]</script></html>"
      ],
      "text/latex": [
       "$$\\newcommand{\\Bold}[1]{\\mathbf{#1}}\\left[\\left\\{x : -\\frac{{\\left(3 \\, p - 2\\right)} {\\left(2 \\, p - 1\\right)}}{{\\left(p - 1\\right)} p}, u : \\frac{{\\left(p - 1\\right)}^{2}}{{\\left(3 \\, p - 2\\right)}^{2}}, Y : -\\frac{p - 1}{2 \\, p - 1}\\right\\}\\right]$$"
      ],
      "text/plain": [
       "[{x: -(3*p - 2)*(2*p - 1)/((p - 1)*p),\n",
       "  u: (p - 1)^2/(3*p - 2)^2,\n",
       "  Y: -(p - 1)/(2*p - 1)}]"
      ]
     },
     "metadata": {},
     "output_type": "display_data"
    }
   ],
   "source": [
    "# For the first embedding, we search for critical points:\n",
    "G = F.numerator()\n",
    "H = F.denominator()\n",
    "CritSols = critpt(H, [p, (1-p), p], [x, u, Y])\n",
    "show(CritSols)\n",
    "CP = CritSols[0]"
   ]
  },
  {
   "cell_type": "code",
   "execution_count": 23,
   "metadata": {},
   "outputs": [
    {
     "data": {
      "text/plain": [
       "[{x: 1/2/(4*r1^2 - r1), u: r1, Y: -4*r1, p: 0}]"
      ]
     },
     "execution_count": 23,
     "metadata": {},
     "output_type": "execute_result"
    }
   ],
   "source": [
    "# Check for non-smooth points:\n",
    "nonsmoothpt(H, [p, (1-p), p], [x, u, Y])\n",
    "# Only when p = 0, which is not relevant combinatorially"
   ]
  },
  {
   "cell_type": "code",
   "execution_count": 24,
   "metadata": {},
   "outputs": [
    {
     "name": "stdout",
     "output_type": "stream",
     "text": [
      "The asymptotics:\n"
     ]
    },
    {
     "data": {
      "text/html": [
       "<html><script type=\"math/tex; mode=display\">\\newcommand{\\Bold}[1]{\\mathbf{#1}}-\\frac{\\left(\\frac{{\\left(9 \\, {\\left(p - 1\\right)}^{2 \\, p} p^{2} - 12 \\, {\\left(p - 1\\right)}^{2 \\, p} p + 4 \\, {\\left(p - 1\\right)}^{2 \\, p}\\right)} p^{p}}{{\\left(p^{2} {\\left(-3 \\, p + 2\\right)}^{p} - 2 \\, p {\\left(-3 \\, p + 2\\right)}^{p} + {\\left(-3 \\, p + 2\\right)}^{p}\\right)} \\left(-1\\right)^{p} {\\left(3 \\, p - 2\\right)}^{2 \\, p}}\\right)^{n}}{n {\\left(p - 1\\right)}} \\Bigg( \\frac{{\\left(p - 1\\right)} \\sqrt{p}}{2 \\, \\pi n \\sqrt{3 \\, p - 2} {\\left(2 \\, p - 1\\right)}^{2}} + O\\Bigg( \\frac{1}{n^{2}} \\Bigg)\\Bigg)</script></html>"
      ],
      "text/latex": [
       "$$\\newcommand{\\Bold}[1]{\\mathbf{#1}}-\\frac{\\left(\\frac{{\\left(9 \\, {\\left(p - 1\\right)}^{2 \\, p} p^{2} - 12 \\, {\\left(p - 1\\right)}^{2 \\, p} p + 4 \\, {\\left(p - 1\\right)}^{2 \\, p}\\right)} p^{p}}{{\\left(p^{2} {\\left(-3 \\, p + 2\\right)}^{p} - 2 \\, p {\\left(-3 \\, p + 2\\right)}^{p} + {\\left(-3 \\, p + 2\\right)}^{p}\\right)} \\left(-1\\right)^{p} {\\left(3 \\, p - 2\\right)}^{2 \\, p}}\\right)^{n}}{n {\\left(p - 1\\right)}} \\Bigg( \\frac{{\\left(p - 1\\right)} \\sqrt{p}}{2 \\, \\pi n \\sqrt{3 \\, p - 2} {\\left(2 \\, p - 1\\right)}^{2}} + O\\Bigg( \\frac{1}{n^{2}} \\Bigg)\\Bigg)$$"
      ],
      "text/plain": [
       "-((9*(p - 1)^(2*p)*p^2 - 12*(p - 1)^(2*p)*p + 4*(p - 1)^(2*p))*p^p/((p^2*(-3*p + 2)^p - 2*p*(-3*p + 2)^p + (-3*p + 2)^p)*(-1)^p*(3*p - 2)^(2*p)))^n/(n*(p - 1)) \\Bigg( 1/2*(p - 1)*sqrt(p)/(pi*n*sqrt(3*p - 2)*(2*p - 1)^2) + O\\Bigg( n^(-2) \\Bigg)\\Bigg)"
      ]
     },
     "metadata": {},
     "output_type": "display_data"
    }
   ],
   "source": [
    "# Now, we compute asymptotics:\n",
    "r = [p, p, 1-p]\n",
    "vars = [Y, x, u]\n",
    "gOptions = solve(H, u)\n",
    "g1 = gOptions[0].rhs()\n",
    "\n",
    "M=2\n",
    "ex,pw,se = smoothContrib(G,H,r,vars,CP,M,g1)\n",
    "print(\"The asymptotics:\")\n",
    "disp_asm(ex,pw,se.factor(),M)"
   ]
  },
  {
   "cell_type": "markdown",
   "metadata": {},
   "source": [
    "### Example 9: Doslic et al.; RNA secondary structures"
   ]
  },
  {
   "cell_type": "code",
   "execution_count": 25,
   "metadata": {},
   "outputs": [
    {
     "name": "stdout",
     "output_type": "stream",
     "text": [
      "The minimal polynomial is correct.\n",
      "The Furstenberg embedding is:\n"
     ]
    },
    {
     "data": {
      "text/html": [
       "<html><script type=\"math/tex; mode=display\">\\newcommand{\\Bold}[1]{\\mathbf{#1}}\\frac{{\\left(Y^{4} x^{4} y + Y^{3} x^{3} y - 2 \\, Y^{3} x^{2} y - Y^{2} x^{2} y - Y x + 1\\right)} Y}{Y^{4} x^{4} y + Y^{3} x^{4} y + Y^{3} x^{3} y - Y^{3} x^{2} y + Y^{2} x^{3} y - Y^{2} x^{2} y - Y x - x + 1}</script></html>"
      ],
      "text/latex": [
       "$$\\newcommand{\\Bold}[1]{\\mathbf{#1}}\\frac{{\\left(Y^{4} x^{4} y + Y^{3} x^{3} y - 2 \\, Y^{3} x^{2} y - Y^{2} x^{2} y - Y x + 1\\right)} Y}{Y^{4} x^{4} y + Y^{3} x^{4} y + Y^{3} x^{3} y - Y^{3} x^{2} y + Y^{2} x^{3} y - Y^{2} x^{2} y - Y x - x + 1}$$"
      ],
      "text/plain": [
       "(Y^4*x^4*y + Y^3*x^3*y - 2*Y^3*x^2*y - Y^2*x^2*y - Y*x + 1)*Y/(Y^4*x^4*y + Y^3*x^4*y + Y^3*x^3*y - Y^3*x^2*y + Y^2*x^3*y - Y^2*x^2*y - Y*x - x + 1)"
      ]
     },
     "metadata": {},
     "output_type": "display_data"
    },
    {
     "name": "stdout",
     "output_type": "stream",
     "text": [
      "Out of terms that were checked, all terms agree.\n"
     ]
    },
    {
     "data": {
      "text/plain": [
       "(Y^4*x^4*y + Y^3*x^3*y - 2*Y^3*x^2*y - Y^2*x^2*y - Y*x + 1)*Y/(Y^4*x^4*y + Y^3*x^4*y + Y^3*x^3*y - Y^3*x^2*y + Y^2*x^3*y - Y^2*x^2*y - Y*x - x + 1)"
      ]
     },
     "execution_count": 25,
     "metadata": {},
     "output_type": "execute_result"
    }
   ],
   "source": [
    "var('x, y, Y')\n",
    "#l is a parameter in the RNA corresponding to the minimum distance between base pairs.  l = 3 is common, although other values are considered.\n",
    "l = 3\n",
    "omega = x - 1 - x^2*(1 - pow(x, l))/(1-x)\n",
    "Omega = (1 - x)*(1-y) - y*omega\n",
    "S = 1/(2*x^2*y)*(Omega - sqrt(Omega^2 - 4*x^2*y))\n",
    "f = S - 1\n",
    "P = -Y*x^4*y+Y^2*x^2*y-Y*x^3*y-x^4*y+Y*x^2*y-x^3*y+Y*x-Y+x\n",
    "Furstenberg(P, f, x)"
   ]
  },
  {
   "cell_type": "code",
   "execution_count": 26,
   "metadata": {},
   "outputs": [
    {
     "name": "stdout",
     "output_type": "stream",
     "text": [
      "The minimal polynomial is correct.\n",
      "The Furstenberg embedding is:\n"
     ]
    },
    {
     "data": {
      "text/html": [
       "<html><script type=\"math/tex; mode=display\">\\newcommand{\\Bold}[1]{\\mathbf{#1}}\\frac{{\\left(Y^{4} x^{4} y + Y^{3} x^{3} y + 2 \\, Y^{3} x^{2} y + Y^{2} x^{2} y + Y x - 1\\right)} Y}{Y^{4} x^{4} y + Y^{3} x^{3} y + Y^{3} x^{2} y + Y^{2} x^{3} + Y^{2} x^{2} y + Y x - 1}</script></html>"
      ],
      "text/latex": [
       "$$\\newcommand{\\Bold}[1]{\\mathbf{#1}}\\frac{{\\left(Y^{4} x^{4} y + Y^{3} x^{3} y + 2 \\, Y^{3} x^{2} y + Y^{2} x^{2} y + Y x - 1\\right)} Y}{Y^{4} x^{4} y + Y^{3} x^{3} y + Y^{3} x^{2} y + Y^{2} x^{3} + Y^{2} x^{2} y + Y x - 1}$$"
      ],
      "text/plain": [
       "(Y^4*x^4*y + Y^3*x^3*y + 2*Y^3*x^2*y + Y^2*x^2*y + Y*x - 1)*Y/(Y^4*x^4*y + Y^3*x^3*y + Y^3*x^2*y + Y^2*x^3 + Y^2*x^2*y + Y*x - 1)"
      ]
     },
     "metadata": {},
     "output_type": "display_data"
    },
    {
     "name": "stdout",
     "output_type": "stream",
     "text": [
      "Out of terms that were checked, all terms agree.\n"
     ]
    }
   ],
   "source": [
    "# To make combinatorial, we use an additive substitution:\n",
    "f1 = f - x - x^2\n",
    "P1 = P.subs(Y = Y + x + x^2)\n",
    "F = Furstenberg(P1, f1, x)"
   ]
  },
  {
   "cell_type": "markdown",
   "metadata": {},
   "source": [
    "### Example 10: Drmota; dissections"
   ]
  },
  {
   "cell_type": "code",
   "execution_count": 27,
   "metadata": {},
   "outputs": [
    {
     "name": "stdout",
     "output_type": "stream",
     "text": [
      "The minimal polynomial is correct.\n",
      "The Furstenberg embedding is:\n"
     ]
    },
    {
     "data": {
      "text/html": [
       "<html><script type=\"math/tex; mode=display\">\\newcommand{\\Bold}[1]{\\mathbf{#1}}\\frac{{\\left(2 \\, Y^{2} x y^{2} + 2 \\, Y^{2} x y + 2 \\, Y x y^{2} + Y x y - 1\\right)} Y}{Y^{2} x y^{2} + Y^{2} x y + 2 \\, Y x y^{2} + Y x y + x y^{2} - 1}</script></html>"
      ],
      "text/latex": [
       "$$\\newcommand{\\Bold}[1]{\\mathbf{#1}}\\frac{{\\left(2 \\, Y^{2} x y^{2} + 2 \\, Y^{2} x y + 2 \\, Y x y^{2} + Y x y - 1\\right)} Y}{Y^{2} x y^{2} + Y^{2} x y + 2 \\, Y x y^{2} + Y x y + x y^{2} - 1}$$"
      ],
      "text/plain": [
       "(2*Y^2*x*y^2 + 2*Y^2*x*y + 2*Y*x*y^2 + Y*x*y - 1)*Y/(Y^2*x*y^2 + Y^2*x*y + 2*Y*x*y^2 + Y*x*y + x*y^2 - 1)"
      ]
     },
     "metadata": {},
     "output_type": "display_data"
    },
    {
     "name": "stdout",
     "output_type": "stream",
     "text": [
      "Out of terms that were checked, all terms agree.\n"
     ]
    }
   ],
   "source": [
    "f = -(1/2)*(2*x*y^2+x*y+sqrt(x^2*y^2-4*x*y^2-2*x*y+1)-1)/(x*y*(y+1))\n",
    "P = -Y + x*y^2*(1 + Y)^2 + x*y*(1 + Y)*Y\n",
    "F = Furstenberg(P, f, x)"
   ]
  },
  {
   "cell_type": "code",
   "execution_count": 28,
   "metadata": {},
   "outputs": [
    {
     "data": {
      "text/html": [
       "<html><script type=\"math/tex; mode=display\">\\newcommand{\\Bold}[1]{\\mathbf{#1}}\\left[\\left\\{x : -\\frac{{\\left(3 \\, p - 1\\right)}^{2} p}{{\\left(2 \\, p - 1\\right)}^{3}}, y : -\\frac{{\\left(2 \\, p - 1\\right)}^{2}}{{\\left(3 \\, p - 1\\right)} {\\left(p - 1\\right)}}, Y : -\\frac{2 \\, p - 1}{p}\\right\\}\\right]</script></html>"
      ],
      "text/latex": [
       "$$\\newcommand{\\Bold}[1]{\\mathbf{#1}}\\left[\\left\\{x : -\\frac{{\\left(3 \\, p - 1\\right)}^{2} p}{{\\left(2 \\, p - 1\\right)}^{3}}, y : -\\frac{{\\left(2 \\, p - 1\\right)}^{2}}{{\\left(3 \\, p - 1\\right)} {\\left(p - 1\\right)}}, Y : -\\frac{2 \\, p - 1}{p}\\right\\}\\right]$$"
      ],
      "text/plain": [
       "[{x: -(3*p - 1)^2*p/(2*p - 1)^3,\n",
       "  y: -(2*p - 1)^2/((3*p - 1)*(p - 1)),\n",
       "  Y: -(2*p - 1)/p}]"
      ]
     },
     "metadata": {},
     "output_type": "display_data"
    }
   ],
   "source": [
    "# Find critical points:\n",
    "G = F.numerator()\n",
    "H = F.denominator()\n",
    "CritSols = critpt(H, [p, (1-p), p], [x, y, Y])\n",
    "show(CritSols)\n",
    "CP = CritSols[0]"
   ]
  },
  {
   "cell_type": "code",
   "execution_count": 29,
   "metadata": {},
   "outputs": [
    {
     "data": {
      "text/plain": [
       "[]"
      ]
     },
     "execution_count": 29,
     "metadata": {},
     "output_type": "execute_result"
    }
   ],
   "source": [
    "# Check for non-smooth points:\n",
    "nonsmoothpt(H, [p, (1-p), p], [x, z, Y])"
   ]
  },
  {
   "cell_type": "code",
   "execution_count": 30,
   "metadata": {},
   "outputs": [
    {
     "name": "stdout",
     "output_type": "stream",
     "text": [
      "The asymptotics:\n"
     ]
    },
    {
     "data": {
      "text/html": [
       "<html><script type=\"math/tex; mode=display\">\\newcommand{\\Bold}[1]{\\mathbf{#1}}\\frac{\\left(-\\frac{{\\left(3 \\, p^{2} {\\left(-2 \\, p + 1\\right)}^{2 \\, p} - 4 \\, p {\\left(-2 \\, p + 1\\right)}^{2 \\, p} + {\\left(-2 \\, p + 1\\right)}^{2 \\, p}\\right)} {\\left(2 \\, p - 1\\right)}^{2 \\, p}}{4 \\, {\\left(p - 1\\right)}^{p} p^{2} {\\left(-3 \\, p + 1\\right)}^{3 \\, p} - 4 \\, {\\left(p - 1\\right)}^{p} p {\\left(-3 \\, p + 1\\right)}^{3 \\, p} + {\\left(p - 1\\right)}^{p} {\\left(-3 \\, p + 1\\right)}^{3 \\, p}}\\right)^{n}}{n p} \\Bigg( \\frac{\\sqrt{p - 1} \\sqrt{-3 \\, p + 1}}{2 \\, \\pi n {\\left(3 \\, p - 1\\right)} p} + O\\Bigg( \\frac{1}{n^{2}} \\Bigg)\\Bigg)</script></html>"
      ],
      "text/latex": [
       "$$\\newcommand{\\Bold}[1]{\\mathbf{#1}}\\frac{\\left(-\\frac{{\\left(3 \\, p^{2} {\\left(-2 \\, p + 1\\right)}^{2 \\, p} - 4 \\, p {\\left(-2 \\, p + 1\\right)}^{2 \\, p} + {\\left(-2 \\, p + 1\\right)}^{2 \\, p}\\right)} {\\left(2 \\, p - 1\\right)}^{2 \\, p}}{4 \\, {\\left(p - 1\\right)}^{p} p^{2} {\\left(-3 \\, p + 1\\right)}^{3 \\, p} - 4 \\, {\\left(p - 1\\right)}^{p} p {\\left(-3 \\, p + 1\\right)}^{3 \\, p} + {\\left(p - 1\\right)}^{p} {\\left(-3 \\, p + 1\\right)}^{3 \\, p}}\\right)^{n}}{n p} \\Bigg( \\frac{\\sqrt{p - 1} \\sqrt{-3 \\, p + 1}}{2 \\, \\pi n {\\left(3 \\, p - 1\\right)} p} + O\\Bigg( \\frac{1}{n^{2}} \\Bigg)\\Bigg)$$"
      ],
      "text/plain": [
       "(-(3*p^2*(-2*p + 1)^(2*p) - 4*p*(-2*p + 1)^(2*p) + (-2*p + 1)^(2*p))*(2*p - 1)^(2*p)/(4*(p - 1)^p*p^2*(-3*p + 1)^(3*p) - 4*(p - 1)^p*p*(-3*p + 1)^(3*p) + (p - 1)^p*(-3*p + 1)^(3*p)))^n/(n*p) \\Bigg( 1/2*sqrt(p - 1)*sqrt(-3*p + 1)/(pi*n*(3*p - 1)*p) + O\\Bigg( n^(-2) \\Bigg)\\Bigg)"
      ]
     },
     "metadata": {},
     "output_type": "display_data"
    }
   ],
   "source": [
    "# Compute asymptotics:\n",
    "r = [(1-p), p, p]\n",
    "vars = [y, Y, x]\n",
    "gOptions = solve(H, x)\n",
    "g1 = gOptions[0].rhs()\n",
    "\n",
    "M=2\n",
    "ex,pw,se = smoothContrib(G,H,r,vars,CP,M,g1)\n",
    "print(\"The asymptotics:\")\n",
    "disp_asm(ex,pw,se.factor(),M)"
   ]
  },
  {
   "cell_type": "markdown",
   "metadata": {},
   "source": [
    "### Example 11: Roitner; ascents in Schroeder paths"
   ]
  },
  {
   "cell_type": "code",
   "execution_count": 31,
   "metadata": {},
   "outputs": [
    {
     "name": "stdout",
     "output_type": "stream",
     "text": [
      "The minimal polynomial is correct.\n",
      "The Furstenberg embedding is:\n"
     ]
    },
    {
     "data": {
      "text/html": [
       "<html><script type=\"math/tex; mode=display\">\\newcommand{\\Bold}[1]{\\mathbf{#1}}\\frac{{\\left(2 \\, Y^{3} v x^{2} - 2 \\, Y^{3} x^{2} + 2 \\, Y^{2} v x^{2} - 2 \\, Y^{2} x^{2} + 2 \\, Y^{2} x + Y v x + 2 \\, Y x - 1\\right)} Y}{Y^{3} v x^{2} - Y^{3} x^{2} + 2 \\, Y^{2} v x^{2} - 2 \\, Y^{2} x^{2} + Y v x^{2} + Y^{2} x + Y v x - Y x^{2} + 2 \\, Y x + v x + x - 1}</script></html>"
      ],
      "text/latex": [
       "$$\\newcommand{\\Bold}[1]{\\mathbf{#1}}\\frac{{\\left(2 \\, Y^{3} v x^{2} - 2 \\, Y^{3} x^{2} + 2 \\, Y^{2} v x^{2} - 2 \\, Y^{2} x^{2} + 2 \\, Y^{2} x + Y v x + 2 \\, Y x - 1\\right)} Y}{Y^{3} v x^{2} - Y^{3} x^{2} + 2 \\, Y^{2} v x^{2} - 2 \\, Y^{2} x^{2} + Y v x^{2} + Y^{2} x + Y v x - Y x^{2} + 2 \\, Y x + v x + x - 1}$$"
      ],
      "text/plain": [
       "(2*Y^3*v*x^2 - 2*Y^3*x^2 + 2*Y^2*v*x^2 - 2*Y^2*x^2 + 2*Y^2*x + Y*v*x + 2*Y*x - 1)*Y/(Y^3*v*x^2 - Y^3*x^2 + 2*Y^2*v*x^2 - 2*Y^2*x^2 + Y*v*x^2 + Y^2*x + Y*v*x - Y*x^2 + 2*Y*x + v*x + x - 1)"
      ]
     },
     "metadata": {},
     "output_type": "display_data"
    },
    {
     "name": "stdout",
     "output_type": "stream",
     "text": [
      "Out of terms that were checked, all terms agree.\n"
     ]
    },
    {
     "data": {
      "text/plain": [
       "(2*Y^3*v*x^2 - 2*Y^3*x^2 + 2*Y^2*v*x^2 - 2*Y^2*x^2 + 2*Y^2*x + Y*v*x + 2*Y*x - 1)*Y/(Y^3*v*x^2 - Y^3*x^2 + 2*Y^2*v*x^2 - 2*Y^2*x^2 + Y*v*x^2 + Y^2*x + Y*v*x - Y*x^2 + 2*Y*x + v*x + x - 1)"
      ]
     },
     "execution_count": 31,
     "metadata": {},
     "output_type": "execute_result"
    }
   ],
   "source": [
    "A = 1 - x*v\n",
    "B = sqrt(1 - 2*x*(v+2) + x^2*(v-2)^2)\n",
    "C = 2*x*(1 + x*(v-1))\n",
    "E = (A - B)/C\n",
    "f = E - 1\n",
    "P = Y^2*v*x^2-Y^2*x^2+2*Y*v*x^2+Y^2*x+Y*v*x-2*Y*x^2+v*x^2+2*Y*x+v*x-x^2-Y+x\n",
    "Furstenberg(P, f, x)"
   ]
  },
  {
   "cell_type": "code",
   "execution_count": 32,
   "metadata": {},
   "outputs": [
    {
     "data": {
      "text/plain": [
       "1"
      ]
     },
     "execution_count": 32,
     "metadata": {},
     "output_type": "execute_result"
    }
   ],
   "source": [
    "# No obvious additive substitution\n",
    "limit(E, v=0) # can't do additive substitution using variable v\n",
    "limit(E, x=0) # not ruled out with variable x"
   ]
  },
  {
   "cell_type": "markdown",
   "metadata": {},
   "source": [
    "### Example 12: Asinowski and Banderier; patterns in lattice paths"
   ]
  },
  {
   "cell_type": "code",
   "execution_count": 33,
   "metadata": {},
   "outputs": [
    {
     "name": "stdout",
     "output_type": "stream",
     "text": [
      "The minimal polynomial is correct.\n",
      "The Furstenberg embedding is:\n"
     ]
    },
    {
     "data": {
      "text/html": [
       "<html><script type=\"math/tex; mode=display\">\\newcommand{\\Bold}[1]{\\mathbf{#1}}\\frac{2 \\, {\\left(A^{2} B^{2} Y^{4} t^{4} - A^{2} Y^{4} t^{4} - B^{2} Y^{4} t^{4} - A^{2} B^{2} Y^{2} t^{2} + Y^{4} t^{4} - 3 \\, Y^{2} t^{2} + 1\\right)} {\\left(Y + 1\\right)} Y}{A^{2} B^{2} Y^{5} t^{4} + 2 \\, A^{2} B^{2} Y^{4} t^{4} - A^{2} Y^{5} t^{4} - B^{2} Y^{5} t^{4} - 2 \\, A^{2} Y^{4} t^{4} - 2 \\, B^{2} Y^{4} t^{4} - A^{2} B^{2} Y^{3} t^{2} + Y^{5} t^{4} - 2 \\, A^{2} B^{2} Y^{2} t^{2} + 2 \\, Y^{4} t^{4} - 3 \\, Y^{3} t^{2} - 6 \\, Y^{2} t^{2} - 4 \\, Y t^{2} + Y + 2}</script></html>"
      ],
      "text/latex": [
       "$$\\newcommand{\\Bold}[1]{\\mathbf{#1}}\\frac{2 \\, {\\left(A^{2} B^{2} Y^{4} t^{4} - A^{2} Y^{4} t^{4} - B^{2} Y^{4} t^{4} - A^{2} B^{2} Y^{2} t^{2} + Y^{4} t^{4} - 3 \\, Y^{2} t^{2} + 1\\right)} {\\left(Y + 1\\right)} Y}{A^{2} B^{2} Y^{5} t^{4} + 2 \\, A^{2} B^{2} Y^{4} t^{4} - A^{2} Y^{5} t^{4} - B^{2} Y^{5} t^{4} - 2 \\, A^{2} Y^{4} t^{4} - 2 \\, B^{2} Y^{4} t^{4} - A^{2} B^{2} Y^{3} t^{2} + Y^{5} t^{4} - 2 \\, A^{2} B^{2} Y^{2} t^{2} + 2 \\, Y^{4} t^{4} - 3 \\, Y^{3} t^{2} - 6 \\, Y^{2} t^{2} - 4 \\, Y t^{2} + Y + 2}$$"
      ],
      "text/plain": [
       "2*(A^2*B^2*Y^4*t^4 - A^2*Y^4*t^4 - B^2*Y^4*t^4 - A^2*B^2*Y^2*t^2 + Y^4*t^4 - 3*Y^2*t^2 + 1)*(Y + 1)*Y/(A^2*B^2*Y^5*t^4 + 2*A^2*B^2*Y^4*t^4 - A^2*Y^5*t^4 - B^2*Y^5*t^4 - 2*A^2*Y^4*t^4 - 2*B^2*Y^4*t^4 - A^2*B^2*Y^3*t^2 + Y^5*t^4 - 2*A^2*B^2*Y^2*t^2 + 2*Y^4*t^4 - 3*Y^3*t^2 - 6*Y^2*t^2 - 4*Y*t^2 + Y + 2)"
      ]
     },
     "metadata": {},
     "output_type": "display_data"
    },
    {
     "name": "stdout",
     "output_type": "stream",
     "text": [
      "Out of terms that were checked, all terms agree.\n"
     ]
    },
    {
     "data": {
      "text/plain": [
       "2*(A^2*B^2*Y^4*t^4 - A^2*Y^4*t^4 - B^2*Y^4*t^4 - A^2*B^2*Y^2*t^2 + Y^4*t^4 - 3*Y^2*t^2 + 1)*(Y + 1)*Y/(A^2*B^2*Y^5*t^4 + 2*A^2*B^2*Y^4*t^4 - A^2*Y^5*t^4 - B^2*Y^5*t^4 - 2*A^2*Y^4*t^4 - 2*B^2*Y^4*t^4 - A^2*B^2*Y^3*t^2 + Y^5*t^4 - 2*A^2*B^2*Y^2*t^2 + 2*Y^4*t^4 - 3*Y^3*t^2 - 6*Y^2*t^2 - 4*Y*t^2 + Y + 2)"
      ]
     },
     "execution_count": 33,
     "metadata": {},
     "output_type": "execute_result"
    }
   ],
   "source": [
    "f = sqrt((1 + (1 - a*b)*t^2 + (1-a)*(1-b)*t^4)/(1 + (-3-a*b)*t^2 + (1-a)*(1-b)*t^4)) - 1\n",
    "P = (Y+1)^2*(1 + (-3-a*b)*t^2 + (1-a)*(1-b)*t^4) - (1 + (1 - a*b)*t^2 + (1-a)*(1-b)*t^4)\n",
    "Furstenberg(P, f, t)"
   ]
  },
  {
   "cell_type": "code",
   "execution_count": 34,
   "metadata": {},
   "outputs": [
    {
     "name": "stdout",
     "output_type": "stream",
     "text": [
      "0\n",
      "sqrt(A^2*B^2*t^4/(A^2*B^2*t^4 - A^2*B^2*t^2 - A^2*t^4 - B^2*t^4 + t^4 - 3*t^2 + 1) - A^2*B^2*t^2/(A^2*B^2*t^4 - A^2*B^2*t^2 - A^2*t^4 - B^2*t^4 + t^4 - 3*t^2 + 1) - A^2*t^4/(A^2*B^2*t^4 - A^2*B^2*t^2 - A^2*t^4 - B^2*t^4 + t^4 - 3*t^2 + 1) - B^2*t^4/(A^2*B^2*t^4 - A^2*B^2*t^2 - A^2*t^4 - B^2*t^4 + t^4 - 3*t^2 + 1) + t^4/(A^2*B^2*t^4 - A^2*B^2*t^2 - A^2*t^4 - B^2*t^4 + t^4 - 3*t^2 + 1) + t^2/(A^2*B^2*t^4 - A^2*B^2*t^2 - A^2*t^4 - B^2*t^4 + t^4 - 3*t^2 + 1) + 1/(A^2*B^2*t^4 - A^2*B^2*t^2 - A^2*t^4 - B^2*t^4 + t^4 - 3*t^2 + 1)) - 1\n",
      "sqrt(A^2*B^2*t^4/(A^2*B^2*t^4 - A^2*B^2*t^2 - A^2*t^4 - B^2*t^4 + t^4 - 3*t^2 + 1) - A^2*B^2*t^2/(A^2*B^2*t^4 - A^2*B^2*t^2 - A^2*t^4 - B^2*t^4 + t^4 - 3*t^2 + 1) - A^2*t^4/(A^2*B^2*t^4 - A^2*B^2*t^2 - A^2*t^4 - B^2*t^4 + t^4 - 3*t^2 + 1) - B^2*t^4/(A^2*B^2*t^4 - A^2*B^2*t^2 - A^2*t^4 - B^2*t^4 + t^4 - 3*t^2 + 1) + t^4/(A^2*B^2*t^4 - A^2*B^2*t^2 - A^2*t^4 - B^2*t^4 + t^4 - 3*t^2 + 1) + t^2/(A^2*B^2*t^4 - A^2*B^2*t^2 - A^2*t^4 - B^2*t^4 + t^4 - 3*t^2 + 1) + 1/(A^2*B^2*t^4 - A^2*B^2*t^2 - A^2*t^4 - B^2*t^4 + t^4 - 3*t^2 + 1)) - 1\n"
     ]
    }
   ],
   "source": [
    "# No obvious additive substitution\n",
    "print(limit(f, t=0)) # additive substitution with t not ruled out\n",
    "print(limit(f, a=0)) # can't do additive substitution with a or b\n",
    "print(limit(f, b=0))"
   ]
  },
  {
   "cell_type": "markdown",
   "metadata": {},
   "source": [
    "### Example 13: c.f. Flajolet and Sedgewick; patterns in trees"
   ]
  },
  {
   "cell_type": "code",
   "execution_count": 35,
   "metadata": {},
   "outputs": [
    {
     "name": "stdout",
     "output_type": "stream",
     "text": [
      "The minimal polynomial is correct.\n",
      "The Furstenberg embedding is:\n"
     ]
    },
    {
     "data": {
      "text/html": [
       "<html><script type=\"math/tex; mode=display\">\\newcommand{\\Bold}[1]{\\mathbf{#1}}\\frac{{\\left(2 \\, Y^{2} z + 2 \\, Y z - 1\\right)} Y}{Y^{2} u z^{3} - Y^{2} z^{3} + Y^{2} z + 2 \\, Y z + z - 1}</script></html>"
      ],
      "text/latex": [
       "$$\\newcommand{\\Bold}[1]{\\mathbf{#1}}\\frac{{\\left(2 \\, Y^{2} z + 2 \\, Y z - 1\\right)} Y}{Y^{2} u z^{3} - Y^{2} z^{3} + Y^{2} z + 2 \\, Y z + z - 1}$$"
      ],
      "text/plain": [
       "(2*Y^2*z + 2*Y*z - 1)*Y/(Y^2*u*z^3 - Y^2*z^3 + Y^2*z + 2*Y*z + z - 1)"
      ]
     },
     "metadata": {},
     "output_type": "display_data"
    },
    {
     "name": "stdout",
     "output_type": "stream",
     "text": [
      "Out of terms that were checked, all terms agree.\n"
     ]
    },
    {
     "data": {
      "text/plain": [
       "(2*Y^2*z + 2*Y*z - 1)*Y/(Y^2*u*z^3 - Y^2*z^3 + Y^2*z + 2*Y*z + z - 1)"
      ]
     },
     "execution_count": 35,
     "metadata": {},
     "output_type": "execute_result"
    }
   ],
   "source": [
    "# Here, there is a parameter, m.  We set it to 3 for now:\n",
    "m = 3\n",
    "f = 1/(2*z)*(1 - sqrt(1 - 4*z - 4*(u-1)*z^(m+1))) - 1\n",
    "P = u*z^3+Y^2*z-z^3+2*Y*z-Y+z\n",
    "Furstenberg(P, f, z)"
   ]
  },
  {
   "cell_type": "code",
   "execution_count": 36,
   "metadata": {},
   "outputs": [
    {
     "name": "stdout",
     "output_type": "stream",
     "text": [
      "The minimal polynomial is correct.\n",
      "The Furstenberg embedding is:\n"
     ]
    },
    {
     "data": {
      "text/html": [
       "<html><script type=\"math/tex; mode=display\">\\newcommand{\\Bold}[1]{\\mathbf{#1}}\\frac{{\\left(2 \\, Y^{2} z^{2} + 2 \\, Y^{2} z + 2 \\, Y z - 1\\right)} Y}{Y^{2} u z^{3} + 2 \\, Y^{2} z^{2} + Y^{2} z + 2 \\, Y z^{2} + 2 \\, Y z - 1}</script></html>"
      ],
      "text/latex": [
       "$$\\newcommand{\\Bold}[1]{\\mathbf{#1}}\\frac{{\\left(2 \\, Y^{2} z^{2} + 2 \\, Y^{2} z + 2 \\, Y z - 1\\right)} Y}{Y^{2} u z^{3} + 2 \\, Y^{2} z^{2} + Y^{2} z + 2 \\, Y z^{2} + 2 \\, Y z - 1}$$"
      ],
      "text/plain": [
       "(2*Y^2*z^2 + 2*Y^2*z + 2*Y*z - 1)*Y/(Y^2*u*z^3 + 2*Y^2*z^2 + Y^2*z + 2*Y*z^2 + 2*Y*z - 1)"
      ]
     },
     "metadata": {},
     "output_type": "display_data"
    },
    {
     "name": "stdout",
     "output_type": "stream",
     "text": [
      "Out of terms that were checked, all terms agree.\n"
     ]
    },
    {
     "data": {
      "text/plain": [
       "(2*Y^2*z^2 + 2*Y^2*z + 2*Y*z - 1)*Y/(Y^2*u*z^3 + 2*Y^2*z^2 + Y^2*z + 2*Y*z^2 + 2*Y*z - 1)"
      ]
     },
     "execution_count": 36,
     "metadata": {},
     "output_type": "execute_result"
    }
   ],
   "source": [
    "# Here, there is a parameter, m.  We'll arbitrarily set it to 3 for now:\n",
    "m = 3\n",
    "f1 = f - z\n",
    "P1 = P.subs(Y = Y + z)\n",
    "Furstenberg(P1, f1, z)"
   ]
  },
  {
   "cell_type": "markdown",
   "metadata": {},
   "source": [
    "### Example 14: Narayana numbers"
   ]
  },
  {
   "cell_type": "code",
   "execution_count": 37,
   "metadata": {},
   "outputs": [
    {
     "name": "stdout",
     "output_type": "stream",
     "text": [
      "The minimal polynomial is correct.\n",
      "The Furstenberg embedding is:\n"
     ]
    },
    {
     "data": {
      "text/html": [
       "<html><script type=\"math/tex; mode=display\">\\newcommand{\\Bold}[1]{\\mathbf{#1}}\\frac{{\\left(2 \\, Y^{2} x + Y t x + Y x - 1\\right)} Y}{Y^{2} x + Y t x + Y x + t x - 1}</script></html>"
      ],
      "text/latex": [
       "$$\\newcommand{\\Bold}[1]{\\mathbf{#1}}\\frac{{\\left(2 \\, Y^{2} x + Y t x + Y x - 1\\right)} Y}{Y^{2} x + Y t x + Y x + t x - 1}$$"
      ],
      "text/plain": [
       "(2*Y^2*x + Y*t*x + Y*x - 1)*Y/(Y^2*x + Y*t*x + Y*x + t*x - 1)"
      ]
     },
     "metadata": {},
     "output_type": "display_data"
    },
    {
     "name": "stdout",
     "output_type": "stream",
     "text": [
      "Out of terms that were checked, all terms agree.\n"
     ]
    }
   ],
   "source": [
    "f = (1 - x - x*t - sqrt((1-x-x*t)^2 - 4*x^2*t))/(2*x)\n",
    "P = Y^2*x + Y*x*t + Y*x + x*t - Y\n",
    "F = Furstenberg(P, f, x)"
   ]
  },
  {
   "cell_type": "code",
   "execution_count": 38,
   "metadata": {},
   "outputs": [
    {
     "data": {
      "text/html": [
       "<html><script type=\"math/tex; mode=display\">\\newcommand{\\Bold}[1]{\\mathbf{#1}}\\left[\\left\\{x : -\\frac{{\\left(2 \\, p - 1\\right)}^{3}}{{\\left(p - 1\\right)} p^{2}}, t : \\frac{{\\left(p - 1\\right)}^{2}}{{\\left(2 \\, p - 1\\right)}^{2}}, Y : -\\frac{p - 1}{2 \\, p - 1}\\right\\}\\right]</script></html>"
      ],
      "text/latex": [
       "$$\\newcommand{\\Bold}[1]{\\mathbf{#1}}\\left[\\left\\{x : -\\frac{{\\left(2 \\, p - 1\\right)}^{3}}{{\\left(p - 1\\right)} p^{2}}, t : \\frac{{\\left(p - 1\\right)}^{2}}{{\\left(2 \\, p - 1\\right)}^{2}}, Y : -\\frac{p - 1}{2 \\, p - 1}\\right\\}\\right]$$"
      ],
      "text/plain": [
       "[{x: -(2*p - 1)^3/((p - 1)*p^2),\n",
       "  t: (p - 1)^2/(2*p - 1)^2,\n",
       "  Y: -(p - 1)/(2*p - 1)}]"
      ]
     },
     "metadata": {},
     "output_type": "display_data"
    }
   ],
   "source": [
    "# Find critical points:\n",
    "G = F.numerator()\n",
    "H = F.denominator()\n",
    "CritSols = critpt(H, [p, (1-p), p], [x, t, Y])\n",
    "show(CritSols)\n",
    "CP = CritSols[0]"
   ]
  },
  {
   "cell_type": "code",
   "execution_count": 39,
   "metadata": {},
   "outputs": [
    {
     "data": {
      "text/plain": [
       "[]"
      ]
     },
     "execution_count": 39,
     "metadata": {},
     "output_type": "execute_result"
    }
   ],
   "source": [
    "# This is positive if p > 1/2.\n",
    "# Search for non-smooth points:\n",
    "nonsmoothpt(H, [p, (1-p), p], [x, t, Y])"
   ]
  },
  {
   "cell_type": "code",
   "execution_count": 40,
   "metadata": {},
   "outputs": [
    {
     "name": "stdout",
     "output_type": "stream",
     "text": [
      "The asymptotics:\n"
     ]
    },
    {
     "data": {
      "text/html": [
       "<html><script type=\"math/tex; mode=display\">\\newcommand{\\Bold}[1]{\\mathbf{#1}}\\frac{\\left(\\frac{{\\left(4 \\, {\\left(p - 1\\right)}^{2 \\, p} p^{2} - 4 \\, {\\left(p - 1\\right)}^{2 \\, p} p + {\\left(p - 1\\right)}^{2 \\, p}\\right)} p^{2 \\, p}}{{\\left(p^{2} {\\left(-2 \\, p + 1\\right)}^{2 \\, p} - 2 \\, p {\\left(-2 \\, p + 1\\right)}^{2 \\, p} + {\\left(-2 \\, p + 1\\right)}^{2 \\, p}\\right)} {\\left(2 \\, p - 1\\right)}^{2 \\, p}}\\right)^{n}}{n p} \\Bigg( -\\frac{p}{2 \\, \\pi n {\\left(2 \\, p - 1\\right)}^{2}} + O\\Bigg( \\frac{1}{n^{2}} \\Bigg)\\Bigg)</script></html>"
      ],
      "text/latex": [
       "$$\\newcommand{\\Bold}[1]{\\mathbf{#1}}\\frac{\\left(\\frac{{\\left(4 \\, {\\left(p - 1\\right)}^{2 \\, p} p^{2} - 4 \\, {\\left(p - 1\\right)}^{2 \\, p} p + {\\left(p - 1\\right)}^{2 \\, p}\\right)} p^{2 \\, p}}{{\\left(p^{2} {\\left(-2 \\, p + 1\\right)}^{2 \\, p} - 2 \\, p {\\left(-2 \\, p + 1\\right)}^{2 \\, p} + {\\left(-2 \\, p + 1\\right)}^{2 \\, p}\\right)} {\\left(2 \\, p - 1\\right)}^{2 \\, p}}\\right)^{n}}{n p} \\Bigg( -\\frac{p}{2 \\, \\pi n {\\left(2 \\, p - 1\\right)}^{2}} + O\\Bigg( \\frac{1}{n^{2}} \\Bigg)\\Bigg)$$"
      ],
      "text/plain": [
       "((4*(p - 1)^(2*p)*p^2 - 4*(p - 1)^(2*p)*p + (p - 1)^(2*p))*p^(2*p)/((p^2*(-2*p + 1)^(2*p) - 2*p*(-2*p + 1)^(2*p) + (-2*p + 1)^(2*p))*(2*p - 1)^(2*p)))^n/(n*p) \\Bigg( -1/2*p/(pi*n*(2*p - 1)^2) + O\\Bigg( n^(-2) \\Bigg)\\Bigg)"
      ]
     },
     "metadata": {},
     "output_type": "display_data"
    }
   ],
   "source": [
    "# Compute asymptotics:\n",
    "r = [(1-p), p, p]\n",
    "vars = [t, Y, x]\n",
    "gOptions = solve(H, x)\n",
    "g1 = gOptions[0].rhs()\n",
    "\n",
    "M=2\n",
    "ex,pw,se = smoothContrib(G,H,r,vars,CP,M,g1)\n",
    "print(\"The asymptotics:\")\n",
    "disp_asm(ex,pw,se.factor(),M)"
   ]
  },
  {
   "cell_type": "markdown",
   "metadata": {},
   "source": [
    "### Example 15: Bona and Vince; assembly trees"
   ]
  },
  {
   "cell_type": "code",
   "execution_count": 41,
   "metadata": {
    "scrolled": true
   },
   "outputs": [
    {
     "name": "stdout",
     "output_type": "stream",
     "text": [
      "The minimal polynomial is correct.\n",
      "The Furstenberg embedding is:\n"
     ]
    },
    {
     "data": {
      "text/html": [
       "<html><script type=\"math/tex; mode=display\">\\newcommand{\\Bold}[1]{\\mathbf{#1}}-\\frac{2 \\, {\\left(Y - 1\\right)} Y}{Y x^{2} y^{2} + Y x^{2} - 2 \\, x y - Y - 2 \\, x + 2}</script></html>"
      ],
      "text/latex": [
       "$$\\newcommand{\\Bold}[1]{\\mathbf{#1}}-\\frac{2 \\, {\\left(Y - 1\\right)} Y}{Y x^{2} y^{2} + Y x^{2} - 2 \\, x y - Y - 2 \\, x + 2}$$"
      ],
      "text/plain": [
       "-2*(Y - 1)*Y/(Y*x^2*y^2 + Y*x^2 - 2*x*y - Y - 2*x + 2)"
      ]
     },
     "metadata": {},
     "output_type": "display_data"
    },
    {
     "name": "stdout",
     "output_type": "stream",
     "text": [
      "Out of terms that were checked, all terms agree.\n"
     ]
    },
    {
     "data": {
      "text/plain": [
       "-2*(Y - 1)*Y/(Y*x^2*y^2 + Y*x^2 - 2*x*y - Y - 2*x + 2)"
      ]
     },
     "execution_count": 41,
     "metadata": {},
     "output_type": "execute_result"
    }
   ],
   "source": [
    "f = 1 - sqrt((1 - x)^2 + (1 - y)^2 - 1)\n",
    "P = (Y - 1)^2 - ((1 - x)^2 + (1 - y)^2 - 1)\n",
    "# There are non-constant terms with respect to both x and y.  So, we attempt a multiplicative substitution:\n",
    "f1 = f.subs({y:x*y})\n",
    "P1 = P.subs({y:x*y})\n",
    "Furstenberg(P1, f1, x)\n",
    "# Embedding is non-combinatorial"
   ]
  },
  {
   "cell_type": "code",
   "execution_count": 42,
   "metadata": {},
   "outputs": [
    {
     "name": "stdout",
     "output_type": "stream",
     "text": [
      "The minimal polynomial is correct.\n",
      "The Furstenberg embedding is:\n"
     ]
    },
    {
     "data": {
      "text/html": [
       "<html><script type=\"math/tex; mode=display\">\\newcommand{\\Bold}[1]{\\mathbf{#1}}\\frac{2 \\, {\\left(Y x + Y + y - 1\\right)} Y}{2 \\, Y x + 2 \\, x y + Y + 2 \\, y - 2}</script></html>"
      ],
      "text/latex": [
       "$$\\newcommand{\\Bold}[1]{\\mathbf{#1}}\\frac{2 \\, {\\left(Y x + Y + y - 1\\right)} Y}{2 \\, Y x + 2 \\, x y + Y + 2 \\, y - 2}$$"
      ],
      "text/plain": [
       "2*(Y*x + Y + y - 1)*Y/(2*Y*x + 2*x*y + Y + 2*y - 2)"
      ]
     },
     "metadata": {},
     "output_type": "display_data"
    },
    {
     "name": "stdout",
     "output_type": "stream",
     "text": [
      "Out of terms that were checked, all terms agree.\n"
     ]
    }
   ],
   "source": [
    "# Instead, we subtract off the first few terms from the series for f:\n",
    "f2 = f - x - y\n",
    "P2 = P.subs(Y = Y + x + y)\n",
    "F = Furstenberg(P2, f2, x)"
   ]
  },
  {
   "cell_type": "code",
   "execution_count": 43,
   "metadata": {},
   "outputs": [
    {
     "data": {
      "text/html": [
       "<html><script type=\"math/tex; mode=display\">\\newcommand{\\Bold}[1]{\\mathbf{#1}}\\left[\\left\\{x : -\\frac{2 \\, p - \\sqrt{-4 \\, p^{2} + 4 \\, p + 1} - 1}{4 \\, {\\left(p - 1\\right)}}, y : -p + \\frac{1}{2} \\, \\sqrt{-4 \\, p^{2} + 4 \\, p + 1} + \\frac{3}{2}, Y : -\\sqrt{-4 \\, p^{2} + 4 \\, p + 1} - 1\\right\\}, \\left\\{x : -\\frac{2 \\, p + \\sqrt{-4 \\, p^{2} + 4 \\, p + 1} - 1}{4 \\, {\\left(p - 1\\right)}}, y : -p - \\frac{1}{2} \\, \\sqrt{-4 \\, p^{2} + 4 \\, p + 1} + \\frac{3}{2}, Y : \\sqrt{-4 \\, p^{2} + 4 \\, p + 1} - 1\\right\\}\\right]</script></html>"
      ],
      "text/latex": [
       "$$\\newcommand{\\Bold}[1]{\\mathbf{#1}}\\left[\\left\\{x : -\\frac{2 \\, p - \\sqrt{-4 \\, p^{2} + 4 \\, p + 1} - 1}{4 \\, {\\left(p - 1\\right)}}, y : -p + \\frac{1}{2} \\, \\sqrt{-4 \\, p^{2} + 4 \\, p + 1} + \\frac{3}{2}, Y : -\\sqrt{-4 \\, p^{2} + 4 \\, p + 1} - 1\\right\\}, \\left\\{x : -\\frac{2 \\, p + \\sqrt{-4 \\, p^{2} + 4 \\, p + 1} - 1}{4 \\, {\\left(p - 1\\right)}}, y : -p - \\frac{1}{2} \\, \\sqrt{-4 \\, p^{2} + 4 \\, p + 1} + \\frac{3}{2}, Y : \\sqrt{-4 \\, p^{2} + 4 \\, p + 1} - 1\\right\\}\\right]$$"
      ],
      "text/plain": [
       "[{x: -1/4*(2*p - sqrt(-4*p^2 + 4*p + 1) - 1)/(p - 1),\n",
       "  y: -p + 1/2*sqrt(-4*p^2 + 4*p + 1) + 3/2,\n",
       "  Y: -sqrt(-4*p^2 + 4*p + 1) - 1},\n",
       " {x: -1/4*(2*p + sqrt(-4*p^2 + 4*p + 1) - 1)/(p - 1),\n",
       "  y: -p - 1/2*sqrt(-4*p^2 + 4*p + 1) + 3/2,\n",
       "  Y: sqrt(-4*p^2 + 4*p + 1) - 1}]"
      ]
     },
     "metadata": {},
     "output_type": "display_data"
    }
   ],
   "source": [
    "# Now, we search for critical points:\n",
    "G = F.numerator()\n",
    "H = F.denominator()\n",
    "CritSols = critpt(H, [p, (1-p), p], [x, y, Y])\n",
    "show(CritSols)\n",
    "CP1 = CritSols[0]\n",
    "CP2 = CritSols[1]"
   ]
  },
  {
   "cell_type": "code",
   "execution_count": 44,
   "metadata": {},
   "outputs": [
    {
     "data": {
      "text/plain": [
       "[]"
      ]
     },
     "execution_count": 44,
     "metadata": {},
     "output_type": "execute_result"
    }
   ],
   "source": [
    "# Check for non-smooth points:\n",
    "nonsmoothpt(H, [p, (1-p), p], [x, z, Y])"
   ]
  },
  {
   "cell_type": "code",
   "execution_count": 45,
   "metadata": {},
   "outputs": [
    {
     "name": "stdout",
     "output_type": "stream",
     "text": [
      "The asymptotics:\n"
     ]
    },
    {
     "data": {
      "text/html": [
       "<html><script type=\"math/tex; mode=display\">\\newcommand{\\Bold}[1]{\\mathbf{#1}}-\\frac{\\left(\\frac{\\sqrt{-4 \\, p^{2} + 4 \\, p + 1} 2^{p} {\\left(p - 1\\right)}^{p} {\\left(-2 \\, p - \\sqrt{-4 \\, p^{2} + 4 \\, p + 1} + 3\\right)}^{p} - {\\left(2 \\, {\\left(p - 1\\right)}^{p} p - 3 \\, {\\left(p - 1\\right)}^{p}\\right)} 2^{p} {\\left(-2 \\, p - \\sqrt{-4 \\, p^{2} + 4 \\, p + 1} + 3\\right)}^{p}}{4 \\, {\\left(p^{2} - 2 \\, p + 1\\right)} {\\left(-2 \\, p - \\sqrt{-4 \\, p^{2} + 4 \\, p + 1} + 1\\right)}^{p} {\\left(\\sqrt{-4 \\, p^{2} + 4 \\, p + 1} - 1\\right)}^{p}}\\right)^{n}}{n {\\left(p - 1\\right)}} \\Bigg( \\frac{\\sqrt{2} \\sqrt{4 \\, p^{2} - {\\left(2 \\, p^{2} - 2 \\, p - 1\\right)} \\sqrt{-4 \\, p^{2} + 4 \\, p + 1} - 4 \\, p - 1} {\\left(4 \\, p^{2} - 4 \\, p - \\sqrt{-4 \\, p^{2} + 4 \\, p + 1} - 1\\right)}}{4 \\, \\pi {\\left(4 \\, p^{2} - 4 \\, p - 1\\right)} n p} + O\\Bigg( \\frac{1}{n^{2}} \\Bigg)\\Bigg)</script></html>"
      ],
      "text/latex": [
       "$$\\newcommand{\\Bold}[1]{\\mathbf{#1}}-\\frac{\\left(\\frac{\\sqrt{-4 \\, p^{2} + 4 \\, p + 1} 2^{p} {\\left(p - 1\\right)}^{p} {\\left(-2 \\, p - \\sqrt{-4 \\, p^{2} + 4 \\, p + 1} + 3\\right)}^{p} - {\\left(2 \\, {\\left(p - 1\\right)}^{p} p - 3 \\, {\\left(p - 1\\right)}^{p}\\right)} 2^{p} {\\left(-2 \\, p - \\sqrt{-4 \\, p^{2} + 4 \\, p + 1} + 3\\right)}^{p}}{4 \\, {\\left(p^{2} - 2 \\, p + 1\\right)} {\\left(-2 \\, p - \\sqrt{-4 \\, p^{2} + 4 \\, p + 1} + 1\\right)}^{p} {\\left(\\sqrt{-4 \\, p^{2} + 4 \\, p + 1} - 1\\right)}^{p}}\\right)^{n}}{n {\\left(p - 1\\right)}} \\Bigg( \\frac{\\sqrt{2} \\sqrt{4 \\, p^{2} - {\\left(2 \\, p^{2} - 2 \\, p - 1\\right)} \\sqrt{-4 \\, p^{2} + 4 \\, p + 1} - 4 \\, p - 1} {\\left(4 \\, p^{2} - 4 \\, p - \\sqrt{-4 \\, p^{2} + 4 \\, p + 1} - 1\\right)}}{4 \\, \\pi {\\left(4 \\, p^{2} - 4 \\, p - 1\\right)} n p} + O\\Bigg( \\frac{1}{n^{2}} \\Bigg)\\Bigg)$$"
      ],
      "text/plain": [
       "-(1/4*(sqrt(-4*p^2 + 4*p + 1)*2^p*(p - 1)^p*(-2*p - sqrt(-4*p^2 + 4*p + 1) + 3)^p - (2*(p - 1)^p*p - 3*(p - 1)^p)*2^p*(-2*p - sqrt(-4*p^2 + 4*p + 1) + 3)^p)/((p^2 - 2*p + 1)*(-2*p - sqrt(-4*p^2 + 4*p + 1) + 1)^p*(sqrt(-4*p^2 + 4*p + 1) - 1)^p))^n/(n*(p - 1)) \\Bigg( 1/4*sqrt(2)*sqrt(4*p^2 - (2*p^2 - 2*p - 1)*sqrt(-4*p^2 + 4*p + 1) - 4*p - 1)*(4*p^2 - 4*p - sqrt(-4*p^2 + 4*p + 1) - 1)/(pi*(4*p^2 - 4*p - 1)*n*p) + O\\Bigg( n^(-2) \\Bigg)\\Bigg)"
      ]
     },
     "metadata": {},
     "output_type": "display_data"
    }
   ],
   "source": [
    "# Only CP2 has positive coordinates.  We use it to compute asymptotics.  Note: this block takes about 20 minutes to run on Cocalc.\n",
    "var('p, x, Y, y')\n",
    "r = [p,p,1-p]\n",
    "vars = [x, Y, y]\n",
    "gOptions = solve(H, y)\n",
    "g1 = gOptions[0].rhs()\n",
    "\n",
    "M=2\n",
    "ex,pw,se = smoothContrib(G,H,r,vars,CP2,M,g1)\n",
    "print(\"The asymptotics:\")\n",
    "disp_asm(ex,pw,se.factor(),M)"
   ]
  },
  {
   "cell_type": "markdown",
   "metadata": {},
   "source": [
    "### Example 16: new and old leaves"
   ]
  },
  {
   "cell_type": "code",
   "execution_count": 46,
   "metadata": {},
   "outputs": [
    {
     "name": "stdout",
     "output_type": "stream",
     "text": [
      "The minimal polynomial is correct.\n",
      "The Furstenberg embedding is:\n"
     ]
    },
    {
     "data": {
      "text/html": [
       "<html><script type=\"math/tex; mode=display\">\\newcommand{\\Bold}[1]{\\mathbf{#1}}\\frac{{\\left(2 \\, Y z + y z + z - 1\\right)} Y}{Y z + x z + y z + z - 1}</script></html>"
      ],
      "text/latex": [
       "$$\\newcommand{\\Bold}[1]{\\mathbf{#1}}\\frac{{\\left(2 \\, Y z + y z + z - 1\\right)} Y}{Y z + x z + y z + z - 1}$$"
      ],
      "text/plain": [
       "(2*Y*z + y*z + z - 1)*Y/(Y*z + x*z + y*z + z - 1)"
      ]
     },
     "metadata": {},
     "output_type": "display_data"
    },
    {
     "name": "stdout",
     "output_type": "stream",
     "text": [
      "Out of terms that were checked, all terms agree.\n"
     ]
    }
   ],
   "source": [
    "f = -(1/2)*(z*y+sqrt(y^2*z^2-4*x*z^2+2*y*z^2-2*y*z+z^2-2*z+1)-z-1)/z - 1\n",
    "P = ((Y+1) - 1)*(1 - z*((Y+1) - 1 + y)) - z*((Y+1) - 1 + x)\n",
    "F = Furstenberg(P, f, x)"
   ]
  },
  {
   "cell_type": "code",
   "execution_count": 47,
   "metadata": {},
   "outputs": [
    {
     "data": {
      "text/html": [
       "<html><script type=\"math/tex; mode=display\">\\newcommand{\\Bold}[1]{\\mathbf{#1}}\\left[\\left\\{x : -\\frac{p}{3 \\, p + 2 \\, q - 1}, y : -\\frac{q}{3 \\, p + 2 \\, q - 1}, z : \\frac{3 \\, p + 2 \\, q - 1}{p + q - 1}, Y : -\\frac{p}{3 \\, p + 2 \\, q - 1}\\right\\}\\right]</script></html>"
      ],
      "text/latex": [
       "$$\\newcommand{\\Bold}[1]{\\mathbf{#1}}\\left[\\left\\{x : -\\frac{p}{3 \\, p + 2 \\, q - 1}, y : -\\frac{q}{3 \\, p + 2 \\, q - 1}, z : \\frac{3 \\, p + 2 \\, q - 1}{p + q - 1}, Y : -\\frac{p}{3 \\, p + 2 \\, q - 1}\\right\\}\\right]$$"
      ],
      "text/plain": [
       "[{x: -p/(3*p + 2*q - 1),\n",
       "  y: -q/(3*p + 2*q - 1),\n",
       "  z: (3*p + 2*q - 1)/(p + q - 1),\n",
       "  Y: -p/(3*p + 2*q - 1)}]"
      ]
     },
     "metadata": {},
     "output_type": "display_data"
    }
   ],
   "source": [
    "# To find critical points:\n",
    "G = F.numerator()\n",
    "H = F.denominator()\n",
    "CritSols = critpt(H, [p, q, 1-p-q, p], [x, y, z, Y])\n",
    "show(CritSols)\n",
    "CP = CritSols[0]"
   ]
  },
  {
   "cell_type": "code",
   "execution_count": 48,
   "metadata": {},
   "outputs": [
    {
     "data": {
      "text/plain": [
       "[]"
      ]
     },
     "execution_count": 48,
     "metadata": {},
     "output_type": "execute_result"
    }
   ],
   "source": [
    "# To check for non-smooth critical points:\n",
    "nonsmoothpt(H, [p, q, 1-p-q, p], [x, y, z, Y], [p,q])"
   ]
  },
  {
   "cell_type": "code",
   "execution_count": 49,
   "metadata": {},
   "outputs": [
    {
     "name": "stdout",
     "output_type": "stream",
     "text": [
      "The asymptotics:\n"
     ]
    },
    {
     "data": {
      "text/html": [
       "<html><script type=\"math/tex; mode=display\">\\newcommand{\\Bold}[1]{\\mathbf{#1}}\\frac{\\left(\\frac{{\\left(3 \\, p + 2 \\, q - 1\\right)}^{3 \\, p + 2 \\, q} {\\left(p + q - 1\\right)}^{-p - q + 1}}{2 \\, \\left(-p\\right)^{2 \\, p} \\left(-q\\right)^{q} q + {\\left(3 \\, \\left(-p\\right)^{2 \\, p} p - \\left(-p\\right)^{2 \\, p}\\right)} \\left(-q\\right)^{q}}\\right)^{n}}{\\left(n p\\right)^{\\frac{3}{2}}} \\Bigg( -\\frac{\\sqrt{2} p^{\\frac{3}{2}}}{4 \\, \\pi^{\\frac{3}{2}} n {\\left(3 \\, p + 2 \\, q - 1\\right)}^{\\frac{3}{2}} \\sqrt{p + q - 1} \\sqrt{q}} + O\\Bigg( \\frac{1}{n^{2}} \\Bigg)\\Bigg)</script></html>"
      ],
      "text/latex": [
       "$$\\newcommand{\\Bold}[1]{\\mathbf{#1}}\\frac{\\left(\\frac{{\\left(3 \\, p + 2 \\, q - 1\\right)}^{3 \\, p + 2 \\, q} {\\left(p + q - 1\\right)}^{-p - q + 1}}{2 \\, \\left(-p\\right)^{2 \\, p} \\left(-q\\right)^{q} q + {\\left(3 \\, \\left(-p\\right)^{2 \\, p} p - \\left(-p\\right)^{2 \\, p}\\right)} \\left(-q\\right)^{q}}\\right)^{n}}{\\left(n p\\right)^{\\frac{3}{2}}} \\Bigg( -\\frac{\\sqrt{2} p^{\\frac{3}{2}}}{4 \\, \\pi^{\\frac{3}{2}} n {\\left(3 \\, p + 2 \\, q - 1\\right)}^{\\frac{3}{2}} \\sqrt{p + q - 1} \\sqrt{q}} + O\\Bigg( \\frac{1}{n^{2}} \\Bigg)\\Bigg)$$"
      ],
      "text/plain": [
       "((3*p + 2*q - 1)^(3*p + 2*q)*(p + q - 1)^(-p - q + 1)/(2*(-p)^(2*p)*(-q)^q*q + (3*(-p)^(2*p)*p - (-p)^(2*p))*(-q)^q))^n/(n*p)^(3/2) \\Bigg( -1/4*sqrt(2)*p^(3/2)/(pi^(3/2)*n*(3*p + 2*q - 1)^(3/2)*sqrt(p + q - 1)*sqrt(q)) + O\\Bigg( n^(-2) \\Bigg)\\Bigg)"
      ]
     },
     "metadata": {},
     "output_type": "display_data"
    }
   ],
   "source": [
    "# Now, we compute asymptotics:\n",
    "r = [p, q, 1-p-q, p]\n",
    "vars = [x, y, z, Y]\n",
    "gOptions = solve(H, Y)\n",
    "g1 = gOptions[0].rhs()\n",
    "\n",
    "M=2\n",
    "ex,pw,se = smoothContrib(G,H,r,vars,CP,M,g1)\n",
    "print(\"The asymptotics:\")\n",
    "disp_asm(ex,pw,se.factor(),M)"
   ]
  },
  {
   "cell_type": "markdown",
   "metadata": {},
   "source": [
    "### Example 17: Schroeder trees by leaves and vertices"
   ]
  },
  {
   "cell_type": "code",
   "execution_count": 50,
   "metadata": {},
   "outputs": [
    {
     "name": "stdout",
     "output_type": "stream",
     "text": [
      "The minimal polynomial is correct.\n",
      "The Furstenberg embedding is:\n"
     ]
    },
    {
     "data": {
      "text/html": [
       "<html><script type=\"math/tex; mode=display\">\\newcommand{\\Bold}[1]{\\mathbf{#1}}\\frac{{\\left(Y x y - 2 \\, Y y - 2 \\, Y + 1\\right)} Y}{Y x y - Y y - x y - Y + 1}</script></html>"
      ],
      "text/latex": [
       "$$\\newcommand{\\Bold}[1]{\\mathbf{#1}}\\frac{{\\left(Y x y - 2 \\, Y y - 2 \\, Y + 1\\right)} Y}{Y x y - Y y - x y - Y + 1}$$"
      ],
      "text/plain": [
       "(Y*x*y - 2*Y*y - 2*Y + 1)*Y/(Y*x*y - Y*y - x*y - Y + 1)"
      ]
     },
     "metadata": {},
     "output_type": "display_data"
    },
    {
     "name": "stdout",
     "output_type": "stream",
     "text": [
      "Out of terms that were checked, all terms agree.\n"
     ]
    },
    {
     "data": {
      "text/plain": [
       "(Y*x*y - 2*Y*y - 2*Y + 1)*Y/(Y*x*y - Y*y - x*y - Y + 1)"
      ]
     },
     "execution_count": 50,
     "metadata": {},
     "output_type": "execute_result"
    }
   ],
   "source": [
    "P = (Y - x*y)*(1 - Y) - y*Y^2\n",
    "f = -(1/2)*(-x*y+sqrt(x^2*y^2-4*x*y^2-2*x*y+1)-1)/(y+1)\n",
    "Furstenberg(P, f, x)"
   ]
  },
  {
   "cell_type": "code",
   "execution_count": 51,
   "metadata": {},
   "outputs": [
    {
     "name": "stdout",
     "output_type": "stream",
     "text": [
      "The minimal polynomial is correct.\n",
      "The Furstenberg embedding is:\n"
     ]
    },
    {
     "data": {
      "text/html": [
       "<html><script type=\"math/tex; mode=display\">\\newcommand{\\Bold}[1]{\\mathbf{#1}}\\frac{{\\left(2 \\, Y x y^{2} + Y x y + 2 \\, Y y + 2 \\, Y - 1\\right)} Y}{Y x^{2} y^{3} + 2 \\, Y x y^{2} + Y x y + Y y + Y - 1}</script></html>"
      ],
      "text/latex": [
       "$$\\newcommand{\\Bold}[1]{\\mathbf{#1}}\\frac{{\\left(2 \\, Y x y^{2} + Y x y + 2 \\, Y y + 2 \\, Y - 1\\right)} Y}{Y x^{2} y^{3} + 2 \\, Y x y^{2} + Y x y + Y y + Y - 1}$$"
      ],
      "text/plain": [
       "(2*Y*x*y^2 + Y*x*y + 2*Y*y + 2*Y - 1)*Y/(Y*x^2*y^3 + 2*Y*x*y^2 + Y*x*y + Y*y + Y - 1)"
      ]
     },
     "metadata": {},
     "output_type": "display_data"
    },
    {
     "name": "stdout",
     "output_type": "stream",
     "text": [
      "Out of terms that were checked, all terms agree.\n",
      "The minimal polynomial is correct.\n",
      "The Furstenberg embedding is:\n"
     ]
    },
    {
     "data": {
      "text/html": [
       "<html><script type=\"math/tex; mode=display\">\\newcommand{\\Bold}[1]{\\mathbf{#1}}\\frac{{\\left(2 \\, Y^{2} x y^{2} + 2 \\, Y^{2} y + Y x y + 2 \\, Y - 1\\right)} Y}{Y^{2} x^{2} y^{3} + 2 \\, Y^{2} x y^{2} + Y^{2} y + Y x y + Y - 1}</script></html>"
      ],
      "text/latex": [
       "$$\\newcommand{\\Bold}[1]{\\mathbf{#1}}\\frac{{\\left(2 \\, Y^{2} x y^{2} + 2 \\, Y^{2} y + Y x y + 2 \\, Y - 1\\right)} Y}{Y^{2} x^{2} y^{3} + 2 \\, Y^{2} x y^{2} + Y^{2} y + Y x y + Y - 1}$$"
      ],
      "text/plain": [
       "(2*Y^2*x*y^2 + 2*Y^2*y + Y*x*y + 2*Y - 1)*Y/(Y^2*x^2*y^3 + 2*Y^2*x*y^2 + Y^2*y + Y*x*y + Y - 1)"
      ]
     },
     "metadata": {},
     "output_type": "display_data"
    },
    {
     "name": "stdout",
     "output_type": "stream",
     "text": [
      "Out of terms that were checked, all terms agree.\n"
     ]
    },
    {
     "data": {
      "text/plain": [
       "(2*Y^2*x*y^2 + 2*Y^2*y + Y*x*y + 2*Y - 1)*Y/(Y^2*x^2*y^3 + 2*Y^2*x*y^2 + Y^2*y + Y*x*y + Y - 1)"
      ]
     },
     "execution_count": 51,
     "metadata": {},
     "output_type": "execute_result"
    }
   ],
   "source": [
    "# Additive substitution to make embedding combinatorial:\n",
    "f2 = f - x*y\n",
    "P2 = P.subs(Y = Y + x*y)\n",
    "F = Furstenberg(P2, f2, x)\n",
    "Furstenberg(P2, f2, y)\n",
    "# Both embeddings are combinatorial"
   ]
  },
  {
   "cell_type": "code",
   "execution_count": 52,
   "metadata": {},
   "outputs": [
    {
     "data": {
      "text/html": [
       "<html><script type=\"math/tex; mode=display\">\\newcommand{\\Bold}[1]{\\mathbf{#1}}\\left[\\left\\{x : \\frac{{\\left(3 \\, p - 1\\right)} {\\left(p - 1\\right)} p}{{\\left(2 \\, p - 1\\right)}^{3}}, y : -\\frac{{\\left(2 \\, p - 1\\right)}^{2}}{{\\left(3 \\, p - 1\\right)} {\\left(p - 1\\right)}}, Y : \\frac{{\\left(3 \\, p - 1\\right)} {\\left(2 \\, p - 1\\right)}}{{\\left(p - 1\\right)} p}\\right\\}\\right]</script></html>"
      ],
      "text/latex": [
       "$$\\newcommand{\\Bold}[1]{\\mathbf{#1}}\\left[\\left\\{x : \\frac{{\\left(3 \\, p - 1\\right)} {\\left(p - 1\\right)} p}{{\\left(2 \\, p - 1\\right)}^{3}}, y : -\\frac{{\\left(2 \\, p - 1\\right)}^{2}}{{\\left(3 \\, p - 1\\right)} {\\left(p - 1\\right)}}, Y : \\frac{{\\left(3 \\, p - 1\\right)} {\\left(2 \\, p - 1\\right)}}{{\\left(p - 1\\right)} p}\\right\\}\\right]$$"
      ],
      "text/plain": [
       "[{x: (3*p - 1)*(p - 1)*p/(2*p - 1)^3,\n",
       "  y: -(2*p - 1)^2/((3*p - 1)*(p - 1)),\n",
       "  Y: (3*p - 1)*(2*p - 1)/((p - 1)*p)}]"
      ]
     },
     "metadata": {},
     "output_type": "display_data"
    }
   ],
   "source": [
    "# We look for critical points in the first embedding:\n",
    "G = F.numerator()\n",
    "H = F.denominator()\n",
    "CritSols = critpt(H, [p, (1-p), p], [x, y, Y])\n",
    "show(CritSols)\n",
    "CP = CritSols[0]"
   ]
  },
  {
   "cell_type": "code",
   "execution_count": 53,
   "metadata": {},
   "outputs": [
    {
     "data": {
      "text/plain": [
       "[{x: -1/2*(2*r2 + 1)/r2^2, y: r2, Y: -4*r2, p: 0},\n",
       " {x: r3, y: 0, Y: 1, p: 0},\n",
       " {x: 0, y: -1/2, Y: 2, p: 0}]"
      ]
     },
     "execution_count": 53,
     "metadata": {},
     "output_type": "execute_result"
    }
   ],
   "source": [
    "# Check for non-smooth points:\n",
    "nonsmoothpt(H, [p, (1-p), p], [x, y, Y])\n",
    "# Only non-smooth if p = 0, which is an irrelevant case combinatorially."
   ]
  },
  {
   "cell_type": "code",
   "execution_count": 54,
   "metadata": {},
   "outputs": [
    {
     "name": "stdout",
     "output_type": "stream",
     "text": [
      "The asymptotics:\n"
     ]
    },
    {
     "data": {
      "text/html": [
       "<html><script type=\"math/tex; mode=display\">\\newcommand{\\Bold}[1]{\\mathbf{#1}}\\frac{\\left(-\\frac{{\\left(3 \\, p^{2} - 4 \\, p + 1\\right)} \\left(-1\\right)^{p} {\\left(2 \\, p - 1\\right)}^{4 \\, p}}{{\\left(4 \\, {\\left(p - 1\\right)}^{p} p^{2} - 4 \\, {\\left(p - 1\\right)}^{p} p + {\\left(p - 1\\right)}^{p}\\right)} {\\left(3 \\, p - 1\\right)}^{3 \\, p}}\\right)^{n}}{n p} \\Bigg( -\\frac{\\sqrt{-3 \\, p + 1}}{2 \\, \\pi n \\sqrt{p - 1} p} + O\\Bigg( \\frac{1}{n^{2}} \\Bigg)\\Bigg)</script></html>"
      ],
      "text/latex": [
       "$$\\newcommand{\\Bold}[1]{\\mathbf{#1}}\\frac{\\left(-\\frac{{\\left(3 \\, p^{2} - 4 \\, p + 1\\right)} \\left(-1\\right)^{p} {\\left(2 \\, p - 1\\right)}^{4 \\, p}}{{\\left(4 \\, {\\left(p - 1\\right)}^{p} p^{2} - 4 \\, {\\left(p - 1\\right)}^{p} p + {\\left(p - 1\\right)}^{p}\\right)} {\\left(3 \\, p - 1\\right)}^{3 \\, p}}\\right)^{n}}{n p} \\Bigg( -\\frac{\\sqrt{-3 \\, p + 1}}{2 \\, \\pi n \\sqrt{p - 1} p} + O\\Bigg( \\frac{1}{n^{2}} \\Bigg)\\Bigg)$$"
      ],
      "text/plain": [
       "(-(3*p^2 - 4*p + 1)*(-1)^p*(2*p - 1)^(4*p)/((4*(p - 1)^p*p^2 - 4*(p - 1)^p*p + (p - 1)^p)*(3*p - 1)^(3*p)))^n/(n*p) \\Bigg( -1/2*sqrt(-3*p + 1)/(pi*n*sqrt(p - 1)*p) + O\\Bigg( n^(-2) \\Bigg)\\Bigg)"
      ]
     },
     "metadata": {},
     "output_type": "display_data"
    }
   ],
   "source": [
    "# Now, we compute asymptotics:\n",
    "r = [p,1-p,p]\n",
    "vars = [x, y, Y]\n",
    "gOptions = solve(H, Y)\n",
    "g1 = gOptions[0].rhs()\n",
    "\n",
    "M=2\n",
    "ex,pw,se = smoothContrib(G,H,r,vars,CP,M,g1)\n",
    "print(\"The asymptotics:\")\n",
    "disp_asm(ex,pw,se.factor(),M)"
   ]
  },
  {
   "cell_type": "markdown",
   "metadata": {},
   "source": [
    "### Example 18: Elizalde; degree of symmetry of lattice paths"
   ]
  },
  {
   "cell_type": "code",
   "execution_count": 55,
   "metadata": {},
   "outputs": [
    {
     "name": "stdout",
     "output_type": "stream",
     "text": [
      "The minimal polynomial is correct.\n",
      "The Furstenberg embedding is:\n"
     ]
    },
    {
     "data": {
      "text/html": [
       "<html><script type=\"math/tex; mode=display\">\\newcommand{\\Bold}[1]{\\mathbf{#1}}\\frac{{\\left(2 \\, Y^{3} x^{2} y + 2 \\, Y^{2} x^{2} y + Y x y + Y x - 1\\right)} Y}{Y^{3} x^{2} y + 2 \\, Y^{2} x^{2} y + Y x^{2} y + Y x y + Y x + x y + x - 1}</script></html>"
      ],
      "text/latex": [
       "$$\\newcommand{\\Bold}[1]{\\mathbf{#1}}\\frac{{\\left(2 \\, Y^{3} x^{2} y + 2 \\, Y^{2} x^{2} y + Y x y + Y x - 1\\right)} Y}{Y^{3} x^{2} y + 2 \\, Y^{2} x^{2} y + Y x^{2} y + Y x y + Y x + x y + x - 1}$$"
      ],
      "text/plain": [
       "(2*Y^3*x^2*y + 2*Y^2*x^2*y + Y*x*y + Y*x - 1)*Y/(Y^3*x^2*y + 2*Y^2*x^2*y + Y*x^2*y + Y*x*y + Y*x + x*y + x - 1)"
      ]
     },
     "metadata": {},
     "output_type": "display_data"
    },
    {
     "name": "stdout",
     "output_type": "stream",
     "text": [
      "Out of terms that were checked, all terms agree.\n"
     ]
    }
   ],
   "source": [
    "f = (1 - x - y - sqrt((1 - x - y)^2 - 4*x*y))/(2*x*y) - 1\n",
    "P = ((((Y+1)*2*x*y - (1 - x - y))^2 - ((1 - x - y)^2 - 4*x*y))/(4*x*y)).simplify()\n",
    "# Multiplicative substitution\n",
    "f = f.subs({y:x*y})\n",
    "P = P.subs({y:x*y})\n",
    "F = Furstenberg(P, f, x)"
   ]
  },
  {
   "cell_type": "code",
   "execution_count": 56,
   "metadata": {},
   "outputs": [
    {
     "data": {
      "text/html": [
       "<html><script type=\"math/tex; mode=display\">\\newcommand{\\Bold}[1]{\\mathbf{#1}}\\left[\\left\\{x : -\\frac{{\\left(p - 1\\right)} p^{3}}{p^{2} - p + 1}, y : \\frac{{\\left(p - 1\\right)}^{2}}{p^{2}}, Y : -\\frac{p^{2} - p + 1}{{\\left(p - 1\\right)} p}\\right\\}\\right]</script></html>"
      ],
      "text/latex": [
       "$$\\newcommand{\\Bold}[1]{\\mathbf{#1}}\\left[\\left\\{x : -\\frac{{\\left(p - 1\\right)} p^{3}}{p^{2} - p + 1}, y : \\frac{{\\left(p - 1\\right)}^{2}}{p^{2}}, Y : -\\frac{p^{2} - p + 1}{{\\left(p - 1\\right)} p}\\right\\}\\right]$$"
      ],
      "text/plain": [
       "[{x: -(p - 1)*p^3/(p^2 - p + 1),\n",
       "  y: (p - 1)^2/p^2,\n",
       "  Y: -(p^2 - p + 1)/((p - 1)*p)}]"
      ]
     },
     "metadata": {},
     "output_type": "display_data"
    }
   ],
   "source": [
    "# We search for critical points:\n",
    "G = F.numerator()\n",
    "H = F.denominator()\n",
    "CritSols = critpt(H, [1, (1-p), 1], [x, y, Y])\n",
    "show(CritSols)\n",
    "CP = CritSols[0]"
   ]
  },
  {
   "cell_type": "code",
   "execution_count": 57,
   "metadata": {},
   "outputs": [
    {
     "data": {
      "text/plain": [
       "[]"
      ]
     },
     "execution_count": 57,
     "metadata": {},
     "output_type": "execute_result"
    }
   ],
   "source": [
    "# Check for non-smooth points:\n",
    "nonsmoothpt(H, [1, (1-p), 1], [x, y, Y])"
   ]
  },
  {
   "cell_type": "code",
   "execution_count": 58,
   "metadata": {},
   "outputs": [
    {
     "name": "stdout",
     "output_type": "stream",
     "text": [
      "The asymptotics:\n"
     ]
    },
    {
     "data": {
      "text/html": [
       "<html><script type=\"math/tex; mode=display\">\\newcommand{\\Bold}[1]{\\mathbf{#1}}-\\frac{\\left(\\frac{{\\left(p - 1\\right)}^{2 \\, p}}{{\\left(p^{2} - 2 \\, p + 1\\right)} p^{2 \\, p}}\\right)^{n}}{n {\\left(p - 1\\right)}} \\Bigg( \\frac{1}{2 \\, \\pi n {\\left(p - 1\\right)} p^{2}} + O\\Bigg( \\frac{1}{n^{2}} \\Bigg)\\Bigg)</script></html>"
      ],
      "text/latex": [
       "$$\\newcommand{\\Bold}[1]{\\mathbf{#1}}-\\frac{\\left(\\frac{{\\left(p - 1\\right)}^{2 \\, p}}{{\\left(p^{2} - 2 \\, p + 1\\right)} p^{2 \\, p}}\\right)^{n}}{n {\\left(p - 1\\right)}} \\Bigg( \\frac{1}{2 \\, \\pi n {\\left(p - 1\\right)} p^{2}} + O\\Bigg( \\frac{1}{n^{2}} \\Bigg)\\Bigg)$$"
      ],
      "text/plain": [
       "-((p - 1)^(2*p)/((p^2 - 2*p + 1)*p^(2*p)))^n/(n*(p - 1)) \\Bigg( 1/2/(pi*n*(p - 1)*p^2) + O\\Bigg( n^(-2) \\Bigg)\\Bigg)"
      ]
     },
     "metadata": {},
     "output_type": "display_data"
    }
   ],
   "source": [
    "# Compute asymptotics:\n",
    "r = [1, 1, 1-p]\n",
    "vars = [x, Y, y]\n",
    "gOptions = solve(H, y)\n",
    "g1 = gOptions[0].rhs()\n",
    "\n",
    "M=2\n",
    "ex,pw,se = smoothContrib(G,H,r,vars,CP,M,g1)\n",
    "print(\"The asymptotics:\")\n",
    "disp_asm(ex,pw,se.factor(),M)"
   ]
  },
  {
   "cell_type": "markdown",
   "metadata": {},
   "source": [
    "### Example 19: Bousquet-Melou and Rechnitzer; bar graphs"
   ]
  },
  {
   "cell_type": "code",
   "execution_count": 59,
   "metadata": {},
   "outputs": [
    {
     "name": "stdout",
     "output_type": "stream",
     "text": [
      "The minimal polynomial is correct.\n",
      "The Furstenberg embedding is:\n"
     ]
    },
    {
     "data": {
      "text/html": [
       "<html><script type=\"math/tex; mode=display\">\\newcommand{\\Bold}[1]{\\mathbf{#1}}\\frac{{\\left(Y x y + 2 \\, Y x + Y y + x - 1\\right)} Y}{Y x y + Y x + Y y + x y + x - 1}</script></html>"
      ],
      "text/latex": [
       "$$\\newcommand{\\Bold}[1]{\\mathbf{#1}}\\frac{{\\left(Y x y + 2 \\, Y x + Y y + x - 1\\right)} Y}{Y x y + Y x + Y y + x y + x - 1}$$"
      ],
      "text/plain": [
       "(Y*x*y + 2*Y*x + Y*y + x - 1)*Y/(Y*x*y + Y*x + Y*y + x*y + x - 1)"
      ]
     },
     "metadata": {},
     "output_type": "display_data"
    },
    {
     "name": "stdout",
     "output_type": "stream",
     "text": [
      "Out of terms that were checked, all terms agree.\n"
     ]
    }
   ],
   "source": [
    "P = Y - x*y - (x + y + x*y)*Y - x*Y^2\n",
    "f = -(1/2)*(x*y+sqrt(x^2*y^2-2*x^2*y+2*x*y^2+x^2+y^2-2*x-2*y+1)+x+y-1)/x\n",
    "F = Furstenberg(P, f, y)"
   ]
  },
  {
   "cell_type": "code",
   "execution_count": 60,
   "metadata": {},
   "outputs": [
    {
     "data": {
      "text/html": [
       "<html><script type=\"math/tex; mode=display\">\\newcommand{\\Bold}[1]{\\mathbf{#1}}\\left[\\left\\{x : \\frac{\\sqrt{p^{2} + 4} - 2}{p}, y : -\\frac{1}{2} \\, p + \\frac{1}{2} \\, \\sqrt{p^{2} + 4}, Y : -\\frac{1}{2} \\, p + \\frac{1}{2} \\, \\sqrt{p^{2} + 4}\\right\\}, \\left\\{x : -\\frac{\\sqrt{p^{2} + 4} + 2}{p}, y : -\\frac{1}{2} \\, p - \\frac{1}{2} \\, \\sqrt{p^{2} + 4}, Y : -\\frac{1}{2} \\, p - \\frac{1}{2} \\, \\sqrt{p^{2} + 4}\\right\\}\\right]</script></html>"
      ],
      "text/latex": [
       "$$\\newcommand{\\Bold}[1]{\\mathbf{#1}}\\left[\\left\\{x : \\frac{\\sqrt{p^{2} + 4} - 2}{p}, y : -\\frac{1}{2} \\, p + \\frac{1}{2} \\, \\sqrt{p^{2} + 4}, Y : -\\frac{1}{2} \\, p + \\frac{1}{2} \\, \\sqrt{p^{2} + 4}\\right\\}, \\left\\{x : -\\frac{\\sqrt{p^{2} + 4} + 2}{p}, y : -\\frac{1}{2} \\, p - \\frac{1}{2} \\, \\sqrt{p^{2} + 4}, Y : -\\frac{1}{2} \\, p - \\frac{1}{2} \\, \\sqrt{p^{2} + 4}\\right\\}\\right]$$"
      ],
      "text/plain": [
       "[{x: (sqrt(p^2 + 4) - 2)/p,\n",
       "  y: -1/2*p + 1/2*sqrt(p^2 + 4),\n",
       "  Y: -1/2*p + 1/2*sqrt(p^2 + 4)},\n",
       " {x: -(sqrt(p^2 + 4) + 2)/p,\n",
       "  y: -1/2*p - 1/2*sqrt(p^2 + 4),\n",
       "  Y: -1/2*p - 1/2*sqrt(p^2 + 4)}]"
      ]
     },
     "metadata": {},
     "output_type": "display_data"
    }
   ],
   "source": [
    "# Following Melczer Chapter 5 Example 5.10, page 26\n",
    "# See https://melczer.ca/files/TextbookCode/Chapter5/Example5-SmoothASM.html for a more complete analysis of these critical points\n",
    "G = F.numerator()\n",
    "H = F.denominator()\n",
    "CritSols = critpt(H, [p, 1, 1], [x, y, Y])\n",
    "show(CritSols)\n",
    "CP1 = CritSols[0]\n",
    "CP2 = CritSols[1]"
   ]
  },
  {
   "cell_type": "code",
   "execution_count": 61,
   "metadata": {},
   "outputs": [
    {
     "data": {
      "text/plain": [
       "[{x: r4, y: -1, Y: -1, p: 0}]"
      ]
     },
     "execution_count": 61,
     "metadata": {},
     "output_type": "execute_result"
    }
   ],
   "source": [
    "# Check for non-smooth points:\n",
    "nonsmoothpt(H, [p, 1, 1], [x, y, Y])"
   ]
  },
  {
   "cell_type": "code",
   "execution_count": 62,
   "metadata": {},
   "outputs": [
    {
     "name": "stdout",
     "output_type": "stream",
     "text": [
      "The asymptotics:\n"
     ]
    },
    {
     "data": {
      "text/html": [
       "<html><script type=\"math/tex; mode=display\">\\newcommand{\\Bold}[1]{\\mathbf{#1}}\\frac{\\left(\\frac{{\\left(p^{2} + 2\\right)} p^{p} + \\sqrt{p^{2} + 4} p^{p + 1}}{2 \\, {\\left(\\sqrt{p^{2} + 4} - 2\\right)}^{p}}\\right)^{n}}{n} \\Bigg( \\frac{{\\left(p^{2} - \\sqrt{p^{2} + 4} p + 4\\right)} \\sqrt{p^{2} + 2 \\, \\sqrt{p^{2} + 4} + 4}}{4 \\, \\pi {\\left(p^{2} + 4\\right)} n p} + O\\Bigg( \\frac{1}{n^{2}} \\Bigg)\\Bigg)</script></html>"
      ],
      "text/latex": [
       "$$\\newcommand{\\Bold}[1]{\\mathbf{#1}}\\frac{\\left(\\frac{{\\left(p^{2} + 2\\right)} p^{p} + \\sqrt{p^{2} + 4} p^{p + 1}}{2 \\, {\\left(\\sqrt{p^{2} + 4} - 2\\right)}^{p}}\\right)^{n}}{n} \\Bigg( \\frac{{\\left(p^{2} - \\sqrt{p^{2} + 4} p + 4\\right)} \\sqrt{p^{2} + 2 \\, \\sqrt{p^{2} + 4} + 4}}{4 \\, \\pi {\\left(p^{2} + 4\\right)} n p} + O\\Bigg( \\frac{1}{n^{2}} \\Bigg)\\Bigg)$$"
      ],
      "text/plain": [
       "(1/2*((p^2 + 2)*p^p + sqrt(p^2 + 4)*p^(p + 1))/(sqrt(p^2 + 4) - 2)^p)^n/n \\Bigg( 1/4*(p^2 - sqrt(p^2 + 4)*p + 4)*sqrt(p^2 + 2*sqrt(p^2 + 4) + 4)/(pi*(p^2 + 4)*n*p) + O\\Bigg( n^(-2) \\Bigg)\\Bigg)"
      ]
     },
     "metadata": {},
     "output_type": "display_data"
    }
   ],
   "source": [
    "# Compute asymptotics (takes a long time to run):\n",
    "r = [p, 1, 1]\n",
    "vars = [x, Y, y]\n",
    "gOptions = solve(H, y)\n",
    "g1 = gOptions[0].rhs()\n",
    "\n",
    "M=2\n",
    "ex,pw,se = smoothContrib(G,H,r,vars,CP1,M,g1)\n",
    "print(\"The asymptotics:\")\n",
    "disp_asm(ex,pw,se.factor(),M)"
   ]
  },
  {
   "cell_type": "markdown",
   "metadata": {},
   "source": [
    "### Example 20: Goulden and Jackson; planar maps and the quadratic method"
   ]
  },
  {
   "cell_type": "code",
   "execution_count": 63,
   "metadata": {},
   "outputs": [
    {
     "name": "stdout",
     "output_type": "stream",
     "text": [
      "The derivative of the minimal polynomial is zero.  Check for extraneous factors in the minimal polynomial, try  a substitution, or use Safonov's algorithm.\n"
     ]
    }
   ],
   "source": [
    "f = -1/6*sqrt(1/3)*sqrt(2*(12*y - 1)*sqrt(-12*y + 1)/(x*y^2) + 81*(x^2*y - x + 1)^2/(x^4*y^2) - 2*(27*x^4*y^2 - x^3*(90*y + 1) + 27*x^2*(4*y + 1) - 54*x + 27)/(x^4*y^2)) + 1/2*(x^2*y - x + 1)/(x^2*y)\n",
    "P = 27*x^4*y^3*Y^4+(-54*x^4*y^3+54*x^3*y^2-54*x^2*y^2)*Y^3+(27*x^4*y^3-90*x^3*y^2-x^3*y+108*x^2*y^2+27*x^2*y-54*x*y+27*y)*Y^2+(36*x^3*y^2+x^3*y-54*x^2*y^2-36*x^2*y-x^2+90*x*y+x-54*y)*Y+16*x^2*y^2+8*x^2*y+x^2-36*x*y-x+27*y\n",
    "Furstenberg(P, f, x)"
   ]
  },
  {
   "cell_type": "code",
   "execution_count": 64,
   "metadata": {
    "scrolled": true
   },
   "outputs": [
    {
     "name": "stdout",
     "output_type": "stream",
     "text": [
      "The minimal polynomial is correct.\n",
      "The Furstenberg embedding is:\n"
     ]
    },
    {
     "data": {
      "text/html": [
       "<html><script type=\"math/tex; mode=display\">\\newcommand{\\Bold}[1]{\\mathbf{#1}}\\frac{{\\left(54 \\, Y^{4} x^{3} y^{4} + 108 \\, Y^{4} x^{3} y^{3} + 54 \\, Y^{4} x^{3} y^{2} + 54 \\, Y^{3} x^{2} y^{3} + 54 \\, Y^{3} x^{2} y^{2} + 54 \\, Y^{2} x y^{2} + 54 \\, Y^{2} x y - 54 \\, Y^{2} y^{2} - 54 \\, Y^{2} y + 18 \\, Y y - 1\\right)} {\\left(2 \\, Y^{2} x^{3} y^{2} + 2 \\, Y^{2} x^{3} y + Y x^{2} y + x - 1\\right)} Y}{27 \\, Y^{6} x^{6} y^{7} + 108 \\, Y^{6} x^{6} y^{6} + 162 \\, Y^{6} x^{6} y^{5} + 108 \\, Y^{6} x^{6} y^{4} + 54 \\, Y^{5} x^{5} y^{6} + 27 \\, Y^{6} x^{6} y^{3} + 162 \\, Y^{5} x^{5} y^{5} + 162 \\, Y^{5} x^{5} y^{4} + 54 \\, Y^{5} x^{5} y^{3} + 81 \\, Y^{4} x^{4} y^{5} + 216 \\, Y^{4} x^{4} y^{4} - 54 \\, Y^{4} x^{3} y^{5} + 189 \\, Y^{4} x^{4} y^{3} - 162 \\, Y^{4} x^{3} y^{4} + 54 \\, Y^{4} x^{4} y^{2} - 162 \\, Y^{4} x^{3} y^{3} + 72 \\, Y^{3} x^{3} y^{4} - 54 \\, Y^{4} x^{3} y^{2} + 144 \\, Y^{3} x^{3} y^{3} - 54 \\, Y^{3} x^{2} y^{4} + 72 \\, Y^{3} x^{3} y^{2} - 108 \\, Y^{3} x^{2} y^{3} - Y^{2} x^{3} y^{3} - 54 \\, Y^{3} x^{2} y^{2} - 2 \\, Y^{2} x^{3} y^{2} + 45 \\, Y^{2} x^{2} y^{3} - Y^{2} x^{3} y + 72 \\, Y^{2} x^{2} y^{2} - 54 \\, Y^{2} x y^{3} + 27 \\, Y^{2} x^{2} y - 108 \\, Y^{2} x y^{2} - Y x^{2} y^{2} + 27 \\, Y^{2} y^{3} - 54 \\, Y^{2} x y - Y x^{2} y + 54 \\, Y^{2} y^{2} + 18 \\, Y x y^{2} + 27 \\, Y^{2} y + 18 \\, Y x y - 2 \\, Y y^{2} - 18 \\, Y y - x y - x + 1}</script></html>"
      ],
      "text/latex": [
       "$$\\newcommand{\\Bold}[1]{\\mathbf{#1}}\\frac{{\\left(54 \\, Y^{4} x^{3} y^{4} + 108 \\, Y^{4} x^{3} y^{3} + 54 \\, Y^{4} x^{3} y^{2} + 54 \\, Y^{3} x^{2} y^{3} + 54 \\, Y^{3} x^{2} y^{2} + 54 \\, Y^{2} x y^{2} + 54 \\, Y^{2} x y - 54 \\, Y^{2} y^{2} - 54 \\, Y^{2} y + 18 \\, Y y - 1\\right)} {\\left(2 \\, Y^{2} x^{3} y^{2} + 2 \\, Y^{2} x^{3} y + Y x^{2} y + x - 1\\right)} Y}{27 \\, Y^{6} x^{6} y^{7} + 108 \\, Y^{6} x^{6} y^{6} + 162 \\, Y^{6} x^{6} y^{5} + 108 \\, Y^{6} x^{6} y^{4} + 54 \\, Y^{5} x^{5} y^{6} + 27 \\, Y^{6} x^{6} y^{3} + 162 \\, Y^{5} x^{5} y^{5} + 162 \\, Y^{5} x^{5} y^{4} + 54 \\, Y^{5} x^{5} y^{3} + 81 \\, Y^{4} x^{4} y^{5} + 216 \\, Y^{4} x^{4} y^{4} - 54 \\, Y^{4} x^{3} y^{5} + 189 \\, Y^{4} x^{4} y^{3} - 162 \\, Y^{4} x^{3} y^{4} + 54 \\, Y^{4} x^{4} y^{2} - 162 \\, Y^{4} x^{3} y^{3} + 72 \\, Y^{3} x^{3} y^{4} - 54 \\, Y^{4} x^{3} y^{2} + 144 \\, Y^{3} x^{3} y^{3} - 54 \\, Y^{3} x^{2} y^{4} + 72 \\, Y^{3} x^{3} y^{2} - 108 \\, Y^{3} x^{2} y^{3} - Y^{2} x^{3} y^{3} - 54 \\, Y^{3} x^{2} y^{2} - 2 \\, Y^{2} x^{3} y^{2} + 45 \\, Y^{2} x^{2} y^{3} - Y^{2} x^{3} y + 72 \\, Y^{2} x^{2} y^{2} - 54 \\, Y^{2} x y^{3} + 27 \\, Y^{2} x^{2} y - 108 \\, Y^{2} x y^{2} - Y x^{2} y^{2} + 27 \\, Y^{2} y^{3} - 54 \\, Y^{2} x y - Y x^{2} y + 54 \\, Y^{2} y^{2} + 18 \\, Y x y^{2} + 27 \\, Y^{2} y + 18 \\, Y x y - 2 \\, Y y^{2} - 18 \\, Y y - x y - x + 1}$$"
      ],
      "text/plain": [
       "(54*Y^4*x^3*y^4 + 108*Y^4*x^3*y^3 + 54*Y^4*x^3*y^2 + 54*Y^3*x^2*y^3 + 54*Y^3*x^2*y^2 + 54*Y^2*x*y^2 + 54*Y^2*x*y - 54*Y^2*y^2 - 54*Y^2*y + 18*Y*y - 1)*(2*Y^2*x^3*y^2 + 2*Y^2*x^3*y + Y*x^2*y + x - 1)*Y/(27*Y^6*x^6*y^7 + 108*Y^6*x^6*y^6 + 162*Y^6*x^6*y^5 + 108*Y^6*x^6*y^4 + 54*Y^5*x^5*y^6 + 27*Y^6*x^6*y^3 + 162*Y^5*x^5*y^5 + 162*Y^5*x^5*y^4 + 54*Y^5*x^5*y^3 + 81*Y^4*x^4*y^5 + 216*Y^4*x^4*y^4 - 54*Y^4*x^3*y^5 + 189*Y^4*x^4*y^3 - 162*Y^4*x^3*y^4 + 54*Y^4*x^4*y^2 - 162*Y^4*x^3*y^3 + 72*Y^3*x^3*y^4 - 54*Y^4*x^3*y^2 + 144*Y^3*x^3*y^3 - 54*Y^3*x^2*y^4 + 72*Y^3*x^3*y^2 - 108*Y^3*x^2*y^3 - Y^2*x^3*y^3 - 54*Y^3*x^2*y^2 - 2*Y^2*x^3*y^2 + 45*Y^2*x^2*y^3 - Y^2*x^3*y + 72*Y^2*x^2*y^2 - 54*Y^2*x*y^3 + 27*Y^2*x^2*y - 108*Y^2*x*y^2 - Y*x^2*y^2 + 27*Y^2*y^3 - 54*Y^2*x*y - Y*x^2*y + 54*Y^2*y^2 + 18*Y*x*y^2 + 27*Y^2*y + 18*Y*x*y - 2*Y*y^2 - 18*Y*y - x*y - x + 1)"
      ]
     },
     "metadata": {},
     "output_type": "display_data"
    },
    {
     "name": "stdout",
     "output_type": "stream",
     "text": [
      "Out of terms that were checked, all terms agree.\n"
     ]
    },
    {
     "data": {
      "text/plain": [
       "(54*Y^4*x^3*y^4 + 108*Y^4*x^3*y^3 + 54*Y^4*x^3*y^2 + 54*Y^3*x^2*y^3 + 54*Y^3*x^2*y^2 + 54*Y^2*x*y^2 + 54*Y^2*x*y - 54*Y^2*y^2 - 54*Y^2*y + 18*Y*y - 1)*(2*Y^2*x^3*y^2 + 2*Y^2*x^3*y + Y*x^2*y + x - 1)*Y/(27*Y^6*x^6*y^7 + 108*Y^6*x^6*y^6 + 162*Y^6*x^6*y^5 + 108*Y^6*x^6*y^4 + 54*Y^5*x^5*y^6 + 27*Y^6*x^6*y^3 + 162*Y^5*x^5*y^5 + 162*Y^5*x^5*y^4 + 54*Y^5*x^5*y^3 + 81*Y^4*x^4*y^5 + 216*Y^4*x^4*y^4 - 54*Y^4*x^3*y^5 + 189*Y^4*x^4*y^3 - 162*Y^4*x^3*y^4 + 54*Y^4*x^4*y^2 - 162*Y^4*x^3*y^3 + 72*Y^3*x^3*y^4 - 54*Y^4*x^3*y^2 + 144*Y^3*x^3*y^3 - 54*Y^3*x^2*y^4 + 72*Y^3*x^3*y^2 - 108*Y^3*x^2*y^3 - Y^2*x^3*y^3 - 54*Y^3*x^2*y^2 - 2*Y^2*x^3*y^2 + 45*Y^2*x^2*y^3 - Y^2*x^3*y + 72*Y^2*x^2*y^2 - 54*Y^2*x*y^3 + 27*Y^2*x^2*y - 108*Y^2*x*y^2 - Y*x^2*y^2 + 27*Y^2*y^3 - 54*Y^2*x*y - Y*x^2*y + 54*Y^2*y^2 + 18*Y*x*y^2 + 27*Y^2*y + 18*Y*x*y - 2*Y*y^2 - 18*Y*y - x*y - x + 1)"
      ]
     },
     "execution_count": 64,
     "metadata": {},
     "output_type": "execute_result"
    }
   ],
   "source": [
    "f1 = (f-1)/x - y\n",
    "P1 = (P.subs(Y=(Y+y)*x + 1)/x^2).full_simplify()\n",
    "Furstenberg(P1, f1, y)"
   ]
  },
  {
   "cell_type": "code",
   "execution_count": null,
   "metadata": {},
   "outputs": [],
   "source": []
  }
 ],
 "metadata": {
  "kernelspec": {
   "display_name": "SageMath 9.3",
   "language": "sage",
   "name": "sagemath-9.3"
  },
  "language_info": {
   "codemirror_mode": {
    "name": "ipython",
    "version": 3
   },
   "file_extension": ".py",
   "mimetype": "text/x-python",
   "name": "python",
   "nbconvert_exporter": "python",
   "pygments_lexer": "ipython3",
   "version": "3.9.2"
  }
 },
 "nbformat": 4,
 "nbformat_minor": 4
}
