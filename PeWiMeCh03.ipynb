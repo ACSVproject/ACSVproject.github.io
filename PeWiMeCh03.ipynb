{
 "cells": [
  {
   "cell_type": "markdown",
   "metadata": {},
   "source": [
    "### This notebook contains worked examples from Chapter 3 of the text *Analytic Combinatorics in Several Variables (2nd edition)* by Pemantle, Wilson and Melczer. \n",
    "\n",
    "Further details can be found on the book website at [https://acsvproject.com/acsvbook/](https://acsvproject.com/acsvbook/) .\n",
    "\n",
    "Example numbers match the published version."
   ]
  },
  {
   "cell_type": "code",
   "execution_count": 1,
   "metadata": {},
   "outputs": [
    {
     "data": {
      "text/plain": [
       "(w, x, y, z, r, s, i, j)"
      ]
     },
     "execution_count": 1,
     "metadata": {},
     "output_type": "execute_result"
    }
   ],
   "source": [
    "# MAKE SURE TO RUN THIS CELL!\n",
    "var('w x y z r s i j')"
   ]
  },
  {
   "cell_type": "markdown",
   "metadata": {},
   "source": [
    "### Asymptotic Expansions in Sage"
   ]
  },
  {
   "cell_type": "code",
   "execution_count": 2,
   "metadata": {},
   "outputs": [
    {
     "data": {
      "text/plain": [
       "Asymptotic Ring <QQ^n * n^QQ * log(n)^QQ * Signs^n> over Symbolic Constants Subring"
      ]
     },
     "execution_count": 2,
     "metadata": {},
     "output_type": "execute_result"
    }
   ],
   "source": [
    "# Sage has good built-in support for (univariate) asymptotics through the AsymptoticRing structure\n",
    "SCR = SR.subring(no_variables=True) # Create symbolic ring with no variables\n",
    "A.<n> = AsymptoticRing(\n",
    "    growth_group='QQ^n * n^QQ * log(n)^QQ', \n",
    "    coefficient_ring=SCR,\n",
    "    default_prec=4\n",
    ")\n",
    "A"
   ]
  },
  {
   "cell_type": "code",
   "execution_count": 3,
   "metadata": {},
   "outputs": [
    {
     "data": {
      "text/html": [
       "<html>\\(\\displaystyle \\sqrt{n + 1} \\verb| |\\verb|=|\\verb| |\\verb|\t| n^{\\frac{1}{2}} + \\frac{1}{2} n^{-\\frac{1}{2}} - \\frac{1}{8} n^{-\\frac{3}{2}} + \\frac{1}{16} n^{-\\frac{5}{2}} + O\\!\\left(n^{-\\frac{7}{2}}\\right)\\)</html>"
      ],
      "text/latex": [
       "$\\displaystyle \\sqrt{n + 1} \\verb| |\\verb|=|\\verb| |\\verb|\t| n^{\\frac{1}{2}} + \\frac{1}{2} n^{-\\frac{1}{2}} - \\frac{1}{8} n^{-\\frac{3}{2}} + \\frac{1}{16} n^{-\\frac{5}{2}} + O\\!\\left(n^{-\\frac{7}{2}}\\right)$"
      ],
      "text/plain": [
       "sqrt(n + 1) ' = \\t' n^(1/2) + 1/2*n^(-1/2) - 1/8*n^(-3/2) + 1/16*n^(-5/2) + O(n^(-7/2))"
      ]
     },
     "metadata": {},
     "output_type": "display_data"
    },
    {
     "data": {
      "text/html": [
       "<html>\\(\\displaystyle {\\left(\\frac{1}{n} + 1\\right)}^{n} \\verb| |\\verb|=|\\verb| |\\verb|\t| e - \\frac{1}{2} \\, e n^{-1} + \\frac{11}{24} \\, e n^{-2} - \\frac{7}{16} \\, e n^{-3} + O\\!\\left(n^{-4}\\right)\\)</html>"
      ],
      "text/latex": [
       "$\\displaystyle {\\left(\\frac{1}{n} + 1\\right)}^{n} \\verb| |\\verb|=|\\verb| |\\verb|\t| e - \\frac{1}{2} \\, e n^{-1} + \\frac{11}{24} \\, e n^{-2} - \\frac{7}{16} \\, e n^{-3} + O\\!\\left(n^{-4}\\right)$"
      ],
      "text/plain": [
       "(1/n + 1)^n ' = \\t' e - 1/2*e*n^(-1) + 11/24*e*n^(-2) - 7/16*e*n^(-3) + O(n^(-4))"
      ]
     },
     "metadata": {},
     "output_type": "display_data"
    },
    {
     "data": {
      "text/html": [
       "<html>\\(\\displaystyle \\log\\left(n + 1\\right) \\verb| |\\verb|=|\\verb| |\\verb|\t| \\log\\left(n\\right) + n^{-1} - \\frac{1}{2} n^{-2} + \\frac{1}{3} n^{-3} - \\frac{1}{4} n^{-4} + O\\!\\left(n^{-5}\\right)\\)</html>"
      ],
      "text/latex": [
       "$\\displaystyle \\log\\left(n + 1\\right) \\verb| |\\verb|=|\\verb| |\\verb|\t| \\log\\left(n\\right) + n^{-1} - \\frac{1}{2} n^{-2} + \\frac{1}{3} n^{-3} - \\frac{1}{4} n^{-4} + O\\!\\left(n^{-5}\\right)$"
      ],
      "text/plain": [
       "log(n + 1) ' = \\t' log(n) + n^(-1) - 1/2*n^(-2) + 1/3*n^(-3) - 1/4*n^(-4) + O(n^(-5))"
      ]
     },
     "metadata": {},
     "output_type": "display_data"
    }
   ],
   "source": [
    "# When n generates an AsymptoticRing, Sage automatically computes expansions\n",
    "show(SR(\"sqrt(1+n)\"), \" = \\t\", sqrt(1+n))\n",
    "show(SR(\"(1+1/n)^n\"), \" = \\t\", (1+1/n)^n)\n",
    "show(SR(\"log(1+n)\"), \" = \\t\", log(1+n))"
   ]
  },
  {
   "cell_type": "code",
   "execution_count": 4,
   "metadata": {},
   "outputs": [
    {
     "data": {
      "text/html": [
       "<html>\\(\\displaystyle \\verb|[z^n]| \\frac{1}{{\\left(2 \\, z - 1\\right)}^{2} {\\left(z + 1\\right)}} \\verb| |\\verb|=|\\verb| |\\verb|\t| \\frac{2}{3} 2^{n} n + \\frac{8}{9} 2^{n} + O\\!\\left(2^{n} n^{-2}\\right)\\)</html>"
      ],
      "text/latex": [
       "$\\displaystyle \\verb|[z^n]| \\frac{1}{{\\left(2 \\, z - 1\\right)}^{2} {\\left(z + 1\\right)}} \\verb| |\\verb|=|\\verb| |\\verb|\t| \\frac{2}{3} 2^{n} n + \\frac{8}{9} 2^{n} + O\\!\\left(2^{n} n^{-2}\\right)$"
      ],
      "text/plain": [
       "'[z^n]' 1/((2*z - 1)^2*(z + 1)) ' = \\t' 2/3*2^n*n + 8/9*2^n + O(2^n*n^(-2))"
      ]
     },
     "metadata": {},
     "output_type": "display_data"
    }
   ],
   "source": [
    "# The package can compute asymptotic expansions of meromorphic functions from its singularities\n",
    "# using the results discussed in this chapter\n",
    "def GF(z):\n",
    "    return 1/((1-2*z)^2*(1+z))\n",
    "\n",
    "asm = A.coefficients_of_generating_function(\n",
    "    function=GF,\n",
    "    singularities=(1/2,),\n",
    "    precision=3\n",
    ")\n",
    "show(\"[z^n]\", SR(\"1/((1-2*z)^2*(1+z))\"), \" = \\t\", asm)"
   ]
  },
  {
   "cell_type": "code",
   "execution_count": 5,
   "metadata": {},
   "outputs": [
    {
     "data": {
      "text/html": [
       "<html>\\(\\displaystyle \\verb|[z^n]| \\frac{\\log\\left(-z + 1\\right)}{z - 1} \\verb| |\\verb|=|\\verb| |\\verb|\t| \\log\\left(n\\right) + \\gamma_E + \\frac{1}{2} n^{-1} - \\frac{1}{12} n^{-2} + \\frac{1}{120} n^{-4} + O\\!\\left(n^{-5} \\log\\left(n\\right)\\right)\\)</html>"
      ],
      "text/latex": [
       "$\\displaystyle \\verb|[z^n]| \\frac{\\log\\left(-z + 1\\right)}{z - 1} \\verb| |\\verb|=|\\verb| |\\verb|\t| \\log\\left(n\\right) + \\gamma_E + \\frac{1}{2} n^{-1} - \\frac{1}{12} n^{-2} + \\frac{1}{120} n^{-4} + O\\!\\left(n^{-5} \\log\\left(n\\right)\\right)$"
      ],
      "text/plain": [
       "'[z^n]' log(-z + 1)/(z - 1) ' = \\t' log(n) + euler_gamma + 1/2*n^(-1) - 1/12*n^(-2) + 1/120*n^(-4) + O(n^(-5)*log(n))"
      ]
     },
     "metadata": {},
     "output_type": "display_data"
    },
    {
     "data": {
      "text/html": [
       "<html>\\(\\displaystyle \\verb|[z^n]| -\\frac{\\sqrt{-4 \\, z + 1} - 1}{2 \\, z} \\verb| |\\verb|=|\\verb| |\\verb|\t| \\frac{1}{\\sqrt{\\pi}} 4^{n} n^{-\\frac{3}{2}} - \\frac{9}{8 \\, \\sqrt{\\pi}} 4^{n} n^{-\\frac{5}{2}} + \\frac{145}{128 \\, \\sqrt{\\pi}} 4^{n} n^{-\\frac{7}{2}} + O\\!\\left(4^{n} n^{-4}\\right)\\)</html>"
      ],
      "text/latex": [
       "$\\displaystyle \\verb|[z^n]| -\\frac{\\sqrt{-4 \\, z + 1} - 1}{2 \\, z} \\verb| |\\verb|=|\\verb| |\\verb|\t| \\frac{1}{\\sqrt{\\pi}} 4^{n} n^{-\\frac{3}{2}} - \\frac{9}{8 \\, \\sqrt{\\pi}} 4^{n} n^{-\\frac{5}{2}} + \\frac{145}{128 \\, \\sqrt{\\pi}} 4^{n} n^{-\\frac{7}{2}} + O\\!\\left(4^{n} n^{-4}\\right)$"
      ],
      "text/plain": [
       "'[z^n]' -1/2*(sqrt(-4*z + 1) - 1)/z ' = \\t' 1/sqrt(pi)*4^n*n^(-3/2) - 9/8/sqrt(pi)*4^n*n^(-5/2) + 145/128/sqrt(pi)*4^n*n^(-7/2) + O(4^n*n^(-4))"
      ]
     },
     "metadata": {},
     "output_type": "display_data"
    }
   ],
   "source": [
    "# It can also compute expansions near logarithmic and algebraic singularities using transfer theorems\n",
    "def harmonic(z):\n",
    "    return - log(1 - z) / (1 - z)\n",
    "\n",
    "asm = A.coefficients_of_generating_function(\n",
    "    function=harmonic,\n",
    "    singularities=(1,),\n",
    "    precision=10\n",
    ")\n",
    "show(\"[z^n]\", SR(\"- log(1 - z) / (1 - z)\"), \" = \\t\", asm)\n",
    "\n",
    "\n",
    "def catalan(z):\n",
    "    return (1-sqrt(1-4*z))/(2*z)\n",
    "asm = A.coefficients_of_generating_function(\n",
    "    function=catalan,\n",
    "    singularities=(1/4,),\n",
    "    precision=3\n",
    ")\n",
    "show(\"[z^n]\", SR(\"(1-sqrt(1-4*z))/(2*z)\"), \" = \\t\", asm)"
   ]
  },
  {
   "cell_type": "markdown",
   "metadata": {},
   "source": [
    "### Partial Fractions and Residues"
   ]
  },
  {
   "cell_type": "code",
   "execution_count": 6,
   "metadata": {},
   "outputs": [
    {
     "data": {
      "text/html": [
       "<html>\\(\\displaystyle -\\frac{3 \\, z + 4}{6 \\, z^{5} - 13 \\, z^{4} + 4 \\, z^{3} + 6 \\, z^{2} - 2 \\, z - 1} \\verb| |\\verb|=|\\verb| |\\verb|\t| \\frac{243}{64 \\, {\\left(3 \\, z + 1\\right)}} - \\frac{40}{27 \\, {\\left(2 \\, z + 1\\right)}} - \\frac{907}{1728 \\, {\\left(z - 1\\right)}} + \\frac{83}{144 \\, {\\left(z - 1\\right)}^{2}} - \\frac{7}{12 \\, {\\left(z - 1\\right)}^{3}}\\)</html>"
      ],
      "text/latex": [
       "$\\displaystyle -\\frac{3 \\, z + 4}{6 \\, z^{5} - 13 \\, z^{4} + 4 \\, z^{3} + 6 \\, z^{2} - 2 \\, z - 1} \\verb| |\\verb|=|\\verb| |\\verb|\t| \\frac{243}{64 \\, {\\left(3 \\, z + 1\\right)}} - \\frac{40}{27 \\, {\\left(2 \\, z + 1\\right)}} - \\frac{907}{1728 \\, {\\left(z - 1\\right)}} + \\frac{83}{144 \\, {\\left(z - 1\\right)}^{2}} - \\frac{7}{12 \\, {\\left(z - 1\\right)}^{3}}$"
      ],
      "text/plain": [
       "-(3*z + 4)/(6*z^5 - 13*z^4 + 4*z^3 + 6*z^2 - 2*z - 1) ' = \\t' 243/64/(3*z + 1) - 40/27/(2*z + 1) - 907/1728/(z - 1) + 83/144/(z - 1)^2 - 7/12/(z - 1)^3"
      ]
     },
     "metadata": {},
     "output_type": "display_data"
    }
   ],
   "source": [
    "# Sage can compute partial fraction decompositions for rational functions\n",
    "F = (3*z+4)/(-6*z^5 + 13*z^4 - 4*z^3 - 6*z^2 + 2*z + 1)\n",
    "show(F, \" = \\t\", F.partial_fraction())"
   ]
  },
  {
   "cell_type": "code",
   "execution_count": 7,
   "metadata": {},
   "outputs": [
    {
     "data": {
      "text/html": [
       "<html>\\(\\displaystyle \\verb|The|\\verb| |\\verb|residue|\\verb| |\\verb|of|\\verb| |\\verb|\t| \\tan\\left(z\\right) \\verb| |\\verb|at|\\verb| |\\verb|z|\\verb| |\\verb|=|\\verb| |\\verb|pi/2|\\verb| |\\verb|is| -1\\)</html>"
      ],
      "text/latex": [
       "$\\displaystyle \\verb|The|\\verb| |\\verb|residue|\\verb| |\\verb|of|\\verb| |\\verb|\t| \\tan\\left(z\\right) \\verb| |\\verb|at|\\verb| |\\verb|z|\\verb| |\\verb|=|\\verb| |\\verb|pi/2|\\verb| |\\verb|is| -1$"
      ],
      "text/plain": [
       "'The residue of \\t' tan(z) ' at z = pi/2 is' -1"
      ]
     },
     "metadata": {},
     "output_type": "display_data"
    }
   ],
   "source": [
    "# It can also compute residues\n",
    "F = tan(z)\n",
    "show(\"The residue of \\t\", F, \" at z = pi/2 is\", F.residue(z==pi/2))"
   ]
  },
  {
   "cell_type": "markdown",
   "metadata": {},
   "source": [
    "### Example 3.8 - Surjections"
   ]
  },
  {
   "cell_type": "code",
   "execution_count": 8,
   "metadata": {},
   "outputs": [
    {
     "data": {
      "text/html": [
       "<html>\\(\\displaystyle \\verb|[z^n]| -\\frac{1}{e^{z} - 2} \\verb| |\\verb|=|\\verb| |\\verb|\t| \\frac{1}{2 \\, \\log\\left(2\\right)} \\left(\\frac{1}{\\log\\left(2\\right)}\\right)^{n} + O\\!\\left(\\left(\\frac{1}{\\log\\left(2\\right)}\\right)^{n} n^{-9}\\right)\\)</html>"
      ],
      "text/latex": [
       "$\\displaystyle \\verb|[z^n]| -\\frac{1}{e^{z} - 2} \\verb| |\\verb|=|\\verb| |\\verb|\t| \\frac{1}{2 \\, \\log\\left(2\\right)} \\left(\\frac{1}{\\log\\left(2\\right)}\\right)^{n} + O\\!\\left(\\left(\\frac{1}{\\log\\left(2\\right)}\\right)^{n} n^{-9}\\right)$"
      ],
      "text/plain": [
       "'[z^n]' -1/(e^z - 2) ' = \\t' 1/2/log(2)*(1/log(2))^n + O((1/log(2))^n*n^(-9))"
      ]
     },
     "metadata": {},
     "output_type": "display_data"
    }
   ],
   "source": [
    "# Note that Sage does not know there is an exponentially smaller error\n",
    "def surjection(z):\n",
    "    return 1/(2-exp(z))\n",
    "\n",
    "asm = A.coefficients_of_generating_function(\n",
    "    function=surjection,\n",
    "    singularities=(log(2),),\n",
    "    precision=10\n",
    ")\n",
    "show(\"[z^n]\", SR(\"1/(2-exp(z))\"), \" = \\t\", asm)"
   ]
  },
  {
   "cell_type": "markdown",
   "metadata": {},
   "source": [
    "### Lemma 3.10 - Basic Scale"
   ]
  },
  {
   "cell_type": "code",
   "execution_count": 9,
   "metadata": {},
   "outputs": [
    {
     "data": {
      "text/html": [
       "<html>\\(\\displaystyle \\verb|[z^n]| \\frac{1}{{\\left(-z + 1\\right)}^{\\frac{3}{2}}} \\verb| |\\verb|=|\\verb| |\\verb|\t| \\frac{2}{\\sqrt{\\pi}} n^{\\frac{1}{2}} + \\frac{3}{4 \\, \\sqrt{\\pi}} n^{-\\frac{1}{2}} - \\frac{7}{64 \\, \\sqrt{\\pi}} n^{-\\frac{3}{2}} + \\frac{9}{512 \\, \\sqrt{\\pi}} n^{-\\frac{5}{2}} + \\frac{59}{16384 \\, \\sqrt{\\pi}} n^{-\\frac{7}{2}} - \\frac{483}{131072 \\, \\sqrt{\\pi}} n^{-\\frac{9}{2}} - \\frac{2323}{2097152 \\, \\sqrt{\\pi}} n^{-\\frac{11}{2}} + \\frac{42801}{16777216 \\, \\sqrt{\\pi}} n^{-\\frac{13}{2}} + \\frac{923923}{1073741824 \\, \\sqrt{\\pi}} n^{-\\frac{15}{2}} - \\frac{30055311}{8589934592 \\, \\sqrt{\\pi}} n^{-\\frac{17}{2}} + O\\!\\left(n^{-\\frac{19}{2}}\\right)\\)</html>"
      ],
      "text/latex": [
       "$\\displaystyle \\verb|[z^n]| \\frac{1}{{\\left(-z + 1\\right)}^{\\frac{3}{2}}} \\verb| |\\verb|=|\\verb| |\\verb|\t| \\frac{2}{\\sqrt{\\pi}} n^{\\frac{1}{2}} + \\frac{3}{4 \\, \\sqrt{\\pi}} n^{-\\frac{1}{2}} - \\frac{7}{64 \\, \\sqrt{\\pi}} n^{-\\frac{3}{2}} + \\frac{9}{512 \\, \\sqrt{\\pi}} n^{-\\frac{5}{2}} + \\frac{59}{16384 \\, \\sqrt{\\pi}} n^{-\\frac{7}{2}} - \\frac{483}{131072 \\, \\sqrt{\\pi}} n^{-\\frac{9}{2}} - \\frac{2323}{2097152 \\, \\sqrt{\\pi}} n^{-\\frac{11}{2}} + \\frac{42801}{16777216 \\, \\sqrt{\\pi}} n^{-\\frac{13}{2}} + \\frac{923923}{1073741824 \\, \\sqrt{\\pi}} n^{-\\frac{15}{2}} - \\frac{30055311}{8589934592 \\, \\sqrt{\\pi}} n^{-\\frac{17}{2}} + O\\!\\left(n^{-\\frac{19}{2}}\\right)$"
      ],
      "text/plain": [
       "'[z^n]' (-z + 1)^(-3/2) ' = \\t' 2/sqrt(pi)*n^(1/2) + 3/4/sqrt(pi)*n^(-1/2) - 7/64/sqrt(pi)*n^(-3/2) + 9/512/sqrt(pi)*n^(-5/2) + 59/16384/sqrt(pi)*n^(-7/2) - 483/131072/sqrt(pi)*n^(-9/2) - 2323/2097152/sqrt(pi)*n^(-11/2) + 42801/16777216/sqrt(pi)*n^(-13/2) + 923923/1073741824/sqrt(pi)*n^(-15/2) - 30055311/8589934592/sqrt(pi)*n^(-17/2) + O(n^(-19/2))"
      ]
     },
     "metadata": {},
     "output_type": "display_data"
    }
   ],
   "source": [
    "# These asymptotic expansions can be computed automatically in Sage\n",
    "def algsing(z):\n",
    "    return (1-z)^(-3/2)\n",
    "\n",
    "asm = A.coefficients_of_generating_function(\n",
    "    function=algsing,\n",
    "    singularities=(1,),\n",
    "    precision=10\n",
    ")\n",
    "show(\"[z^n]\", SR(\"(1-z)^(-3/2)\"), \" = \\t\", asm)"
   ]
  },
  {
   "cell_type": "markdown",
   "metadata": {},
   "source": [
    "### Example 3.11 - Darboux Example"
   ]
  },
  {
   "cell_type": "code",
   "execution_count": 10,
   "metadata": {},
   "outputs": [
    {
     "data": {
      "text/html": [
       "<html>\\(\\displaystyle \\verb|[z^n]| \\frac{e^{\\left(-\\frac{1}{2} \\, z\\right)}}{\\sqrt{-z + 1}} \\verb| |\\verb|=|\\verb| |\\verb|\t| \\left(\\frac{e^{\\left(-\\frac{1}{2}\\right)}}{\\sqrt{\\pi}}\\right) n^{-\\frac{1}{2}} + \\left(-\\frac{3 \\, e^{\\left(-\\frac{1}{2}\\right)}}{8 \\, \\sqrt{\\pi}}\\right) n^{-\\frac{3}{2}} + \\left(\\frac{e^{\\left(-\\frac{1}{2}\\right)}}{128 \\, \\sqrt{\\pi}}\\right) n^{-\\frac{5}{2}} + O\\!\\left(n^{-\\frac{7}{2}}\\right)\\)</html>"
      ],
      "text/latex": [
       "$\\displaystyle \\verb|[z^n]| \\frac{e^{\\left(-\\frac{1}{2} \\, z\\right)}}{\\sqrt{-z + 1}} \\verb| |\\verb|=|\\verb| |\\verb|\t| \\left(\\frac{e^{\\left(-\\frac{1}{2}\\right)}}{\\sqrt{\\pi}}\\right) n^{-\\frac{1}{2}} + \\left(-\\frac{3 \\, e^{\\left(-\\frac{1}{2}\\right)}}{8 \\, \\sqrt{\\pi}}\\right) n^{-\\frac{3}{2}} + \\left(\\frac{e^{\\left(-\\frac{1}{2}\\right)}}{128 \\, \\sqrt{\\pi}}\\right) n^{-\\frac{5}{2}} + O\\!\\left(n^{-\\frac{7}{2}}\\right)$"
      ],
      "text/plain": [
       "'[z^n]' e^(-1/2*z)/sqrt(-z + 1) ' = \\t' (e^(-1/2)/sqrt(pi))*n^(-1/2) + (-3/8*e^(-1/2)/sqrt(pi))*n^(-3/2) + (1/128*e^(-1/2)/sqrt(pi))*n^(-5/2) + O(n^(-7/2))"
      ]
     },
     "metadata": {},
     "output_type": "display_data"
    }
   ],
   "source": [
    "# These asymptotic expansions can be computed automatically in Sage\n",
    "def EvenCycles(z):\n",
    "    return exp(-z/2)/sqrt(1-z)\n",
    "\n",
    "asm = A.coefficients_of_generating_function(\n",
    "    function=EvenCycles,\n",
    "    singularities=(1,),\n",
    "    precision=3\n",
    ")\n",
    "show(\"[z^n]\", SR(\"exp(-z/2)/sqrt(1-z)\"), \" = \\t\", asm)"
   ]
  },
  {
   "cell_type": "markdown",
   "metadata": {},
   "source": [
    "### Example 3.13 - 2-Regular Graphs"
   ]
  },
  {
   "cell_type": "code",
   "execution_count": 11,
   "metadata": {},
   "outputs": [
    {
     "data": {
      "text/html": [
       "<html>\\(\\displaystyle \\verb|[z^n]| \\frac{e^{\\left(-\\frac{1}{2} \\, z\\right)}}{\\sqrt{-z + 1}} \\verb| |\\verb|=|\\verb| |\\verb|\t| \\left(\\frac{e^{\\left(-\\frac{3}{4}\\right)}}{\\sqrt{\\pi}}\\right) n^{-\\frac{1}{2}} + \\left(-\\frac{5 \\, e^{\\left(-\\frac{3}{4}\\right)}}{8 \\, \\sqrt{\\pi}}\\right) n^{-\\frac{3}{2}} + \\left(\\frac{e^{\\left(-\\frac{3}{4}\\right)}}{128 \\, \\sqrt{\\pi}}\\right) n^{-\\frac{5}{2}} + O\\!\\left(n^{-\\frac{7}{2}}\\right)\\)</html>"
      ],
      "text/latex": [
       "$\\displaystyle \\verb|[z^n]| \\frac{e^{\\left(-\\frac{1}{2} \\, z\\right)}}{\\sqrt{-z + 1}} \\verb| |\\verb|=|\\verb| |\\verb|\t| \\left(\\frac{e^{\\left(-\\frac{3}{4}\\right)}}{\\sqrt{\\pi}}\\right) n^{-\\frac{1}{2}} + \\left(-\\frac{5 \\, e^{\\left(-\\frac{3}{4}\\right)}}{8 \\, \\sqrt{\\pi}}\\right) n^{-\\frac{3}{2}} + \\left(\\frac{e^{\\left(-\\frac{3}{4}\\right)}}{128 \\, \\sqrt{\\pi}}\\right) n^{-\\frac{5}{2}} + O\\!\\left(n^{-\\frac{7}{2}}\\right)$"
      ],
      "text/plain": [
       "'[z^n]' e^(-1/2*z)/sqrt(-z + 1) ' = \\t' (e^(-3/4)/sqrt(pi))*n^(-1/2) + (-5/8*e^(-3/4)/sqrt(pi))*n^(-3/2) + (1/128*e^(-3/4)/sqrt(pi))*n^(-5/2) + O(n^(-7/2))"
      ]
     },
     "metadata": {},
     "output_type": "display_data"
    }
   ],
   "source": [
    "# These asymptotic expansions can be computed automatically in Sage\n",
    "def TwoRegular(z):\n",
    "    return exp(-z/2-z^2/4)/sqrt(1-z)\n",
    "\n",
    "asm = A.coefficients_of_generating_function(\n",
    "    function=TwoRegular,\n",
    "    singularities=(1,),\n",
    "    precision=3\n",
    ")\n",
    "show(\"[z^n]\", SR(\"exp(-z/2)/sqrt(1-z)\"), \" = \\t\", asm)"
   ]
  },
  {
   "cell_type": "markdown",
   "metadata": {},
   "source": [
    "### Example 3.16 - Catalan Numbers"
   ]
  },
  {
   "cell_type": "code",
   "execution_count": 12,
   "metadata": {},
   "outputs": [
    {
     "data": {
      "text/html": [
       "<html>\\(\\displaystyle \\verb|[z^n]| -\\frac{\\sqrt{-4 \\, z + 1} - 1}{2 \\, z} \\verb| |\\verb|=|\\verb| |\\verb|\t| \\frac{1}{\\sqrt{\\pi}} 4^{n} n^{-\\frac{3}{2}} - \\frac{9}{8 \\, \\sqrt{\\pi}} 4^{n} n^{-\\frac{5}{2}} + \\frac{145}{128 \\, \\sqrt{\\pi}} 4^{n} n^{-\\frac{7}{2}} + O\\!\\left(4^{n} n^{-4}\\right)\\)</html>"
      ],
      "text/latex": [
       "$\\displaystyle \\verb|[z^n]| -\\frac{\\sqrt{-4 \\, z + 1} - 1}{2 \\, z} \\verb| |\\verb|=|\\verb| |\\verb|\t| \\frac{1}{\\sqrt{\\pi}} 4^{n} n^{-\\frac{3}{2}} - \\frac{9}{8 \\, \\sqrt{\\pi}} 4^{n} n^{-\\frac{5}{2}} + \\frac{145}{128 \\, \\sqrt{\\pi}} 4^{n} n^{-\\frac{7}{2}} + O\\!\\left(4^{n} n^{-4}\\right)$"
      ],
      "text/plain": [
       "'[z^n]' -1/2*(sqrt(-4*z + 1) - 1)/z ' = \\t' 1/sqrt(pi)*4^n*n^(-3/2) - 9/8/sqrt(pi)*4^n*n^(-5/2) + 145/128/sqrt(pi)*4^n*n^(-7/2) + O(4^n*n^(-4))"
      ]
     },
     "metadata": {},
     "output_type": "display_data"
    }
   ],
   "source": [
    "# Copied from above\n",
    "def catalan(z):\n",
    "    return (1-sqrt(1-4*z))/(2*z)\n",
    "\n",
    "asm = A.coefficients_of_generating_function(\n",
    "    function=catalan,\n",
    "    singularities=(1/4,),\n",
    "    precision=3\n",
    ")\n",
    "show(\"[z^n]\", SR(\"(1-sqrt(1-4*z))/(2*z)\"), \" = \\t\", asm)"
   ]
  },
  {
   "cell_type": "markdown",
   "metadata": {},
   "source": [
    "### Example 3.18 - Ordered Set Partitions"
   ]
  },
  {
   "cell_type": "code",
   "execution_count": 13,
   "metadata": {},
   "outputs": [
    {
     "name": "stdout",
     "output_type": "stream",
     "text": [
      "We have shown in the book that\n"
     ]
    },
    {
     "data": {
      "text/html": [
       "<html>\\(\\displaystyle \\verb|[z^n]| e^{\\left(-\\frac{z}{z - 1}\\right)} \\verb| |\\verb|~|\\verb| |\\verb|\t| \\frac{e^{\\left(2 \\, \\sqrt{n} - \\frac{1}{2}\\right)}}{2 \\, \\sqrt{\\pi} n^{\\frac{3}{4}}}\\)</html>"
      ],
      "text/latex": [
       "$\\displaystyle \\verb|[z^n]| e^{\\left(-\\frac{z}{z - 1}\\right)} \\verb| |\\verb|~|\\verb| |\\verb|\t| \\frac{e^{\\left(2 \\, \\sqrt{n} - \\frac{1}{2}\\right)}}{2 \\, \\sqrt{\\pi} n^{\\frac{3}{4}}}$"
      ],
      "text/plain": [
       "'[z^n]' e^(-z/(z - 1)) ' ~ \\t' 1/2*e^(2*sqrt(n) - 1/2)/(sqrt(pi)*n^(3/4))"
      ]
     },
     "metadata": {},
     "output_type": "display_data"
    }
   ],
   "source": [
    "var('n')\n",
    "F = exp(z/(1-z))\n",
    "coeffs = list(F.series(z,100).truncate().polynomial(QQ))\n",
    "asm = n^(-3/4)*exp(2*sqrt(n))/sqrt(4*pi*exp(1))\n",
    "print(\"We have shown in the book that\")\n",
    "show(\"[z^n]\", SR(\"exp(z/(1-z))\"), \" ~ \\t\", asm)"
   ]
  },
  {
   "cell_type": "code",
   "execution_count": 14,
   "metadata": {},
   "outputs": [
    {
     "data": {
      "image/png": "[encoded data removed]",
      "text/plain": [
       "Graphics object consisting of 1 graphics primitive"
      ]
     },
     "execution_count": 14,
     "metadata": {},
     "output_type": "execute_result"
    }
   ],
   "source": [
    "# Here we plot the ratio of the EGF coefficients to the predicted asymtptotic behaviour\n",
    "line([[k,coeffs[k]/asm.subs(n=k)] for k in range(1,100)])"
   ]
  },
  {
   "cell_type": "markdown",
   "metadata": {},
   "source": [
    "### Example 3.19 - involutions"
   ]
  },
  {
   "cell_type": "code",
   "execution_count": 15,
   "metadata": {},
   "outputs": [
    {
     "name": "stdout",
     "output_type": "stream",
     "text": [
      "We have shown in the book that\n"
     ]
    },
    {
     "data": {
      "text/html": [
       "<html>\\(\\displaystyle \\verb|[z^n]| e^{\\left(\\frac{1}{2} \\, z^{2} + z\\right)} \\verb| |\\verb|~|\\verb| |\\verb|\t| \\frac{1}{2} \\, \\sqrt{2} n^{\\frac{1}{2} \\, n} e^{\\left(-\\frac{1}{2} \\, n + \\sqrt{n} - \\frac{1}{4}\\right)}\\)</html>"
      ],
      "text/latex": [
       "$\\displaystyle \\verb|[z^n]| e^{\\left(\\frac{1}{2} \\, z^{2} + z\\right)} \\verb| |\\verb|~|\\verb| |\\verb|\t| \\frac{1}{2} \\, \\sqrt{2} n^{\\frac{1}{2} \\, n} e^{\\left(-\\frac{1}{2} \\, n + \\sqrt{n} - \\frac{1}{4}\\right)}$"
      ],
      "text/plain": [
       "'[z^n]' e^(1/2*z^2 + z) ' ~ \\t' 1/2*sqrt(2)*n^(1/2*n)*e^(-1/2*n + sqrt(n) - 1/4)"
      ]
     },
     "metadata": {},
     "output_type": "display_data"
    }
   ],
   "source": [
    "var('n')\n",
    "F = exp(z + z^2/2)\n",
    "coeffs = list(F.series(z,100).truncate().polynomial(QQ))\n",
    "asm = n^(n/2)*exp(sqrt(n)-n/2)/sqrt(2*exp(1/2))\n",
    "print(\"We have shown in the book that\")\n",
    "show(\"[z^n]\", SR(\"exp(z + z^2/2)\"), \" ~ \\t\", asm)"
   ]
  },
  {
   "cell_type": "code",
   "execution_count": 16,
   "metadata": {},
   "outputs": [
    {
     "data": {
      "image/png": "[encoded data removed]",
      "text/plain": [
       "Graphics object consisting of 1 graphics primitive"
      ]
     },
     "execution_count": 16,
     "metadata": {},
     "output_type": "execute_result"
    }
   ],
   "source": [
    "# Here we plot the ratio of the EGF coefficients to the predicted asymtptotic behaviour\n",
    "line([[k,factorial(k)*coeffs[k]/asm.subs(n=k)] for k in range(1,100)])"
   ]
  },
  {
   "cell_type": "code",
   "execution_count": null,
   "metadata": {},
   "outputs": [],
   "source": []
  }
 ],
 "metadata": {
  "kernelspec": {
   "display_name": "SageMath 10.1",
   "language": "sage",
   "name": "sagemath-10.1"
  },
  "language_info": {
   "codemirror_mode": {
    "name": "ipython",
    "version": 3
   },
   "file_extension": ".py",
   "mimetype": "text/x-python",
   "name": "python",
   "nbconvert_exporter": "python",
   "pygments_lexer": "ipython3",
   "version": "3.11.1"
  }
 },
 "nbformat": 4,
 "nbformat_minor": 4
}
